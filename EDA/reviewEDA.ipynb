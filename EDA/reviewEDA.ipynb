{
 "cells": [
  {
   "cell_type": "code",
   "execution_count": 13,
   "metadata": {
    "collapsed": true
   },
   "outputs": [],
   "source": [
    "# Importações\n",
    "import pandas as pd\n",
    "import numpy as np\n",
    "import seaborn as sns\n",
    "import matplotlib.pyplot as plt"
   ]
  },
  {
   "cell_type": "markdown",
   "source": [
    "# EDA"
   ],
   "metadata": {
    "collapsed": false
   }
  },
  {
   "cell_type": "code",
   "execution_count": 14,
   "outputs": [],
   "source": [
    "df_reviews = pd.read_parquet('../data/yelp_dataset/yelp_academic_dataset_review_0.parquet')\n",
    "df_reviews2 = pd.read_parquet('../data/yelp_dataset/yelp_academic_dataset_review_1.parquet')"
   ],
   "metadata": {
    "collapsed": false
   }
  },
  {
   "cell_type": "code",
   "execution_count": 15,
   "outputs": [],
   "source": [
    "df_reviews = pd.concat([df_reviews, df_reviews2])"
   ],
   "metadata": {
    "collapsed": false
   }
  },
  {
   "cell_type": "code",
   "execution_count": 16,
   "outputs": [],
   "source": [
    "del df_reviews2"
   ],
   "metadata": {
    "collapsed": false
   }
  },
  {
   "cell_type": "code",
   "execution_count": 17,
   "outputs": [
    {
     "name": "stdout",
     "output_type": "stream",
     "text": [
      "<class 'pandas.core.frame.DataFrame'>\n",
      "RangeIndex: 6990280 entries, 0 to 6990279\n",
      "Data columns (total 9 columns):\n",
      " #   Column       Dtype         \n",
      "---  ------       -----         \n",
      " 0   review_id    object        \n",
      " 1   user_id      object        \n",
      " 2   business_id  object        \n",
      " 3   stars        uint8         \n",
      " 4   useful       uint32        \n",
      " 5   funny        uint32        \n",
      " 6   cool         uint32        \n",
      " 7   text         object        \n",
      " 8   date         datetime64[ns]\n",
      "dtypes: datetime64[ns](1), object(4), uint32(3), uint8(1)\n",
      "memory usage: 353.3+ MB\n",
      "<class 'pandas.core.frame.DataFrame'>\n",
      "RangeIndex: 6990280 entries, 0 to 6990279\n",
      "Data columns (total 9 columns):\n",
      " #   Column       Dtype         \n",
      "---  ------       -----         \n",
      " 0   review_id    object        \n",
      " 1   user_id      object        \n",
      " 2   business_id  object        \n",
      " 3   stars        uint8         \n",
      " 4   useful       uint32        \n",
      " 5   funny        uint32        \n",
      " 6   cool         uint32        \n",
      " 7   text         object        \n",
      " 8   date         datetime64[ns]\n",
      "dtypes: datetime64[ns](1), object(4), uint32(3), uint8(1)\n",
      "memory usage: 353.3+ MB\n"
     ]
    }
   ],
   "source": [
    "df_reviews.info()"
   ],
   "metadata": {
    "collapsed": false
   }
  },
  {
   "cell_type": "markdown",
   "source": [
    "# Ideias"
   ],
   "metadata": {
    "collapsed": false
   }
  },
  {
   "cell_type": "markdown",
   "source": [
    "- os ids são para sincronização apenas.\n",
    "- as stars já estão sendo contabilizadas a média de cada review.\n",
    "- useful funny e cool podem ser intensificadores dos embeddings dos textos.\n",
    "- o texto será usado para extrair embeddings."
   ],
   "metadata": {
    "collapsed": false
   }
  },
  {
   "cell_type": "markdown",
   "source": [
    "## Verificando useful, funny e cool"
   ],
   "metadata": {
    "collapsed": false
   }
  },
  {
   "cell_type": "code",
   "execution_count": 18,
   "outputs": [
    {
     "data": {
      "text/plain": "             useful         funny          cool\ncount  6.990280e+06  6.990280e+06  6.990280e+06\nmean   2.458864e+03  1.229166e+03  6.149185e+02\nstd    3.248946e+06  2.297352e+06  1.624473e+06\nmin    0.000000e+00  0.000000e+00  0.000000e+00\n25%    0.000000e+00  0.000000e+00  0.000000e+00\n50%    0.000000e+00  0.000000e+00  0.000000e+00\n75%    1.000000e+00  0.000000e+00  0.000000e+00\nmax    4.294967e+09  4.294967e+09  4.294967e+09",
      "text/html": "<div>\n<style scoped>\n    .dataframe tbody tr th:only-of-type {\n        vertical-align: middle;\n    }\n\n    .dataframe tbody tr th {\n        vertical-align: top;\n    }\n\n    .dataframe thead th {\n        text-align: right;\n    }\n</style>\n<table border=\"1\" class=\"dataframe\">\n  <thead>\n    <tr style=\"text-align: right;\">\n      <th></th>\n      <th>useful</th>\n      <th>funny</th>\n      <th>cool</th>\n    </tr>\n  </thead>\n  <tbody>\n    <tr>\n      <th>count</th>\n      <td>6.990280e+06</td>\n      <td>6.990280e+06</td>\n      <td>6.990280e+06</td>\n    </tr>\n    <tr>\n      <th>mean</th>\n      <td>2.458864e+03</td>\n      <td>1.229166e+03</td>\n      <td>6.149185e+02</td>\n    </tr>\n    <tr>\n      <th>std</th>\n      <td>3.248946e+06</td>\n      <td>2.297352e+06</td>\n      <td>1.624473e+06</td>\n    </tr>\n    <tr>\n      <th>min</th>\n      <td>0.000000e+00</td>\n      <td>0.000000e+00</td>\n      <td>0.000000e+00</td>\n    </tr>\n    <tr>\n      <th>25%</th>\n      <td>0.000000e+00</td>\n      <td>0.000000e+00</td>\n      <td>0.000000e+00</td>\n    </tr>\n    <tr>\n      <th>50%</th>\n      <td>0.000000e+00</td>\n      <td>0.000000e+00</td>\n      <td>0.000000e+00</td>\n    </tr>\n    <tr>\n      <th>75%</th>\n      <td>1.000000e+00</td>\n      <td>0.000000e+00</td>\n      <td>0.000000e+00</td>\n    </tr>\n    <tr>\n      <th>max</th>\n      <td>4.294967e+09</td>\n      <td>4.294967e+09</td>\n      <td>4.294967e+09</td>\n    </tr>\n  </tbody>\n</table>\n</div>"
     },
     "execution_count": 6,
     "metadata": {},
     "output_type": "execute_result"
    },
    {
     "data": {
      "text/plain": "             useful         funny          cool\ncount  6.990280e+06  6.990280e+06  6.990280e+06\nmean   2.458864e+03  1.229166e+03  6.149185e+02\nstd    3.248946e+06  2.297352e+06  1.624473e+06\nmin    0.000000e+00  0.000000e+00  0.000000e+00\n25%    0.000000e+00  0.000000e+00  0.000000e+00\n50%    0.000000e+00  0.000000e+00  0.000000e+00\n75%    1.000000e+00  0.000000e+00  0.000000e+00\nmax    4.294967e+09  4.294967e+09  4.294967e+09",
      "text/html": "<div>\n<style scoped>\n    .dataframe tbody tr th:only-of-type {\n        vertical-align: middle;\n    }\n\n    .dataframe tbody tr th {\n        vertical-align: top;\n    }\n\n    .dataframe thead th {\n        text-align: right;\n    }\n</style>\n<table border=\"1\" class=\"dataframe\">\n  <thead>\n    <tr style=\"text-align: right;\">\n      <th></th>\n      <th>useful</th>\n      <th>funny</th>\n      <th>cool</th>\n    </tr>\n  </thead>\n  <tbody>\n    <tr>\n      <th>count</th>\n      <td>6.990280e+06</td>\n      <td>6.990280e+06</td>\n      <td>6.990280e+06</td>\n    </tr>\n    <tr>\n      <th>mean</th>\n      <td>2.458864e+03</td>\n      <td>1.229166e+03</td>\n      <td>6.149185e+02</td>\n    </tr>\n    <tr>\n      <th>std</th>\n      <td>3.248946e+06</td>\n      <td>2.297352e+06</td>\n      <td>1.624473e+06</td>\n    </tr>\n    <tr>\n      <th>min</th>\n      <td>0.000000e+00</td>\n      <td>0.000000e+00</td>\n      <td>0.000000e+00</td>\n    </tr>\n    <tr>\n      <th>25%</th>\n      <td>0.000000e+00</td>\n      <td>0.000000e+00</td>\n      <td>0.000000e+00</td>\n    </tr>\n    <tr>\n      <th>50%</th>\n      <td>0.000000e+00</td>\n      <td>0.000000e+00</td>\n      <td>0.000000e+00</td>\n    </tr>\n    <tr>\n      <th>75%</th>\n      <td>1.000000e+00</td>\n      <td>0.000000e+00</td>\n      <td>0.000000e+00</td>\n    </tr>\n    <tr>\n      <th>max</th>\n      <td>4.294967e+09</td>\n      <td>4.294967e+09</td>\n      <td>4.294967e+09</td>\n    </tr>\n  </tbody>\n</table>\n</div>"
     },
     "execution_count": 18,
     "metadata": {},
     "output_type": "execute_result"
    }
   ],
   "source": [
    "df_reviews[['useful', 'funny', 'cool']].describe()"
   ],
   "metadata": {
    "collapsed": false
   }
  },
  {
   "cell_type": "code",
   "execution_count": 19,
   "outputs": [
    {
     "data": {
      "text/plain": "                      review_id                 user_id  \\\n2201840  JcWLycg0Hdsz6LBNAqS37A  04j3r2Psfw_LxX1UXPhnyg   \n4383627  7tlF2NEDiFqMRjKBgTPJ3g  VKK7pPl6DfjL9H5b3n2yCA   \n6885693  pL_jmXOSPOMq71ZwrlRynQ  sMfFISqyKkxlLsRzYaL9Lw   \n6594545  ia5MN3Wnb17BV1j87Z0JqQ  22-JJw1bQrae7Cw5mG5mPQ   \n6509845  pxtflm6aOEbqGrQ7zgKyqQ  P-O2VMMeS2Uh9Ko-NQgygA   \n6664714  jdwKWblxwA31OfXxjtuZtA  Jed-PEquPj78qyejkevQyQ   \n6545191  h96WBcp9v9l_8pfqkCaE5w  EsPErKV3vyeXabGT4kpHIQ   \n5803802  iqT0AiXqUOjbPz7jitwU4g  BuydhNCH23lA9R3sNEJD2Q   \n6546248  a7JIzLKX5j5Hyw8_eyrBDA  zdIvdQXS_yW520WWlbA9Cg   \n6623094  Wr_ZbCFrrAmULSFm0qXCCw  TS2j_gt5qugbmQ1R_fq6TA   \n\n                    business_id  stars      useful       funny        cool  \\\n2201840  E3Qk7xTznkT0SABL2ltpHA      5  4294967295  4294967295  4294967295   \n4383627  qjstXewt23oCZnf86CsHXg      1           2  4294967295           2   \n6885693  iRIHK8-EwpeffwvoO4nzIA      1         112         792         107   \n6594545  _EqGhRXzlUaTpu5eToC8MA      5           1         378           0   \n6509845  _EqGhRXzlUaTpu5eToC8MA      5           1         375           0   \n6664714  _EqGhRXzlUaTpu5eToC8MA      4           6         370           0   \n6545191  _EqGhRXzlUaTpu5eToC8MA      5           9         369           1   \n5803802  47OfnYwhB3NTM8Tx_sNnbw      3           1         361           0   \n6546248  _EqGhRXzlUaTpu5eToC8MA      4           5         357           1   \n6623094  _EqGhRXzlUaTpu5eToC8MA      5          14         357           1   \n\n                                                      text                date  \n2201840  The food was so much better than I expected. T... 2017-10-05 02:47:33  \n4383627  The most horrible removal company I have ever ... 2017-02-25 23:40:34  \n6885693  Went there for a birthday dinner and had reser... 2017-02-19 13:26:19  \n6594545  Went to dinner here with the wife and the in-l... 2013-02-14 03:59:35  \n6509845  Went to Brick's last night and it was amazing!... 2013-03-18 06:29:58  \n6664714  I don't know why I used to think Bricks was a ... 2013-03-06 01:58:57  \n6545191  Bricks is easily the nicest restaurant in Reno... 2012-11-26 00:38:24  \n5803802  I'm torn about this review. Prices were steep,... 2013-03-04 07:33:31  \n6546248  Since my move to Reno I have heard very good t... 2012-11-03 19:14:59  \n6623094  We ended up here for a low key bachelor party ... 2012-04-23 04:05:25  ",
      "text/html": "<div>\n<style scoped>\n    .dataframe tbody tr th:only-of-type {\n        vertical-align: middle;\n    }\n\n    .dataframe tbody tr th {\n        vertical-align: top;\n    }\n\n    .dataframe thead th {\n        text-align: right;\n    }\n</style>\n<table border=\"1\" class=\"dataframe\">\n  <thead>\n    <tr style=\"text-align: right;\">\n      <th></th>\n      <th>review_id</th>\n      <th>user_id</th>\n      <th>business_id</th>\n      <th>stars</th>\n      <th>useful</th>\n      <th>funny</th>\n      <th>cool</th>\n      <th>text</th>\n      <th>date</th>\n    </tr>\n  </thead>\n  <tbody>\n    <tr>\n      <th>2201840</th>\n      <td>JcWLycg0Hdsz6LBNAqS37A</td>\n      <td>04j3r2Psfw_LxX1UXPhnyg</td>\n      <td>E3Qk7xTznkT0SABL2ltpHA</td>\n      <td>5</td>\n      <td>4294967295</td>\n      <td>4294967295</td>\n      <td>4294967295</td>\n      <td>The food was so much better than I expected. T...</td>\n      <td>2017-10-05 02:47:33</td>\n    </tr>\n    <tr>\n      <th>4383627</th>\n      <td>7tlF2NEDiFqMRjKBgTPJ3g</td>\n      <td>VKK7pPl6DfjL9H5b3n2yCA</td>\n      <td>qjstXewt23oCZnf86CsHXg</td>\n      <td>1</td>\n      <td>2</td>\n      <td>4294967295</td>\n      <td>2</td>\n      <td>The most horrible removal company I have ever ...</td>\n      <td>2017-02-25 23:40:34</td>\n    </tr>\n    <tr>\n      <th>6885693</th>\n      <td>pL_jmXOSPOMq71ZwrlRynQ</td>\n      <td>sMfFISqyKkxlLsRzYaL9Lw</td>\n      <td>iRIHK8-EwpeffwvoO4nzIA</td>\n      <td>1</td>\n      <td>112</td>\n      <td>792</td>\n      <td>107</td>\n      <td>Went there for a birthday dinner and had reser...</td>\n      <td>2017-02-19 13:26:19</td>\n    </tr>\n    <tr>\n      <th>6594545</th>\n      <td>ia5MN3Wnb17BV1j87Z0JqQ</td>\n      <td>22-JJw1bQrae7Cw5mG5mPQ</td>\n      <td>_EqGhRXzlUaTpu5eToC8MA</td>\n      <td>5</td>\n      <td>1</td>\n      <td>378</td>\n      <td>0</td>\n      <td>Went to dinner here with the wife and the in-l...</td>\n      <td>2013-02-14 03:59:35</td>\n    </tr>\n    <tr>\n      <th>6509845</th>\n      <td>pxtflm6aOEbqGrQ7zgKyqQ</td>\n      <td>P-O2VMMeS2Uh9Ko-NQgygA</td>\n      <td>_EqGhRXzlUaTpu5eToC8MA</td>\n      <td>5</td>\n      <td>1</td>\n      <td>375</td>\n      <td>0</td>\n      <td>Went to Brick's last night and it was amazing!...</td>\n      <td>2013-03-18 06:29:58</td>\n    </tr>\n    <tr>\n      <th>6664714</th>\n      <td>jdwKWblxwA31OfXxjtuZtA</td>\n      <td>Jed-PEquPj78qyejkevQyQ</td>\n      <td>_EqGhRXzlUaTpu5eToC8MA</td>\n      <td>4</td>\n      <td>6</td>\n      <td>370</td>\n      <td>0</td>\n      <td>I don't know why I used to think Bricks was a ...</td>\n      <td>2013-03-06 01:58:57</td>\n    </tr>\n    <tr>\n      <th>6545191</th>\n      <td>h96WBcp9v9l_8pfqkCaE5w</td>\n      <td>EsPErKV3vyeXabGT4kpHIQ</td>\n      <td>_EqGhRXzlUaTpu5eToC8MA</td>\n      <td>5</td>\n      <td>9</td>\n      <td>369</td>\n      <td>1</td>\n      <td>Bricks is easily the nicest restaurant in Reno...</td>\n      <td>2012-11-26 00:38:24</td>\n    </tr>\n    <tr>\n      <th>5803802</th>\n      <td>iqT0AiXqUOjbPz7jitwU4g</td>\n      <td>BuydhNCH23lA9R3sNEJD2Q</td>\n      <td>47OfnYwhB3NTM8Tx_sNnbw</td>\n      <td>3</td>\n      <td>1</td>\n      <td>361</td>\n      <td>0</td>\n      <td>I'm torn about this review. Prices were steep,...</td>\n      <td>2013-03-04 07:33:31</td>\n    </tr>\n    <tr>\n      <th>6546248</th>\n      <td>a7JIzLKX5j5Hyw8_eyrBDA</td>\n      <td>zdIvdQXS_yW520WWlbA9Cg</td>\n      <td>_EqGhRXzlUaTpu5eToC8MA</td>\n      <td>4</td>\n      <td>5</td>\n      <td>357</td>\n      <td>1</td>\n      <td>Since my move to Reno I have heard very good t...</td>\n      <td>2012-11-03 19:14:59</td>\n    </tr>\n    <tr>\n      <th>6623094</th>\n      <td>Wr_ZbCFrrAmULSFm0qXCCw</td>\n      <td>TS2j_gt5qugbmQ1R_fq6TA</td>\n      <td>_EqGhRXzlUaTpu5eToC8MA</td>\n      <td>5</td>\n      <td>14</td>\n      <td>357</td>\n      <td>1</td>\n      <td>We ended up here for a low key bachelor party ...</td>\n      <td>2012-04-23 04:05:25</td>\n    </tr>\n  </tbody>\n</table>\n</div>"
     },
     "execution_count": 7,
     "metadata": {},
     "output_type": "execute_result"
    },
    {
     "data": {
      "text/plain": "                      review_id                 user_id  \\\n2201840  JcWLycg0Hdsz6LBNAqS37A  04j3r2Psfw_LxX1UXPhnyg   \n4383627  7tlF2NEDiFqMRjKBgTPJ3g  VKK7pPl6DfjL9H5b3n2yCA   \n6885693  pL_jmXOSPOMq71ZwrlRynQ  sMfFISqyKkxlLsRzYaL9Lw   \n6594545  ia5MN3Wnb17BV1j87Z0JqQ  22-JJw1bQrae7Cw5mG5mPQ   \n6509845  pxtflm6aOEbqGrQ7zgKyqQ  P-O2VMMeS2Uh9Ko-NQgygA   \n6664714  jdwKWblxwA31OfXxjtuZtA  Jed-PEquPj78qyejkevQyQ   \n6545191  h96WBcp9v9l_8pfqkCaE5w  EsPErKV3vyeXabGT4kpHIQ   \n5803802  iqT0AiXqUOjbPz7jitwU4g  BuydhNCH23lA9R3sNEJD2Q   \n6546248  a7JIzLKX5j5Hyw8_eyrBDA  zdIvdQXS_yW520WWlbA9Cg   \n6623094  Wr_ZbCFrrAmULSFm0qXCCw  TS2j_gt5qugbmQ1R_fq6TA   \n\n                    business_id  stars      useful       funny        cool  \\\n2201840  E3Qk7xTznkT0SABL2ltpHA      5  4294967295  4294967295  4294967295   \n4383627  qjstXewt23oCZnf86CsHXg      1           2  4294967295           2   \n6885693  iRIHK8-EwpeffwvoO4nzIA      1         112         792         107   \n6594545  _EqGhRXzlUaTpu5eToC8MA      5           1         378           0   \n6509845  _EqGhRXzlUaTpu5eToC8MA      5           1         375           0   \n6664714  _EqGhRXzlUaTpu5eToC8MA      4           6         370           0   \n6545191  _EqGhRXzlUaTpu5eToC8MA      5           9         369           1   \n5803802  47OfnYwhB3NTM8Tx_sNnbw      3           1         361           0   \n6546248  _EqGhRXzlUaTpu5eToC8MA      4           5         357           1   \n6623094  _EqGhRXzlUaTpu5eToC8MA      5          14         357           1   \n\n                                                      text                date  \n2201840  The food was so much better than I expected. T... 2017-10-05 02:47:33  \n4383627  The most horrible removal company I have ever ... 2017-02-25 23:40:34  \n6885693  Went there for a birthday dinner and had reser... 2017-02-19 13:26:19  \n6594545  Went to dinner here with the wife and the in-l... 2013-02-14 03:59:35  \n6509845  Went to Brick's last night and it was amazing!... 2013-03-18 06:29:58  \n6664714  I don't know why I used to think Bricks was a ... 2013-03-06 01:58:57  \n6545191  Bricks is easily the nicest restaurant in Reno... 2012-11-26 00:38:24  \n5803802  I'm torn about this review. Prices were steep,... 2013-03-04 07:33:31  \n6546248  Since my move to Reno I have heard very good t... 2012-11-03 19:14:59  \n6623094  We ended up here for a low key bachelor party ... 2012-04-23 04:05:25  ",
      "text/html": "<div>\n<style scoped>\n    .dataframe tbody tr th:only-of-type {\n        vertical-align: middle;\n    }\n\n    .dataframe tbody tr th {\n        vertical-align: top;\n    }\n\n    .dataframe thead th {\n        text-align: right;\n    }\n</style>\n<table border=\"1\" class=\"dataframe\">\n  <thead>\n    <tr style=\"text-align: right;\">\n      <th></th>\n      <th>review_id</th>\n      <th>user_id</th>\n      <th>business_id</th>\n      <th>stars</th>\n      <th>useful</th>\n      <th>funny</th>\n      <th>cool</th>\n      <th>text</th>\n      <th>date</th>\n    </tr>\n  </thead>\n  <tbody>\n    <tr>\n      <th>2201840</th>\n      <td>JcWLycg0Hdsz6LBNAqS37A</td>\n      <td>04j3r2Psfw_LxX1UXPhnyg</td>\n      <td>E3Qk7xTznkT0SABL2ltpHA</td>\n      <td>5</td>\n      <td>4294967295</td>\n      <td>4294967295</td>\n      <td>4294967295</td>\n      <td>The food was so much better than I expected. T...</td>\n      <td>2017-10-05 02:47:33</td>\n    </tr>\n    <tr>\n      <th>4383627</th>\n      <td>7tlF2NEDiFqMRjKBgTPJ3g</td>\n      <td>VKK7pPl6DfjL9H5b3n2yCA</td>\n      <td>qjstXewt23oCZnf86CsHXg</td>\n      <td>1</td>\n      <td>2</td>\n      <td>4294967295</td>\n      <td>2</td>\n      <td>The most horrible removal company I have ever ...</td>\n      <td>2017-02-25 23:40:34</td>\n    </tr>\n    <tr>\n      <th>6885693</th>\n      <td>pL_jmXOSPOMq71ZwrlRynQ</td>\n      <td>sMfFISqyKkxlLsRzYaL9Lw</td>\n      <td>iRIHK8-EwpeffwvoO4nzIA</td>\n      <td>1</td>\n      <td>112</td>\n      <td>792</td>\n      <td>107</td>\n      <td>Went there for a birthday dinner and had reser...</td>\n      <td>2017-02-19 13:26:19</td>\n    </tr>\n    <tr>\n      <th>6594545</th>\n      <td>ia5MN3Wnb17BV1j87Z0JqQ</td>\n      <td>22-JJw1bQrae7Cw5mG5mPQ</td>\n      <td>_EqGhRXzlUaTpu5eToC8MA</td>\n      <td>5</td>\n      <td>1</td>\n      <td>378</td>\n      <td>0</td>\n      <td>Went to dinner here with the wife and the in-l...</td>\n      <td>2013-02-14 03:59:35</td>\n    </tr>\n    <tr>\n      <th>6509845</th>\n      <td>pxtflm6aOEbqGrQ7zgKyqQ</td>\n      <td>P-O2VMMeS2Uh9Ko-NQgygA</td>\n      <td>_EqGhRXzlUaTpu5eToC8MA</td>\n      <td>5</td>\n      <td>1</td>\n      <td>375</td>\n      <td>0</td>\n      <td>Went to Brick's last night and it was amazing!...</td>\n      <td>2013-03-18 06:29:58</td>\n    </tr>\n    <tr>\n      <th>6664714</th>\n      <td>jdwKWblxwA31OfXxjtuZtA</td>\n      <td>Jed-PEquPj78qyejkevQyQ</td>\n      <td>_EqGhRXzlUaTpu5eToC8MA</td>\n      <td>4</td>\n      <td>6</td>\n      <td>370</td>\n      <td>0</td>\n      <td>I don't know why I used to think Bricks was a ...</td>\n      <td>2013-03-06 01:58:57</td>\n    </tr>\n    <tr>\n      <th>6545191</th>\n      <td>h96WBcp9v9l_8pfqkCaE5w</td>\n      <td>EsPErKV3vyeXabGT4kpHIQ</td>\n      <td>_EqGhRXzlUaTpu5eToC8MA</td>\n      <td>5</td>\n      <td>9</td>\n      <td>369</td>\n      <td>1</td>\n      <td>Bricks is easily the nicest restaurant in Reno...</td>\n      <td>2012-11-26 00:38:24</td>\n    </tr>\n    <tr>\n      <th>5803802</th>\n      <td>iqT0AiXqUOjbPz7jitwU4g</td>\n      <td>BuydhNCH23lA9R3sNEJD2Q</td>\n      <td>47OfnYwhB3NTM8Tx_sNnbw</td>\n      <td>3</td>\n      <td>1</td>\n      <td>361</td>\n      <td>0</td>\n      <td>I'm torn about this review. Prices were steep,...</td>\n      <td>2013-03-04 07:33:31</td>\n    </tr>\n    <tr>\n      <th>6546248</th>\n      <td>a7JIzLKX5j5Hyw8_eyrBDA</td>\n      <td>zdIvdQXS_yW520WWlbA9Cg</td>\n      <td>_EqGhRXzlUaTpu5eToC8MA</td>\n      <td>4</td>\n      <td>5</td>\n      <td>357</td>\n      <td>1</td>\n      <td>Since my move to Reno I have heard very good t...</td>\n      <td>2012-11-03 19:14:59</td>\n    </tr>\n    <tr>\n      <th>6623094</th>\n      <td>Wr_ZbCFrrAmULSFm0qXCCw</td>\n      <td>TS2j_gt5qugbmQ1R_fq6TA</td>\n      <td>_EqGhRXzlUaTpu5eToC8MA</td>\n      <td>5</td>\n      <td>14</td>\n      <td>357</td>\n      <td>1</td>\n      <td>We ended up here for a low key bachelor party ...</td>\n      <td>2012-04-23 04:05:25</td>\n    </tr>\n  </tbody>\n</table>\n</div>"
     },
     "execution_count": 19,
     "metadata": {},
     "output_type": "execute_result"
    }
   ],
   "source": [
    "# verificando os maiores valores\n",
    "df_reviews.nlargest(10, 'funny')"
   ],
   "metadata": {
    "collapsed": false
   }
  },
  {
   "cell_type": "markdown",
   "source": [
    "> Há uma grave presença de outliers nas colunas useful, funny e cool.\n",
    "> A maior parte dos valores são 0.\n",
    "> As avalizações que recebem votos não passam de 1000 votos."
   ],
   "metadata": {
    "collapsed": false
   }
  },
  {
   "cell_type": "code",
   "execution_count": 20,
   "outputs": [],
   "source": [
    "# alterando o valor máximo para 1000\n",
    "df_reviews['useful'] = df_reviews['useful'].apply(lambda x: 1000 if x > 1000 else x)\n",
    "df_reviews['funny'] = df_reviews['funny'].apply(lambda x: 1000 if x > 1000 else x)\n",
    "df_reviews['cool'] = df_reviews['cool'].apply(lambda x: 1000 if x > 1000 else x)"
   ],
   "metadata": {
    "collapsed": false
   }
  },
  {
   "cell_type": "code",
   "execution_count": 21,
   "outputs": [
    {
     "data": {
      "text/plain": "                      review_id                 user_id  \\\n1933674  plhadSWfXZFKRAhEztb6Dw  0Q4ouqkcwrVE_Im6a6Tomw   \n2008201  gk_9N_c-7oEgzrXVDaR8-g  lEOLrNxD4wknYyERp1FGXw   \n2046381  iYS4pfUCUPT_TEmW6BOnrA  1p8Pu1pvAsuNtuZDtn2OkQ   \n2201840  JcWLycg0Hdsz6LBNAqS37A  04j3r2Psfw_LxX1UXPhnyg   \n6793158  b0HBLNn02tkpC9rIyPRc_Q  aMR0N5sy95Qz0sUjg1bmYA   \n6640623  kTSpD7akIapty9AtLwJ11g  aPpOZxh2p1SoWxRL3ulYGQ   \n6595985  _KhSKjKKXoLgINKv7lTr0Q  CHN_EDxhElh9DS1Vud6-hA   \n6599431  TFlWosaJn3lVJwgm3nrVYA  9YOVI-bxiiOx0bTZ-J_Irw   \n6639966  Gxdq755Cb8ItoHb9kynwlA  AGDsEynt1YHtUR9mQhf4ww   \n6702919  I4tJGAFdH3A_4p2cMBTAkw  7B3WYE0mgxKZ56672FGhKQ   \n\n                    business_id  stars  useful  funny  cool  \\\n1933674  SJQePJL1bkeEk-6gp-6eeA      1    1000      0     0   \n2008201  SJQePJL1bkeEk-6gp-6eeA      1    1000      0     0   \n2046381  SJQePJL1bkeEk-6gp-6eeA      3    1000      0     0   \n2201840  E3Qk7xTznkT0SABL2ltpHA      5    1000   1000  1000   \n6793158  3RcQ7yTvJn9LLuXthTkWiQ      1    1000      0     0   \n6640623  3RcQ7yTvJn9LLuXthTkWiQ      1     997      0     0   \n6595985  3RcQ7yTvJn9LLuXthTkWiQ      1     969      0     0   \n6599431  3RcQ7yTvJn9LLuXthTkWiQ      1     933      0     0   \n6639966  3RcQ7yTvJn9LLuXthTkWiQ      1     883      0     0   \n6702919  3RcQ7yTvJn9LLuXthTkWiQ      1     868      0     0   \n\n                                                      text                date  \n1933674  This complaint has nothing to do with the qual... 2018-12-23 01:35:31  \n2008201  Only bounce play place in Hendersonville and t... 2016-01-17 00:21:53  \n2046381  Having been to bouncy places across the countr... 2017-01-18 18:11:15  \n2201840  The food was so much better than I expected. T... 2017-10-05 02:47:33  \n6793158  Avoid at ALL costs.  Do NOT do business with D... 2016-11-22 01:12:43  \n6640623  WORST COMPANY EVER!\\n\\nI had the unfortunate e... 2016-01-29 19:48:53  \n6595985  I set up for automatic withdrawals online.  On... 2016-09-28 23:04:48  \n6599431  If you are unfortunate enough to have to deal ... 2017-01-13 18:26:56  \n6639966  This company is a nightmare. I was in Army Ran... 2016-08-21 01:29:43  \n6702919  Okay, so it's tax time, April 1, and I need my... 2016-04-02 16:22:46  ",
      "text/html": "<div>\n<style scoped>\n    .dataframe tbody tr th:only-of-type {\n        vertical-align: middle;\n    }\n\n    .dataframe tbody tr th {\n        vertical-align: top;\n    }\n\n    .dataframe thead th {\n        text-align: right;\n    }\n</style>\n<table border=\"1\" class=\"dataframe\">\n  <thead>\n    <tr style=\"text-align: right;\">\n      <th></th>\n      <th>review_id</th>\n      <th>user_id</th>\n      <th>business_id</th>\n      <th>stars</th>\n      <th>useful</th>\n      <th>funny</th>\n      <th>cool</th>\n      <th>text</th>\n      <th>date</th>\n    </tr>\n  </thead>\n  <tbody>\n    <tr>\n      <th>1933674</th>\n      <td>plhadSWfXZFKRAhEztb6Dw</td>\n      <td>0Q4ouqkcwrVE_Im6a6Tomw</td>\n      <td>SJQePJL1bkeEk-6gp-6eeA</td>\n      <td>1</td>\n      <td>1000</td>\n      <td>0</td>\n      <td>0</td>\n      <td>This complaint has nothing to do with the qual...</td>\n      <td>2018-12-23 01:35:31</td>\n    </tr>\n    <tr>\n      <th>2008201</th>\n      <td>gk_9N_c-7oEgzrXVDaR8-g</td>\n      <td>lEOLrNxD4wknYyERp1FGXw</td>\n      <td>SJQePJL1bkeEk-6gp-6eeA</td>\n      <td>1</td>\n      <td>1000</td>\n      <td>0</td>\n      <td>0</td>\n      <td>Only bounce play place in Hendersonville and t...</td>\n      <td>2016-01-17 00:21:53</td>\n    </tr>\n    <tr>\n      <th>2046381</th>\n      <td>iYS4pfUCUPT_TEmW6BOnrA</td>\n      <td>1p8Pu1pvAsuNtuZDtn2OkQ</td>\n      <td>SJQePJL1bkeEk-6gp-6eeA</td>\n      <td>3</td>\n      <td>1000</td>\n      <td>0</td>\n      <td>0</td>\n      <td>Having been to bouncy places across the countr...</td>\n      <td>2017-01-18 18:11:15</td>\n    </tr>\n    <tr>\n      <th>2201840</th>\n      <td>JcWLycg0Hdsz6LBNAqS37A</td>\n      <td>04j3r2Psfw_LxX1UXPhnyg</td>\n      <td>E3Qk7xTznkT0SABL2ltpHA</td>\n      <td>5</td>\n      <td>1000</td>\n      <td>1000</td>\n      <td>1000</td>\n      <td>The food was so much better than I expected. T...</td>\n      <td>2017-10-05 02:47:33</td>\n    </tr>\n    <tr>\n      <th>6793158</th>\n      <td>b0HBLNn02tkpC9rIyPRc_Q</td>\n      <td>aMR0N5sy95Qz0sUjg1bmYA</td>\n      <td>3RcQ7yTvJn9LLuXthTkWiQ</td>\n      <td>1</td>\n      <td>1000</td>\n      <td>0</td>\n      <td>0</td>\n      <td>Avoid at ALL costs.  Do NOT do business with D...</td>\n      <td>2016-11-22 01:12:43</td>\n    </tr>\n    <tr>\n      <th>6640623</th>\n      <td>kTSpD7akIapty9AtLwJ11g</td>\n      <td>aPpOZxh2p1SoWxRL3ulYGQ</td>\n      <td>3RcQ7yTvJn9LLuXthTkWiQ</td>\n      <td>1</td>\n      <td>997</td>\n      <td>0</td>\n      <td>0</td>\n      <td>WORST COMPANY EVER!\\n\\nI had the unfortunate e...</td>\n      <td>2016-01-29 19:48:53</td>\n    </tr>\n    <tr>\n      <th>6595985</th>\n      <td>_KhSKjKKXoLgINKv7lTr0Q</td>\n      <td>CHN_EDxhElh9DS1Vud6-hA</td>\n      <td>3RcQ7yTvJn9LLuXthTkWiQ</td>\n      <td>1</td>\n      <td>969</td>\n      <td>0</td>\n      <td>0</td>\n      <td>I set up for automatic withdrawals online.  On...</td>\n      <td>2016-09-28 23:04:48</td>\n    </tr>\n    <tr>\n      <th>6599431</th>\n      <td>TFlWosaJn3lVJwgm3nrVYA</td>\n      <td>9YOVI-bxiiOx0bTZ-J_Irw</td>\n      <td>3RcQ7yTvJn9LLuXthTkWiQ</td>\n      <td>1</td>\n      <td>933</td>\n      <td>0</td>\n      <td>0</td>\n      <td>If you are unfortunate enough to have to deal ...</td>\n      <td>2017-01-13 18:26:56</td>\n    </tr>\n    <tr>\n      <th>6639966</th>\n      <td>Gxdq755Cb8ItoHb9kynwlA</td>\n      <td>AGDsEynt1YHtUR9mQhf4ww</td>\n      <td>3RcQ7yTvJn9LLuXthTkWiQ</td>\n      <td>1</td>\n      <td>883</td>\n      <td>0</td>\n      <td>0</td>\n      <td>This company is a nightmare. I was in Army Ran...</td>\n      <td>2016-08-21 01:29:43</td>\n    </tr>\n    <tr>\n      <th>6702919</th>\n      <td>I4tJGAFdH3A_4p2cMBTAkw</td>\n      <td>7B3WYE0mgxKZ56672FGhKQ</td>\n      <td>3RcQ7yTvJn9LLuXthTkWiQ</td>\n      <td>1</td>\n      <td>868</td>\n      <td>0</td>\n      <td>0</td>\n      <td>Okay, so it's tax time, April 1, and I need my...</td>\n      <td>2016-04-02 16:22:46</td>\n    </tr>\n  </tbody>\n</table>\n</div>"
     },
     "execution_count": 9,
     "metadata": {},
     "output_type": "execute_result"
    },
    {
     "data": {
      "text/plain": "                      review_id                 user_id  \\\n1933674  plhadSWfXZFKRAhEztb6Dw  0Q4ouqkcwrVE_Im6a6Tomw   \n2008201  gk_9N_c-7oEgzrXVDaR8-g  lEOLrNxD4wknYyERp1FGXw   \n2046381  iYS4pfUCUPT_TEmW6BOnrA  1p8Pu1pvAsuNtuZDtn2OkQ   \n2201840  JcWLycg0Hdsz6LBNAqS37A  04j3r2Psfw_LxX1UXPhnyg   \n6793158  b0HBLNn02tkpC9rIyPRc_Q  aMR0N5sy95Qz0sUjg1bmYA   \n6640623  kTSpD7akIapty9AtLwJ11g  aPpOZxh2p1SoWxRL3ulYGQ   \n6595985  _KhSKjKKXoLgINKv7lTr0Q  CHN_EDxhElh9DS1Vud6-hA   \n6599431  TFlWosaJn3lVJwgm3nrVYA  9YOVI-bxiiOx0bTZ-J_Irw   \n6639966  Gxdq755Cb8ItoHb9kynwlA  AGDsEynt1YHtUR9mQhf4ww   \n6702919  I4tJGAFdH3A_4p2cMBTAkw  7B3WYE0mgxKZ56672FGhKQ   \n\n                    business_id  stars  useful  funny  cool  \\\n1933674  SJQePJL1bkeEk-6gp-6eeA      1    1000      0     0   \n2008201  SJQePJL1bkeEk-6gp-6eeA      1    1000      0     0   \n2046381  SJQePJL1bkeEk-6gp-6eeA      3    1000      0     0   \n2201840  E3Qk7xTznkT0SABL2ltpHA      5    1000   1000  1000   \n6793158  3RcQ7yTvJn9LLuXthTkWiQ      1    1000      0     0   \n6640623  3RcQ7yTvJn9LLuXthTkWiQ      1     997      0     0   \n6595985  3RcQ7yTvJn9LLuXthTkWiQ      1     969      0     0   \n6599431  3RcQ7yTvJn9LLuXthTkWiQ      1     933      0     0   \n6639966  3RcQ7yTvJn9LLuXthTkWiQ      1     883      0     0   \n6702919  3RcQ7yTvJn9LLuXthTkWiQ      1     868      0     0   \n\n                                                      text                date  \n1933674  This complaint has nothing to do with the qual... 2018-12-23 01:35:31  \n2008201  Only bounce play place in Hendersonville and t... 2016-01-17 00:21:53  \n2046381  Having been to bouncy places across the countr... 2017-01-18 18:11:15  \n2201840  The food was so much better than I expected. T... 2017-10-05 02:47:33  \n6793158  Avoid at ALL costs.  Do NOT do business with D... 2016-11-22 01:12:43  \n6640623  WORST COMPANY EVER!\\n\\nI had the unfortunate e... 2016-01-29 19:48:53  \n6595985  I set up for automatic withdrawals online.  On... 2016-09-28 23:04:48  \n6599431  If you are unfortunate enough to have to deal ... 2017-01-13 18:26:56  \n6639966  This company is a nightmare. I was in Army Ran... 2016-08-21 01:29:43  \n6702919  Okay, so it's tax time, April 1, and I need my... 2016-04-02 16:22:46  ",
      "text/html": "<div>\n<style scoped>\n    .dataframe tbody tr th:only-of-type {\n        vertical-align: middle;\n    }\n\n    .dataframe tbody tr th {\n        vertical-align: top;\n    }\n\n    .dataframe thead th {\n        text-align: right;\n    }\n</style>\n<table border=\"1\" class=\"dataframe\">\n  <thead>\n    <tr style=\"text-align: right;\">\n      <th></th>\n      <th>review_id</th>\n      <th>user_id</th>\n      <th>business_id</th>\n      <th>stars</th>\n      <th>useful</th>\n      <th>funny</th>\n      <th>cool</th>\n      <th>text</th>\n      <th>date</th>\n    </tr>\n  </thead>\n  <tbody>\n    <tr>\n      <th>1933674</th>\n      <td>plhadSWfXZFKRAhEztb6Dw</td>\n      <td>0Q4ouqkcwrVE_Im6a6Tomw</td>\n      <td>SJQePJL1bkeEk-6gp-6eeA</td>\n      <td>1</td>\n      <td>1000</td>\n      <td>0</td>\n      <td>0</td>\n      <td>This complaint has nothing to do with the qual...</td>\n      <td>2018-12-23 01:35:31</td>\n    </tr>\n    <tr>\n      <th>2008201</th>\n      <td>gk_9N_c-7oEgzrXVDaR8-g</td>\n      <td>lEOLrNxD4wknYyERp1FGXw</td>\n      <td>SJQePJL1bkeEk-6gp-6eeA</td>\n      <td>1</td>\n      <td>1000</td>\n      <td>0</td>\n      <td>0</td>\n      <td>Only bounce play place in Hendersonville and t...</td>\n      <td>2016-01-17 00:21:53</td>\n    </tr>\n    <tr>\n      <th>2046381</th>\n      <td>iYS4pfUCUPT_TEmW6BOnrA</td>\n      <td>1p8Pu1pvAsuNtuZDtn2OkQ</td>\n      <td>SJQePJL1bkeEk-6gp-6eeA</td>\n      <td>3</td>\n      <td>1000</td>\n      <td>0</td>\n      <td>0</td>\n      <td>Having been to bouncy places across the countr...</td>\n      <td>2017-01-18 18:11:15</td>\n    </tr>\n    <tr>\n      <th>2201840</th>\n      <td>JcWLycg0Hdsz6LBNAqS37A</td>\n      <td>04j3r2Psfw_LxX1UXPhnyg</td>\n      <td>E3Qk7xTznkT0SABL2ltpHA</td>\n      <td>5</td>\n      <td>1000</td>\n      <td>1000</td>\n      <td>1000</td>\n      <td>The food was so much better than I expected. T...</td>\n      <td>2017-10-05 02:47:33</td>\n    </tr>\n    <tr>\n      <th>6793158</th>\n      <td>b0HBLNn02tkpC9rIyPRc_Q</td>\n      <td>aMR0N5sy95Qz0sUjg1bmYA</td>\n      <td>3RcQ7yTvJn9LLuXthTkWiQ</td>\n      <td>1</td>\n      <td>1000</td>\n      <td>0</td>\n      <td>0</td>\n      <td>Avoid at ALL costs.  Do NOT do business with D...</td>\n      <td>2016-11-22 01:12:43</td>\n    </tr>\n    <tr>\n      <th>6640623</th>\n      <td>kTSpD7akIapty9AtLwJ11g</td>\n      <td>aPpOZxh2p1SoWxRL3ulYGQ</td>\n      <td>3RcQ7yTvJn9LLuXthTkWiQ</td>\n      <td>1</td>\n      <td>997</td>\n      <td>0</td>\n      <td>0</td>\n      <td>WORST COMPANY EVER!\\n\\nI had the unfortunate e...</td>\n      <td>2016-01-29 19:48:53</td>\n    </tr>\n    <tr>\n      <th>6595985</th>\n      <td>_KhSKjKKXoLgINKv7lTr0Q</td>\n      <td>CHN_EDxhElh9DS1Vud6-hA</td>\n      <td>3RcQ7yTvJn9LLuXthTkWiQ</td>\n      <td>1</td>\n      <td>969</td>\n      <td>0</td>\n      <td>0</td>\n      <td>I set up for automatic withdrawals online.  On...</td>\n      <td>2016-09-28 23:04:48</td>\n    </tr>\n    <tr>\n      <th>6599431</th>\n      <td>TFlWosaJn3lVJwgm3nrVYA</td>\n      <td>9YOVI-bxiiOx0bTZ-J_Irw</td>\n      <td>3RcQ7yTvJn9LLuXthTkWiQ</td>\n      <td>1</td>\n      <td>933</td>\n      <td>0</td>\n      <td>0</td>\n      <td>If you are unfortunate enough to have to deal ...</td>\n      <td>2017-01-13 18:26:56</td>\n    </tr>\n    <tr>\n      <th>6639966</th>\n      <td>Gxdq755Cb8ItoHb9kynwlA</td>\n      <td>AGDsEynt1YHtUR9mQhf4ww</td>\n      <td>3RcQ7yTvJn9LLuXthTkWiQ</td>\n      <td>1</td>\n      <td>883</td>\n      <td>0</td>\n      <td>0</td>\n      <td>This company is a nightmare. I was in Army Ran...</td>\n      <td>2016-08-21 01:29:43</td>\n    </tr>\n    <tr>\n      <th>6702919</th>\n      <td>I4tJGAFdH3A_4p2cMBTAkw</td>\n      <td>7B3WYE0mgxKZ56672FGhKQ</td>\n      <td>3RcQ7yTvJn9LLuXthTkWiQ</td>\n      <td>1</td>\n      <td>868</td>\n      <td>0</td>\n      <td>0</td>\n      <td>Okay, so it's tax time, April 1, and I need my...</td>\n      <td>2016-04-02 16:22:46</td>\n    </tr>\n  </tbody>\n</table>\n</div>"
     },
     "execution_count": 21,
     "metadata": {},
     "output_type": "execute_result"
    }
   ],
   "source": [
    "df_reviews.nlargest(10, 'useful')"
   ],
   "metadata": {
    "collapsed": false
   }
  },
  {
   "cell_type": "markdown",
   "source": [
    "Para lidar com as diferenças de escala, vamos usar escala logarítmica."
   ],
   "metadata": {
    "collapsed": false
   }
  },
  {
   "cell_type": "code",
   "execution_count": 22,
   "outputs": [],
   "source": [
    "# replace de nulos por 0\n",
    "df_reviews['useful'] = df_reviews['useful'].fillna(0)\n",
    "df_reviews['funny'] = df_reviews['funny'].fillna(0)\n",
    "df_reviews['cool'] = df_reviews['cool'].fillna(0)"
   ],
   "metadata": {
    "collapsed": false
   }
  },
  {
   "cell_type": "code",
   "execution_count": 23,
   "outputs": [],
   "source": [
    "# passando para escala logarítmica e adicionar a constante de euler para evitar log(0)\n",
    "df_reviews[\"useful\"] = np.log(df_reviews[\"useful\"] + np.e)\n",
    "df_reviews[\"funny\"] = np.log(df_reviews[\"funny\"] + np.e)\n",
    "df_reviews[\"cool\"] = np.log(df_reviews[\"cool\"] + np.e)"
   ],
   "metadata": {
    "collapsed": false
   }
  },
  {
   "cell_type": "code",
   "execution_count": 24,
   "outputs": [
    {
     "data": {
      "text/plain": "             useful         funny          cool\ncount  6.990280e+06  6.990280e+06  6.990280e+06\nmean   1.260750e+00  1.077181e+00  1.114472e+00\nstd    3.823149e-01  2.197850e-01  2.652094e-01\nmin    1.000000e+00  1.000000e+00  1.000000e+00\n25%    1.000000e+00  1.000000e+00  1.000000e+00\n50%    1.000000e+00  1.000000e+00  1.000000e+00\n75%    1.313262e+00  1.000000e+00  1.000000e+00\nmax    6.910470e+00  6.910470e+00  6.910470e+00",
      "text/html": "<div>\n<style scoped>\n    .dataframe tbody tr th:only-of-type {\n        vertical-align: middle;\n    }\n\n    .dataframe tbody tr th {\n        vertical-align: top;\n    }\n\n    .dataframe thead th {\n        text-align: right;\n    }\n</style>\n<table border=\"1\" class=\"dataframe\">\n  <thead>\n    <tr style=\"text-align: right;\">\n      <th></th>\n      <th>useful</th>\n      <th>funny</th>\n      <th>cool</th>\n    </tr>\n  </thead>\n  <tbody>\n    <tr>\n      <th>count</th>\n      <td>6.990280e+06</td>\n      <td>6.990280e+06</td>\n      <td>6.990280e+06</td>\n    </tr>\n    <tr>\n      <th>mean</th>\n      <td>1.260750e+00</td>\n      <td>1.077181e+00</td>\n      <td>1.114472e+00</td>\n    </tr>\n    <tr>\n      <th>std</th>\n      <td>3.823149e-01</td>\n      <td>2.197850e-01</td>\n      <td>2.652094e-01</td>\n    </tr>\n    <tr>\n      <th>min</th>\n      <td>1.000000e+00</td>\n      <td>1.000000e+00</td>\n      <td>1.000000e+00</td>\n    </tr>\n    <tr>\n      <th>25%</th>\n      <td>1.000000e+00</td>\n      <td>1.000000e+00</td>\n      <td>1.000000e+00</td>\n    </tr>\n    <tr>\n      <th>50%</th>\n      <td>1.000000e+00</td>\n      <td>1.000000e+00</td>\n      <td>1.000000e+00</td>\n    </tr>\n    <tr>\n      <th>75%</th>\n      <td>1.313262e+00</td>\n      <td>1.000000e+00</td>\n      <td>1.000000e+00</td>\n    </tr>\n    <tr>\n      <th>max</th>\n      <td>6.910470e+00</td>\n      <td>6.910470e+00</td>\n      <td>6.910470e+00</td>\n    </tr>\n  </tbody>\n</table>\n</div>"
     },
     "execution_count": 12,
     "metadata": {},
     "output_type": "execute_result"
    },
    {
     "data": {
      "text/plain": "             useful         funny          cool\ncount  6.990280e+06  6.990280e+06  6.990280e+06\nmean   1.260750e+00  1.077181e+00  1.114472e+00\nstd    3.823149e-01  2.197850e-01  2.652094e-01\nmin    1.000000e+00  1.000000e+00  1.000000e+00\n25%    1.000000e+00  1.000000e+00  1.000000e+00\n50%    1.000000e+00  1.000000e+00  1.000000e+00\n75%    1.313262e+00  1.000000e+00  1.000000e+00\nmax    6.910470e+00  6.910470e+00  6.910470e+00",
      "text/html": "<div>\n<style scoped>\n    .dataframe tbody tr th:only-of-type {\n        vertical-align: middle;\n    }\n\n    .dataframe tbody tr th {\n        vertical-align: top;\n    }\n\n    .dataframe thead th {\n        text-align: right;\n    }\n</style>\n<table border=\"1\" class=\"dataframe\">\n  <thead>\n    <tr style=\"text-align: right;\">\n      <th></th>\n      <th>useful</th>\n      <th>funny</th>\n      <th>cool</th>\n    </tr>\n  </thead>\n  <tbody>\n    <tr>\n      <th>count</th>\n      <td>6.990280e+06</td>\n      <td>6.990280e+06</td>\n      <td>6.990280e+06</td>\n    </tr>\n    <tr>\n      <th>mean</th>\n      <td>1.260750e+00</td>\n      <td>1.077181e+00</td>\n      <td>1.114472e+00</td>\n    </tr>\n    <tr>\n      <th>std</th>\n      <td>3.823149e-01</td>\n      <td>2.197850e-01</td>\n      <td>2.652094e-01</td>\n    </tr>\n    <tr>\n      <th>min</th>\n      <td>1.000000e+00</td>\n      <td>1.000000e+00</td>\n      <td>1.000000e+00</td>\n    </tr>\n    <tr>\n      <th>25%</th>\n      <td>1.000000e+00</td>\n      <td>1.000000e+00</td>\n      <td>1.000000e+00</td>\n    </tr>\n    <tr>\n      <th>50%</th>\n      <td>1.000000e+00</td>\n      <td>1.000000e+00</td>\n      <td>1.000000e+00</td>\n    </tr>\n    <tr>\n      <th>75%</th>\n      <td>1.313262e+00</td>\n      <td>1.000000e+00</td>\n      <td>1.000000e+00</td>\n    </tr>\n    <tr>\n      <th>max</th>\n      <td>6.910470e+00</td>\n      <td>6.910470e+00</td>\n      <td>6.910470e+00</td>\n    </tr>\n  </tbody>\n</table>\n</div>"
     },
     "execution_count": 24,
     "metadata": {},
     "output_type": "execute_result"
    }
   ],
   "source": [
    "# visualizando o histograma\n",
    "df_reviews[['useful', 'funny', 'cool']].describe()"
   ],
   "metadata": {
    "collapsed": false
   }
  },
  {
   "cell_type": "markdown",
   "source": [
    "## Verificando o text"
   ],
   "metadata": {
    "collapsed": false
   }
  },
  {
   "cell_type": "code",
   "execution_count": 28,
   "outputs": [],
   "source": [
    "df_reviews['qtd_palavras'] = df_reviews['text'].apply(lambda x: len(x.split()))"
   ],
   "metadata": {
    "collapsed": false
   }
  },
  {
   "cell_type": "code",
   "execution_count": 29,
   "outputs": [
    {
     "data": {
      "text/plain": "<AxesSubplot:xlabel='qtd_palavras', ylabel='Count'>"
     },
     "execution_count": 29,
     "metadata": {},
     "output_type": "execute_result"
    },
    {
     "data": {
      "text/plain": "<Figure size 640x480 with 1 Axes>",
      "image/png": "[encoded data removed]"
     },
     "metadata": {},
     "output_type": "display_data"
    }
   ],
   "source": [
    "# plotando um histograma\n",
    "sns.histplot(data=df_reviews['qtd_palavras'], bins=10)"
   ],
   "metadata": {
    "collapsed": false
   }
  },
  {
   "cell_type": "markdown",
   "source": [
    "> O bert vai lidar bem com essas avaliações, dado que sua entrada é de no máximo 512 tokens."
   ],
   "metadata": {
    "collapsed": false
   }
  },
  {
   "cell_type": "markdown",
   "source": [
    "> Vou desconsiderar a data, mas seria interessante criar um tipo de penalização de acordo com a idade da avaliação: quanto mais velho, menor a relevância da avaliação."
   ],
   "metadata": {
    "collapsed": false
   }
  },
  {
   "cell_type": "code",
   "execution_count": null,
   "outputs": [],
   "source": [],
   "metadata": {
    "collapsed": false
   }
  }
 ],
 "metadata": {
  "kernelspec": {
   "display_name": "Python 3",
   "language": "python",
   "name": "python3"
  },
  "language_info": {
   "codemirror_mode": {
    "name": "ipython",
    "version": 2
   },
   "file_extension": ".py",
   "mimetype": "text/x-python",
   "name": "python",
   "nbconvert_exporter": "python",
   "pygments_lexer": "ipython2",
   "version": "2.7.6"
  }
 },
 "nbformat": 4,
 "nbformat_minor": 0
}
