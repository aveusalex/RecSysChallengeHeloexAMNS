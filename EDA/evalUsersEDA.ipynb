{
 "cells": [
  {
   "cell_type": "code",
   "execution_count": 1,
   "outputs": [],
   "source": [
    "import pandas as pd"
   ],
   "metadata": {
    "collapsed": false
   }
  },
  {
   "cell_type": "markdown",
   "source": [
    "# Importando dados"
   ],
   "metadata": {
    "collapsed": false
   }
  },
  {
   "cell_type": "code",
   "execution_count": 2,
   "metadata": {
    "collapsed": true
   },
   "outputs": [],
   "source": [
    "eval_df = pd.read_csv('../data/evaluation/eval_users.csv')"
   ]
  },
  {
   "cell_type": "code",
   "execution_count": 3,
   "outputs": [
    {
     "name": "stdout",
     "output_type": "stream",
     "text": [
      "<class 'pandas.core.frame.DataFrame'>\n",
      "RangeIndex: 1000 entries, 0 to 999\n",
      "Data columns (total 4 columns):\n",
      " #   Column       Non-Null Count  Dtype \n",
      "---  ------       --------------  ----- \n",
      " 0   user_id      1000 non-null   object\n",
      " 1   user_perfil  1000 non-null   object\n",
      " 2   gt_reclist   1000 non-null   object\n",
      " 3   reclist      1000 non-null   object\n",
      "dtypes: object(4)\n",
      "memory usage: 31.4+ KB\n"
     ]
    }
   ],
   "source": [
    "eval_df.info()"
   ],
   "metadata": {
    "collapsed": false
   }
  },
  {
   "cell_type": "code",
   "execution_count": 4,
   "outputs": [
    {
     "data": {
      "text/plain": "                  user_id             user_perfil  \\\n0  -1BSu2dt_rOAqllw9ZDXtA  5XsC0tB8chKjTIW7mU6TnQ   \n1  -6DoXmdXEy_P5N-QZzntgA  Ifw5wqcChnL4zBigtR7NKA   \n2  -8NOuak4Sipn7-zy7Nk5hg  OKPUO8zvBBL-OA6-SfDx8Q   \n3  -8rSnT5ztVk6vmTDkxTqsQ  VSjoo6kJ9MU4G0cfO_-CRA   \n4  -C7xxeVQI5qEZGAzFdx-cg  rXqlpCH6z9rSFNCL76FfLw   \n\n                                          gt_reclist  \\\n0  ['5XsC0tB8chKjTIW7mU6TnQ', 'wn4U347OALm5H0MOBR...   \n1  ['Ifw5wqcChnL4zBigtR7NKA', 'v1GCQz7ZsntWI-GlGP...   \n2  ['OKPUO8zvBBL-OA6-SfDx8Q', 'OHplb2m_dKPXY46mS0...   \n3  ['VSjoo6kJ9MU4G0cfO_-CRA', 'DH-vk-XzWMT9rRLcbB...   \n4  ['rXqlpCH6z9rSFNCL76FfLw', 'WY_dcOTyRA-AgksCXi...   \n\n                                             reclist  \n0  ['XTIc2pKNdmmvX60lIHV0OQ', 'GyvtAyCurqFGovXp-t...  \n1  ['QB0NhiW--2rje9Fr1ek2eA', 'o4IiNbNybcy-L4vzTS...  \n2  ['M6yUUIE8-incodeeJrMpVQ', 'fw6PlWy2ghCzuUH24p...  \n3  ['3zK9LTY3TgH7nU18-dnXtA', 'DH-vk-XzWMT9rRLcbB...  \n4  ['6aDmYbqNKeWn9tynvFQa-w', 'nMHM74eFQuJyS_a7EV...  ",
      "text/html": "<div>\n<style scoped>\n    .dataframe tbody tr th:only-of-type {\n        vertical-align: middle;\n    }\n\n    .dataframe tbody tr th {\n        vertical-align: top;\n    }\n\n    .dataframe thead th {\n        text-align: right;\n    }\n</style>\n<table border=\"1\" class=\"dataframe\">\n  <thead>\n    <tr style=\"text-align: right;\">\n      <th></th>\n      <th>user_id</th>\n      <th>user_perfil</th>\n      <th>gt_reclist</th>\n      <th>reclist</th>\n    </tr>\n  </thead>\n  <tbody>\n    <tr>\n      <th>0</th>\n      <td>-1BSu2dt_rOAqllw9ZDXtA</td>\n      <td>5XsC0tB8chKjTIW7mU6TnQ</td>\n      <td>['5XsC0tB8chKjTIW7mU6TnQ', 'wn4U347OALm5H0MOBR...</td>\n      <td>['XTIc2pKNdmmvX60lIHV0OQ', 'GyvtAyCurqFGovXp-t...</td>\n    </tr>\n    <tr>\n      <th>1</th>\n      <td>-6DoXmdXEy_P5N-QZzntgA</td>\n      <td>Ifw5wqcChnL4zBigtR7NKA</td>\n      <td>['Ifw5wqcChnL4zBigtR7NKA', 'v1GCQz7ZsntWI-GlGP...</td>\n      <td>['QB0NhiW--2rje9Fr1ek2eA', 'o4IiNbNybcy-L4vzTS...</td>\n    </tr>\n    <tr>\n      <th>2</th>\n      <td>-8NOuak4Sipn7-zy7Nk5hg</td>\n      <td>OKPUO8zvBBL-OA6-SfDx8Q</td>\n      <td>['OKPUO8zvBBL-OA6-SfDx8Q', 'OHplb2m_dKPXY46mS0...</td>\n      <td>['M6yUUIE8-incodeeJrMpVQ', 'fw6PlWy2ghCzuUH24p...</td>\n    </tr>\n    <tr>\n      <th>3</th>\n      <td>-8rSnT5ztVk6vmTDkxTqsQ</td>\n      <td>VSjoo6kJ9MU4G0cfO_-CRA</td>\n      <td>['VSjoo6kJ9MU4G0cfO_-CRA', 'DH-vk-XzWMT9rRLcbB...</td>\n      <td>['3zK9LTY3TgH7nU18-dnXtA', 'DH-vk-XzWMT9rRLcbB...</td>\n    </tr>\n    <tr>\n      <th>4</th>\n      <td>-C7xxeVQI5qEZGAzFdx-cg</td>\n      <td>rXqlpCH6z9rSFNCL76FfLw</td>\n      <td>['rXqlpCH6z9rSFNCL76FfLw', 'WY_dcOTyRA-AgksCXi...</td>\n      <td>['6aDmYbqNKeWn9tynvFQa-w', 'nMHM74eFQuJyS_a7EV...</td>\n    </tr>\n  </tbody>\n</table>\n</div>"
     },
     "execution_count": 4,
     "metadata": {},
     "output_type": "execute_result"
    }
   ],
   "source": [
    "eval_df.head()"
   ],
   "metadata": {
    "collapsed": false
   }
  },
  {
   "cell_type": "markdown",
   "source": [
    "> Sabemos que:\n",
    "- User_id : é o id do usuário\n",
    "- user_perfil: é o id do business que a pessoa melhor avaliou\n",
    "- gt_reclist: business que a pessoa avaliou com 4 ou 5 estrelas\n",
    "- rec_list: business selecionados aleatoriamente + os business de gt_reclist -> devemos ordenar essa lista."
   ],
   "metadata": {
    "collapsed": false
   }
  },
  {
   "cell_type": "markdown",
   "source": [
    "-> A ideia é criarmos os embeddings somente para os business que estão em gt_reclist e rec_list e para os usuários selecionados."
   ],
   "metadata": {
    "collapsed": false
   }
  },
  {
   "cell_type": "markdown",
   "source": [
    "# Separando os usuários que estão no dataset"
   ],
   "metadata": {
    "collapsed": false
   }
  },
  {
   "cell_type": "code",
   "execution_count": 25,
   "outputs": [],
   "source": [
    "users = eval_df['user_id'].unique()"
   ],
   "metadata": {
    "collapsed": false
   }
  },
  {
   "cell_type": "code",
   "execution_count": 26,
   "outputs": [
    {
     "data": {
      "text/plain": "(1000,)"
     },
     "execution_count": 6,
     "metadata": {},
     "output_type": "execute_result"
    },
    {
     "data": {
      "text/plain": "(1000,)"
     },
     "execution_count": 26,
     "metadata": {},
     "output_type": "execute_result"
    }
   ],
   "source": [
    "users.shape"
   ],
   "metadata": {
    "collapsed": false
   }
  },
  {
   "cell_type": "markdown",
   "source": [
    "-> Para esses usuários, vamos gerar embeddings de suas avaliações e de seus perfis."
   ],
   "metadata": {
    "collapsed": false
   }
  },
  {
   "cell_type": "code",
   "execution_count": 27,
   "outputs": [],
   "source": [
    "# carregando os dados de users\n",
    "users_df = pd.read_parquet('../data/DatasetsLimpos/yelp_academic_dataset_user.parquet')"
   ],
   "metadata": {
    "collapsed": false
   }
  },
  {
   "cell_type": "code",
   "execution_count": 28,
   "outputs": [
    {
     "name": "stdout",
     "output_type": "stream",
     "text": [
      "<class 'pandas.core.frame.DataFrame'>\n",
      "RangeIndex: 1987897 entries, 0 to 1987896\n",
      "Data columns (total 19 columns):\n",
      " #   Column              Dtype  \n",
      "---  ------              -----  \n",
      " 0   user_id             object \n",
      " 1   review_count        float32\n",
      " 2   useful              float32\n",
      " 3   funny               float32\n",
      " 4   cool                float32\n",
      " 5   fans                float32\n",
      " 6   compliment_hot      float32\n",
      " 7   compliment_more     float32\n",
      " 8   compliment_profile  float32\n",
      " 9   compliment_cute     float32\n",
      " 10  compliment_list     float32\n",
      " 11  compliment_note     float32\n",
      " 12  compliment_plain    float32\n",
      " 13  compliment_cool     float32\n",
      " 14  compliment_funny    float32\n",
      " 15  compliment_writer   float32\n",
      " 16  compliment_photos   float32\n",
      " 17  account_age         int64  \n",
      " 18  chato               float32\n",
      "dtypes: float32(17), int64(1), object(1)\n",
      "memory usage: 159.2+ MB\n",
      "<class 'pandas.core.frame.DataFrame'>\n",
      "RangeIndex: 1987897 entries, 0 to 1987896\n",
      "Data columns (total 19 columns):\n",
      " #   Column              Dtype  \n",
      "---  ------              -----  \n",
      " 0   user_id             object \n",
      " 1   review_count        float32\n",
      " 2   useful              float32\n",
      " 3   funny               float32\n",
      " 4   cool                float32\n",
      " 5   fans                float32\n",
      " 6   compliment_hot      float32\n",
      " 7   compliment_more     float32\n",
      " 8   compliment_profile  float32\n",
      " 9   compliment_cute     float32\n",
      " 10  compliment_list     float32\n",
      " 11  compliment_note     float32\n",
      " 12  compliment_plain    float32\n",
      " 13  compliment_cool     float32\n",
      " 14  compliment_funny    float32\n",
      " 15  compliment_writer   float32\n",
      " 16  compliment_photos   float32\n",
      " 17  account_age         int64  \n",
      " 18  chato               float32\n",
      "dtypes: float32(17), int64(1), object(1)\n",
      "memory usage: 159.2+ MB\n"
     ]
    }
   ],
   "source": [
    "users_df.info()"
   ],
   "metadata": {
    "collapsed": false
   }
  },
  {
   "cell_type": "markdown",
   "source": [
    "### Gerando os embeddings de seus reviews"
   ],
   "metadata": {
    "collapsed": false
   }
  },
  {
   "cell_type": "code",
   "execution_count": 29,
   "outputs": [],
   "source": [
    "df_reviews = pd.read_parquet('../data/DatasetsLimpos/yelp_academic_dataset_review.parquet')"
   ],
   "metadata": {
    "collapsed": false
   }
  },
  {
   "cell_type": "code",
   "execution_count": 31,
   "outputs": [],
   "source": [
    "# filtrando apenas os reviews dos usuários selecionados\n",
    "df_reviews = df_reviews[df_reviews['user_id'].isin(users)]"
   ],
   "metadata": {
    "collapsed": false
   }
  },
  {
   "cell_type": "code",
   "execution_count": null,
   "outputs": [],
   "source": [
    "df_reviews.shape"
   ],
   "metadata": {
    "collapsed": false
   }
  },
  {
   "cell_type": "code",
   "execution_count": null,
   "outputs": [],
   "source": [
    "df_reviews.user_id.nunique()"
   ],
   "metadata": {
    "collapsed": false
   }
  },
  {
   "cell_type": "code",
   "execution_count": 34,
   "outputs": [],
   "source": [
    "# agrupando os reviews por usuário\n",
    "df_reviews_text = df_reviews[['user_id', 'text']].groupby('user_id').agg(lambda x: list(x))"
   ],
   "metadata": {
    "collapsed": false
   }
  },
  {
   "cell_type": "code",
   "execution_count": 35,
   "outputs": [
    {
     "data": {
      "text/plain": "                                                                     text\nuser_id                                                                  \n-1BSu2dt_rOAqllw9ZDXtA  [Hank and I love Brocatos!The freshest ingredi...\n-6DoXmdXEy_P5N-QZzntgA  [We stopped in for breakfast burritos one morn...\n-8NOuak4Sipn7-zy7Nk5hg  [One of Philadelphia's best restaurants in my ...\n-8rSnT5ztVk6vmTDkxTqsQ  [PROS\\nYelp deal - use BOGO 50% entree\\nOxtail...\n-C7xxeVQI5qEZGAzFdx-cg  [This place is the best! Their food isn't spic...",
      "text/html": "<div>\n<style scoped>\n    .dataframe tbody tr th:only-of-type {\n        vertical-align: middle;\n    }\n\n    .dataframe tbody tr th {\n        vertical-align: top;\n    }\n\n    .dataframe thead th {\n        text-align: right;\n    }\n</style>\n<table border=\"1\" class=\"dataframe\">\n  <thead>\n    <tr style=\"text-align: right;\">\n      <th></th>\n      <th>text</th>\n    </tr>\n    <tr>\n      <th>user_id</th>\n      <th></th>\n    </tr>\n  </thead>\n  <tbody>\n    <tr>\n      <th>-1BSu2dt_rOAqllw9ZDXtA</th>\n      <td>[Hank and I love Brocatos!The freshest ingredi...</td>\n    </tr>\n    <tr>\n      <th>-6DoXmdXEy_P5N-QZzntgA</th>\n      <td>[We stopped in for breakfast burritos one morn...</td>\n    </tr>\n    <tr>\n      <th>-8NOuak4Sipn7-zy7Nk5hg</th>\n      <td>[One of Philadelphia's best restaurants in my ...</td>\n    </tr>\n    <tr>\n      <th>-8rSnT5ztVk6vmTDkxTqsQ</th>\n      <td>[PROS\\nYelp deal - use BOGO 50% entree\\nOxtail...</td>\n    </tr>\n    <tr>\n      <th>-C7xxeVQI5qEZGAzFdx-cg</th>\n      <td>[This place is the best! Their food isn't spic...</td>\n    </tr>\n  </tbody>\n</table>\n</div>"
     },
     "execution_count": 15,
     "metadata": {},
     "output_type": "execute_result"
    },
    {
     "data": {
      "text/plain": "                                                                     text\nuser_id                                                                  \n-1BSu2dt_rOAqllw9ZDXtA  [Hank and I love Brocatos!The freshest ingredi...\n-6DoXmdXEy_P5N-QZzntgA  [We stopped in for breakfast burritos one morn...\n-8NOuak4Sipn7-zy7Nk5hg  [One of Philadelphia's best restaurants in my ...\n-8rSnT5ztVk6vmTDkxTqsQ  [PROS\\nYelp deal - use BOGO 50% entree\\nOxtail...\n-C7xxeVQI5qEZGAzFdx-cg  [This place is the best! Their food isn't spic...",
      "text/html": "<div>\n<style scoped>\n    .dataframe tbody tr th:only-of-type {\n        vertical-align: middle;\n    }\n\n    .dataframe tbody tr th {\n        vertical-align: top;\n    }\n\n    .dataframe thead th {\n        text-align: right;\n    }\n</style>\n<table border=\"1\" class=\"dataframe\">\n  <thead>\n    <tr style=\"text-align: right;\">\n      <th></th>\n      <th>text</th>\n    </tr>\n    <tr>\n      <th>user_id</th>\n      <th></th>\n    </tr>\n  </thead>\n  <tbody>\n    <tr>\n      <th>-1BSu2dt_rOAqllw9ZDXtA</th>\n      <td>[Hank and I love Brocatos!The freshest ingredi...</td>\n    </tr>\n    <tr>\n      <th>-6DoXmdXEy_P5N-QZzntgA</th>\n      <td>[We stopped in for breakfast burritos one morn...</td>\n    </tr>\n    <tr>\n      <th>-8NOuak4Sipn7-zy7Nk5hg</th>\n      <td>[One of Philadelphia's best restaurants in my ...</td>\n    </tr>\n    <tr>\n      <th>-8rSnT5ztVk6vmTDkxTqsQ</th>\n      <td>[PROS\\nYelp deal - use BOGO 50% entree\\nOxtail...</td>\n    </tr>\n    <tr>\n      <th>-C7xxeVQI5qEZGAzFdx-cg</th>\n      <td>[This place is the best! Their food isn't spic...</td>\n    </tr>\n  </tbody>\n</table>\n</div>"
     },
     "execution_count": 35,
     "metadata": {},
     "output_type": "execute_result"
    }
   ],
   "source": [
    "df_reviews_text.head()"
   ],
   "metadata": {
    "collapsed": false
   }
  },
  {
   "cell_type": "code",
   "execution_count": 36,
   "outputs": [],
   "source": [
    "# criando coluna quantidade de reviews\n",
    "df_reviews_text['qtd_reviews'] = df_reviews_text['text'].apply(lambda x: len(x))"
   ],
   "metadata": {
    "collapsed": false
   }
  },
  {
   "cell_type": "code",
   "execution_count": 37,
   "outputs": [
    {
     "data": {
      "text/plain": "count    1000.000000\nmean       13.758000\nstd         4.122673\nmin        10.000000\n25%        11.000000\n50%        12.000000\n75%        15.000000\nmax        35.000000\nName: qtd_reviews, dtype: float64"
     },
     "execution_count": 17,
     "metadata": {},
     "output_type": "execute_result"
    },
    {
     "data": {
      "text/plain": "count    1000.000000\nmean       13.758000\nstd         4.122673\nmin        10.000000\n25%        11.000000\n50%        12.000000\n75%        15.000000\nmax        35.000000\nName: qtd_reviews, dtype: float64"
     },
     "execution_count": 37,
     "metadata": {},
     "output_type": "execute_result"
    }
   ],
   "source": [
    "df_reviews_text.qtd_reviews.describe()"
   ],
   "metadata": {
    "collapsed": false
   }
  },
  {
   "cell_type": "markdown",
   "source": [
    "> Boa parte dos usuários selecionados tem menos de 15 reviews. Mas é um número bacana já para termos em mente seu comportamento."
   ],
   "metadata": {
    "collapsed": false
   }
  },
  {
   "cell_type": "markdown",
   "source": [
    "### Gerando os embeddings com o BERT"
   ],
   "metadata": {
    "collapsed": false
   }
  },
  {
   "cell_type": "code",
   "execution_count": 38,
   "outputs": [
    {
     "name": "stderr",
     "output_type": "stream",
     "text": [
      "Some weights of the model checkpoint at bert-base-uncased were not used when initializing BertModel: ['cls.predictions.transform.dense.weight', 'cls.predictions.bias', 'cls.predictions.transform.LayerNorm.weight', 'cls.predictions.transform.LayerNorm.bias', 'cls.seq_relationship.bias', 'cls.predictions.decoder.weight', 'cls.predictions.transform.dense.bias', 'cls.seq_relationship.weight']\n",
      "- This IS expected if you are initializing BertModel from the checkpoint of a model trained on another task or with another architecture (e.g. initializing a BertForSequenceClassification model from a BertForPreTraining model).\n",
      "- This IS NOT expected if you are initializing BertModel from the checkpoint of a model that you expect to be exactly identical (initializing a BertForSequenceClassification model from a BertForSequenceClassification model).\n",
      "Some weights of the model checkpoint at bert-base-uncased were not used when initializing BertModel: ['cls.predictions.transform.dense.weight', 'cls.predictions.bias', 'cls.predictions.transform.LayerNorm.weight', 'cls.predictions.transform.LayerNorm.bias', 'cls.seq_relationship.bias', 'cls.predictions.decoder.weight', 'cls.predictions.transform.dense.bias', 'cls.seq_relationship.weight']\n",
      "- This IS expected if you are initializing BertModel from the checkpoint of a model trained on another task or with another architecture (e.g. initializing a BertForSequenceClassification model from a BertForPreTraining model).\n",
      "- This IS NOT expected if you are initializing BertModel from the checkpoint of a model that you expect to be exactly identical (initializing a BertForSequenceClassification model from a BertForSequenceClassification model).\n"
     ]
    }
   ],
   "source": [
    "import torch\n",
    "from transformers import BertTokenizer, BertModel\n",
    "import time\n",
    "\n",
    "\n",
    "# Load pretrained model/tokenizer\n",
    "tokenizer = BertTokenizer.from_pretrained('bert-base-uncased')\n",
    "model = BertModel.from_pretrained('bert-base-uncased', output_hidden_states=True).to('cuda')"
   ],
   "metadata": {
    "collapsed": false
   }
  },
  {
   "cell_type": "code",
   "execution_count": 39,
   "outputs": [],
   "source": [
    "def get_bert_embedding(text_list):\n",
    "    # if text_list is over than 15 items, split it in groups of 15\n",
    "    # print(len(text_list))\n",
    "    if len(text_list) > 15:\n",
    "        # print(\"Text list is over than 15 items, split it in groups of 15\")\n",
    "        text_list = [text_list[i:i + 15] for i in range(0, len(text_list), 15)]\n",
    "    else:\n",
    "        text_list = [text_list]\n",
    "    embs = []\n",
    "    for text in text_list:\n",
    "        start = time.time()\n",
    "        tokens = []\n",
    "        # clip text if it is too long (more than 512 tokens)\n",
    "        for idx in range(len(text)):\n",
    "            if len(text[idx]) > 512:\n",
    "                text[idx] = text[idx][:510]\n",
    "            # Add the special tokens.\n",
    "            marked_text = \"[CLS] \" + text[idx] + \" [SEP]\"\n",
    "            # Split the sentence into tokens.\n",
    "            tokenized_text = tokenizer.tokenize(marked_text)\n",
    "            # padding if text is less than 512 tokens\n",
    "            if len(tokenized_text) < 512:\n",
    "                tokenized_text = tokenized_text + [\"[PAD]\"] * (512 - len(tokenized_text))\n",
    "            # Map the token strings to their vocabulary indexes.\n",
    "            indexed_tokens = tokenizer.convert_tokens_to_ids(tokenized_text)\n",
    "            tokens.append(indexed_tokens)\n",
    "        # Convert inputs to PyTorch tensors\n",
    "        tokens_tensor = torch.tensor(tokens).to('cuda')\n",
    "\n",
    "        # Put the model in \"evaluation\" mode,meaning feed-forward operation.\n",
    "        model.eval()\n",
    "        # Run the text through BERT, and collect all the hidden states produced from all 12 layers.\n",
    "        with torch.no_grad():\n",
    "            outputs = model(tokens_tensor)[2][-4:]\n",
    "\n",
    "        # sum of last four layer\n",
    "        outputs = torch.stack(outputs, dim=1)\n",
    "        outputs = outputs.sum(1)\n",
    "        # mean of the tokens, results in one vector of 768 dimensions per text\n",
    "        outputs = torch.mean(outputs, 1).squeeze(0).cpu().numpy()\n",
    "        print(\"Time to get embedding: \", time.time() - start)\n",
    "        embs.append(outputs)\n",
    "    return embs"
   ],
   "metadata": {
    "collapsed": false
   }
  },
  {
   "cell_type": "code",
   "execution_count": null,
   "outputs": [],
   "source": [
    "# aplicando no dataframe\n",
    "df_reviews_text['bert_embedding'] = df_reviews_text['text'].apply(get_bert_embedding)"
   ],
   "metadata": {
    "collapsed": false
   }
  },
  {
   "cell_type": "code",
   "execution_count": 44,
   "outputs": [],
   "source": [
    "df_reviews_text['bert_embedding'] = df_reviews_text.bert_embedding.astype('str')"
   ],
   "metadata": {
    "collapsed": false
   }
  },
  {
   "cell_type": "code",
   "execution_count": 46,
   "outputs": [],
   "source": [
    "# salvando o dataframe\n",
    "df_reviews_text.to_parquet('../data/DatasetsLimpos/bert_reviews.parquet')"
   ],
   "metadata": {
    "collapsed": false
   }
  },
  {
   "cell_type": "markdown",
   "source": [
    "# Gerando embeddings dos business contidos no dataset de avaliacao"
   ],
   "metadata": {
    "collapsed": false
   }
  },
  {
   "cell_type": "markdown",
   "source": [
    "## Separando os business contidos em eval"
   ],
   "metadata": {
    "collapsed": false
   }
  },
  {
   "cell_type": "code",
   "execution_count": 5,
   "outputs": [],
   "source": [
    "business_ = eval_df['gt_reclist'].apply(lambda x: x.replace(\"[\", \"\").replace(\"]\", \"\").split(',')).explode().unique()"
   ],
   "metadata": {
    "collapsed": false
   }
  },
  {
   "cell_type": "code",
   "execution_count": 6,
   "outputs": [],
   "source": [
    "business_ = pd.Series(business_).apply(lambda x: x.replace(\"'\", \"\").replace(\" \", \"\")).unique()"
   ],
   "metadata": {
    "collapsed": false
   }
  },
  {
   "cell_type": "code",
   "execution_count": 8,
   "outputs": [
    {
     "data": {
      "text/plain": "(7862,)"
     },
     "execution_count": 8,
     "metadata": {},
     "output_type": "execute_result"
    }
   ],
   "source": [
    "business_.shape"
   ],
   "metadata": {
    "collapsed": false
   }
  },
  {
   "cell_type": "code",
   "execution_count": 7,
   "outputs": [],
   "source": [
    "df_reviews = pd.read_parquet('../data/DatasetsLimpos/yelp_academic_dataset_review.parquet')"
   ],
   "metadata": {
    "collapsed": false
   }
  },
  {
   "cell_type": "code",
   "execution_count": 10,
   "outputs": [],
   "source": [
    "# filtrando apenas os reviews dos business selecionados\n",
    "df_reviews = df_reviews[df_reviews['business_id'].isin(business_)]"
   ],
   "metadata": {
    "collapsed": false
   }
  },
  {
   "cell_type": "code",
   "execution_count": 21,
   "outputs": [
    {
     "data": {
      "text/plain": "                        user_id             business_id  stars  useful  funny  \\\n7        yfFzsLmaWF2d4Sr0UNbBgg  LHSTtnW3YHCeUkRDGyJOyw      5       1      1   \n12       9OAtfnWag-ajVxRbUTGIyg  lj-E32x9_FA7GmUrBGBEWg      4       1      1   \n13       smOvOajNG0lS4Pq7d8g4JQ  RZtGWDLCAtuipwaZ-UfjmQ      4       1      1   \n14       4Uh27DgGzsp6PqrH913giQ  otQS34_MymijPTdNBoBdCw      4       1      1   \n20       Ohhrhu1RkqfVciIVx_W5HQ  nRKndeZLQ3eDL10UMwS2rQ      5       1      2   \n...                         ...                     ...    ...     ...    ...   \n6990255  7-7A0Avj47slLGV7yBFc8w  ytynqOUb3hjKeJfRj5Tshw      3       1      1   \n6990260  am7-gkH_PDz598oTdYSD6A  3gVSrS4kffGGZT8oXHsIcw      3       1      1   \n6990261  i48cHEyRBl5g9_npYIG7dA  ReVpjIDupK_VMPn7ZxPvOQ      4       1      1   \n6990265  7ziWZULyiZv2TesYNMFf4g  qQO7ErS_RAN4Vs1uX0L55Q      4       1      1   \n6990279  6JehEvdoCvZPJ_XIxnzIIw  VAeEXLbEcI9Emt9KGYq9aA      3       2      1   \n\n         cool                                               text  \n7           1  Amazingly amazing wings and homemade bleu chee...  \n12          1  Love going here for happy hour or dinner!  Gre...  \n13          1  Good food--loved the gnocchi with marinara\\nth...  \n14          1  The bun makes the Sonoran Dog. It's like a snu...  \n20          1  HOLY SMOKES!\\n\\nactual pumpkin pie mixed in wi...  \n...       ...                                                ...  \n6990255     1  I was so excited about all the food I saw, but...  \n6990260     1  *Later Yelp* I've only been here once, but I l...  \n6990261     1  This place never fails the food is absolutely ...  \n6990265     1  ice cream! ice cream sodas, sundaes!! \\n\\nwant...  \n6990279     2  Located in the 'Walking District' in Nashville...  \n\n[1935414 rows x 7 columns]",
      "text/html": "<div>\n<style scoped>\n    .dataframe tbody tr th:only-of-type {\n        vertical-align: middle;\n    }\n\n    .dataframe tbody tr th {\n        vertical-align: top;\n    }\n\n    .dataframe thead th {\n        text-align: right;\n    }\n</style>\n<table border=\"1\" class=\"dataframe\">\n  <thead>\n    <tr style=\"text-align: right;\">\n      <th></th>\n      <th>user_id</th>\n      <th>business_id</th>\n      <th>stars</th>\n      <th>useful</th>\n      <th>funny</th>\n      <th>cool</th>\n      <th>text</th>\n    </tr>\n  </thead>\n  <tbody>\n    <tr>\n      <th>7</th>\n      <td>yfFzsLmaWF2d4Sr0UNbBgg</td>\n      <td>LHSTtnW3YHCeUkRDGyJOyw</td>\n      <td>5</td>\n      <td>1</td>\n      <td>1</td>\n      <td>1</td>\n      <td>Amazingly amazing wings and homemade bleu chee...</td>\n    </tr>\n    <tr>\n      <th>12</th>\n      <td>9OAtfnWag-ajVxRbUTGIyg</td>\n      <td>lj-E32x9_FA7GmUrBGBEWg</td>\n      <td>4</td>\n      <td>1</td>\n      <td>1</td>\n      <td>1</td>\n      <td>Love going here for happy hour or dinner!  Gre...</td>\n    </tr>\n    <tr>\n      <th>13</th>\n      <td>smOvOajNG0lS4Pq7d8g4JQ</td>\n      <td>RZtGWDLCAtuipwaZ-UfjmQ</td>\n      <td>4</td>\n      <td>1</td>\n      <td>1</td>\n      <td>1</td>\n      <td>Good food--loved the gnocchi with marinara\\nth...</td>\n    </tr>\n    <tr>\n      <th>14</th>\n      <td>4Uh27DgGzsp6PqrH913giQ</td>\n      <td>otQS34_MymijPTdNBoBdCw</td>\n      <td>4</td>\n      <td>1</td>\n      <td>1</td>\n      <td>1</td>\n      <td>The bun makes the Sonoran Dog. It's like a snu...</td>\n    </tr>\n    <tr>\n      <th>20</th>\n      <td>Ohhrhu1RkqfVciIVx_W5HQ</td>\n      <td>nRKndeZLQ3eDL10UMwS2rQ</td>\n      <td>5</td>\n      <td>1</td>\n      <td>2</td>\n      <td>1</td>\n      <td>HOLY SMOKES!\\n\\nactual pumpkin pie mixed in wi...</td>\n    </tr>\n    <tr>\n      <th>...</th>\n      <td>...</td>\n      <td>...</td>\n      <td>...</td>\n      <td>...</td>\n      <td>...</td>\n      <td>...</td>\n      <td>...</td>\n    </tr>\n    <tr>\n      <th>6990255</th>\n      <td>7-7A0Avj47slLGV7yBFc8w</td>\n      <td>ytynqOUb3hjKeJfRj5Tshw</td>\n      <td>3</td>\n      <td>1</td>\n      <td>1</td>\n      <td>1</td>\n      <td>I was so excited about all the food I saw, but...</td>\n    </tr>\n    <tr>\n      <th>6990260</th>\n      <td>am7-gkH_PDz598oTdYSD6A</td>\n      <td>3gVSrS4kffGGZT8oXHsIcw</td>\n      <td>3</td>\n      <td>1</td>\n      <td>1</td>\n      <td>1</td>\n      <td>*Later Yelp* I've only been here once, but I l...</td>\n    </tr>\n    <tr>\n      <th>6990261</th>\n      <td>i48cHEyRBl5g9_npYIG7dA</td>\n      <td>ReVpjIDupK_VMPn7ZxPvOQ</td>\n      <td>4</td>\n      <td>1</td>\n      <td>1</td>\n      <td>1</td>\n      <td>This place never fails the food is absolutely ...</td>\n    </tr>\n    <tr>\n      <th>6990265</th>\n      <td>7ziWZULyiZv2TesYNMFf4g</td>\n      <td>qQO7ErS_RAN4Vs1uX0L55Q</td>\n      <td>4</td>\n      <td>1</td>\n      <td>1</td>\n      <td>1</td>\n      <td>ice cream! ice cream sodas, sundaes!! \\n\\nwant...</td>\n    </tr>\n    <tr>\n      <th>6990279</th>\n      <td>6JehEvdoCvZPJ_XIxnzIIw</td>\n      <td>VAeEXLbEcI9Emt9KGYq9aA</td>\n      <td>3</td>\n      <td>2</td>\n      <td>1</td>\n      <td>2</td>\n      <td>Located in the 'Walking District' in Nashville...</td>\n    </tr>\n  </tbody>\n</table>\n<p>1935414 rows × 7 columns</p>\n</div>"
     },
     "execution_count": 21,
     "metadata": {},
     "output_type": "execute_result"
    }
   ],
   "source": [
    "df_reviews[df_reviews['business_id'].isin(business_)]"
   ],
   "metadata": {
    "collapsed": false
   }
  },
  {
   "cell_type": "code",
   "execution_count": 11,
   "outputs": [
    {
     "data": {
      "text/plain": "(0, 7)"
     },
     "execution_count": 11,
     "metadata": {},
     "output_type": "execute_result"
    }
   ],
   "source": [
    "df_reviews.shape"
   ],
   "metadata": {
    "collapsed": false
   }
  },
  {
   "cell_type": "code",
   "execution_count": null,
   "outputs": [],
   "source": [],
   "metadata": {
    "collapsed": false
   }
  }
 ],
 "metadata": {
  "kernelspec": {
   "display_name": "Python 3",
   "language": "python",
   "name": "python3"
  },
  "language_info": {
   "codemirror_mode": {
    "name": "ipython",
    "version": 2
   },
   "file_extension": ".py",
   "mimetype": "text/x-python",
   "name": "python",
   "nbconvert_exporter": "python",
   "pygments_lexer": "ipython2",
   "version": "2.7.6"
  }
 },
 "nbformat": 4,
 "nbformat_minor": 0
}
