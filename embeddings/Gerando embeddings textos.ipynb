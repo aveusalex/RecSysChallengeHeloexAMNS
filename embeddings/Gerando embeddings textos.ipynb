{
 "cells": [
  {
   "cell_type": "code",
   "execution_count": 13,
   "id": "0a3abc7d",
   "metadata": {},
   "outputs": [
    {
     "name": "stderr",
     "output_type": "stream",
     "text": [
      "Some weights of the model checkpoint at bert-base-uncased were not used when initializing BertModel: ['cls.seq_relationship.bias', 'cls.seq_relationship.weight', 'cls.predictions.transform.LayerNorm.weight', 'cls.predictions.decoder.weight', 'cls.predictions.transform.LayerNorm.bias', 'cls.predictions.transform.dense.bias', 'cls.predictions.transform.dense.weight', 'cls.predictions.bias']\n",
      "- This IS expected if you are initializing BertModel from the checkpoint of a model trained on another task or with another architecture (e.g. initializing a BertForSequenceClassification model from a BertForPreTraining model).\n",
      "- This IS NOT expected if you are initializing BertModel from the checkpoint of a model that you expect to be exactly identical (initializing a BertForSequenceClassification model from a BertForSequenceClassification model).\n"
     ]
    },
    {
     "data": {
      "application/vnd.jupyter.widget-view+json": {
       "model_id": "b98f794a914f475c83d23197af35e07d",
       "version_major": 2,
       "version_minor": 0
      },
      "text/plain": [
       "0it [00:00, ?it/s]"
      ]
     },
     "metadata": {},
     "output_type": "display_data"
    },
    {
     "data": {
      "application/vnd.jupyter.widget-view+json": {
       "model_id": "bef893bb694f41beaa6e1f22e8caeb01",
       "version_major": 2,
       "version_minor": 0
      },
      "text/plain": [
       "  0%|          | 0/908915 [00:00<?, ?it/s]"
      ]
     },
     "metadata": {},
     "output_type": "display_data"
    },
    {
     "name": "stderr",
     "output_type": "stream",
     "text": [
      "Truncation was not explicitly activated but `max_length` is provided a specific value, please use `truncation=True` to explicitly truncate examples to max length. Defaulting to 'longest_first' truncation strategy. If you encode pairs of sequences (GLUE-style) with the tokenizer you can select this strategy more precisely by providing a specific strategy to `truncation`.\n"
     ]
    }
   ],
   "source": [
    "import json\n",
    "from tqdm.auto import tqdm\n",
    "import numpy as np\n",
    "import torch\n",
    "from transformers import BertTokenizer, BertModel\n",
    "\n",
    "# 1. Carregando o modelo BERT\n",
    "model = BertModel.from_pretrained('bert-base-uncased').to('cuda')\n",
    "tokenizer = BertTokenizer.from_pretrained('bert-base-uncased')\n",
    "\n",
    "# 2. Carregando o dataset\n",
    "data = []\n",
    "with open(r\"C:\\Users\\heloi\\Downloads\\yelp_dataset\\yelp_academic_dataset_tip.json\", encoding=\"utf-8\") as f:\n",
    "    for line in tqdm(f):\n",
    "        review = json.loads(line)\n",
    "        data.append(review['text'])\n",
    "\n",
    "# 3. Criando o embedding\n",
    "embeddings = []\n",
    "for text in tqdm(data):\n",
    "    # Tokenizando o texto e adicionando os tokens [CLS] e [SEP]\n",
    "    tokens = tokenizer.encode(text, add_special_tokens=True, max_length=512)\n",
    "\n",
    "    # Dividindo os tokens em segmentos menores\n",
    "    MAX_SEGMENT_SIZE = 256\n",
    "    segmented_tokens = [tokens[i:i+MAX_SEGMENT_SIZE] for i in range(0, len(tokens), MAX_SEGMENT_SIZE)]\n",
    "\n",
    "    # Obtendo o embedding para cada segmento\n",
    "    segment_embeddings = []\n",
    "    for segment in segmented_tokens:\n",
    "        input_ids = torch.tensor(segment).unsqueeze(0).to('cuda')\n",
    "        with torch.no_grad():\n",
    "            output = model(input_ids)\n",
    "        segment_embeddings.append(output[0][:, 0, :].cpu().numpy())\n",
    "\n",
    "    # Combinando os embeddings dos segmentos em um único vetor\n",
    "    embeddings.append(np.concatenate(segment_embeddings, axis=0))\n",
    "\n",
    "embeddings = np.concatenate(embeddings, axis=0)\n",
    "\n",
    "\n",
    "# 4. Salvando os embeddings\n",
    "np.save('embeddingstextreview.npy', embeddings)\n"
   ]
  },
  {
   "cell_type": "code",
   "execution_count": 14,
   "id": "b7de7090",
   "metadata": {},
   "outputs": [
    {
     "name": "stdout",
     "output_type": "stream",
     "text": [
      "(908915, 768)\n"
     ]
    }
   ],
   "source": [
    "import numpy as np\n",
    "\n",
    "# Carrega o arquivo de embeddings\n",
    "embeddings = np.load('embeddingstextreview.npy')\n",
    "\n",
    "# Verifica as dimensões dos embeddings\n",
    "print(embeddings.shape)"
   ]
  },
  {
   "cell_type": "code",
   "execution_count": null,
   "id": "72602d68",
   "metadata": {},
   "outputs": [],
   "source": []
  }
 ],
 "metadata": {
  "kernelspec": {
   "display_name": "Python 3 (ipykernel)",
   "language": "python",
   "name": "python3"
  },
  "language_info": {
   "codemirror_mode": {
    "name": "ipython",
    "version": 3
   },
   "file_extension": ".py",
   "mimetype": "text/x-python",
   "name": "python",
   "nbconvert_exporter": "python",
   "pygments_lexer": "ipython3",
   "version": "3.9.12"
  }
 },
 "nbformat": 4,
 "nbformat_minor": 5
}
