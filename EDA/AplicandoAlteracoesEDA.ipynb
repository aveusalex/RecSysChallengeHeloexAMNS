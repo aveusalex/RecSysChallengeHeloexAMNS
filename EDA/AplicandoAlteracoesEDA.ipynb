{
 "cells": [
  {
   "cell_type": "code",
   "execution_count": 2,
   "metadata": {
    "collapsed": true
   },
   "outputs": [],
   "source": [
    "import pandas as pd\n",
    "import numpy as np"
   ]
  },
  {
   "cell_type": "code",
   "execution_count": 3,
   "outputs": [],
   "source": [
    "df_business = pd.read_parquet('../data/yelp_dataset/yelp_academic_dataset_business.parquet')"
   ],
   "metadata": {
    "collapsed": false
   }
  },
  {
   "cell_type": "markdown",
   "source": [
    "# Alterações no df_business"
   ],
   "metadata": {
    "collapsed": false
   }
  },
  {
   "cell_type": "code",
   "execution_count": 4,
   "outputs": [],
   "source": [
    "# drop do name\n",
    "df_business.drop(columns=['name'], inplace=True)"
   ],
   "metadata": {
    "collapsed": false
   }
  },
  {
   "cell_type": "code",
   "execution_count": 5,
   "outputs": [],
   "source": [
    "# drop do address, city e state\n",
    "df_business.drop(columns=['address', 'city', 'state'], inplace=True)"
   ],
   "metadata": {
    "collapsed": false
   }
  },
  {
   "cell_type": "code",
   "execution_count": 6,
   "outputs": [],
   "source": [
    "# drop do postal_code\n",
    "df_business.drop(columns=['postal_code'], inplace=True)"
   ],
   "metadata": {
    "collapsed": false
   }
  },
  {
   "cell_type": "code",
   "execution_count": 7,
   "outputs": [],
   "source": [
    "# ficar esperto com is_open, pois os lugares fechados podem ser úteis para treinar aqui, mas na hora de recomendar devem ser deixados de lado."
   ],
   "metadata": {
    "collapsed": false
   }
  },
  {
   "cell_type": "code",
   "execution_count": 8,
   "outputs": [],
   "source": [
    "# drop dos atributos\n",
    "df_business.drop(columns=['attributes'], inplace=True)"
   ],
   "metadata": {
    "collapsed": false
   }
  },
  {
   "cell_type": "code",
   "execution_count": 9,
   "outputs": [],
   "source": [
    "# drop dos horários\n",
    "df_business.drop(columns=['hours'], inplace=True)"
   ],
   "metadata": {
    "collapsed": false
   }
  },
  {
   "cell_type": "code",
   "execution_count": 10,
   "outputs": [
    {
     "name": "stdout",
     "output_type": "stream",
     "text": [
      "<class 'pandas.core.frame.DataFrame'>\n",
      "RangeIndex: 150346 entries, 0 to 150345\n",
      "Data columns (total 7 columns):\n",
      " #   Column        Non-Null Count   Dtype  \n",
      "---  ------        --------------   -----  \n",
      " 0   business_id   150346 non-null  object \n",
      " 1   latitude      150346 non-null  float32\n",
      " 2   longitude     150346 non-null  float32\n",
      " 3   stars         150346 non-null  float32\n",
      " 4   review_count  150346 non-null  uint16 \n",
      " 5   is_open       150346 non-null  uint8  \n",
      " 6   categories    150243 non-null  object \n",
      "dtypes: float32(3), object(2), uint16(1), uint8(1)\n",
      "memory usage: 4.4+ MB\n"
     ]
    }
   ],
   "source": [
    "df_business.info()"
   ],
   "metadata": {
    "collapsed": false
   }
  },
  {
   "cell_type": "markdown",
   "source": [
    "> Pronto para transformações!"
   ],
   "metadata": {
    "collapsed": false
   }
  },
  {
   "cell_type": "markdown",
   "source": [
    "# Alteraçoes no df_review"
   ],
   "metadata": {
    "collapsed": false
   }
  },
  {
   "cell_type": "code",
   "execution_count": 11,
   "outputs": [],
   "source": [
    "df_reviews = pd.read_parquet('../data/yelp_dataset/yelp_academic_dataset_review_0.parquet')\n",
    "df_reviews2 = pd.read_parquet('../data/yelp_dataset/yelp_academic_dataset_review_1.parquet')\n",
    "df_reviews = pd.concat([df_reviews, df_reviews2])\n",
    "del df_reviews2"
   ],
   "metadata": {
    "collapsed": false
   }
  },
  {
   "cell_type": "code",
   "execution_count": 17,
   "outputs": [],
   "source": [
    "# dropando o review_id\n",
    "df_reviews.drop(columns=['review_id'], inplace=True)"
   ],
   "metadata": {
    "collapsed": false
   }
  },
  {
   "cell_type": "code",
   "execution_count": 15,
   "outputs": [],
   "source": [
    "# stars, useful, funny e cool podem ser tratados como intensificadores do embedding do texto.\n",
    "# useful, funny e cool devem ser adicionados de np.e para evitar np.log(0) e depois aplicar np.log\n",
    "\n",
    "df_reviews['useful'] = df_reviews['useful'].apply(lambda x: np.log(x + np.e))\n",
    "df_reviews['funny'] = df_reviews['funny'].apply(lambda x: np.log(x + np.e))\n",
    "df_reviews['cool'] = df_reviews['cool'].apply(lambda x: np.log(x + np.e))"
   ],
   "metadata": {
    "collapsed": false
   }
  },
  {
   "cell_type": "code",
   "execution_count": 16,
   "outputs": [],
   "source": [
    "# dropando a data\n",
    "df_reviews.drop(columns=['date'], inplace=True)"
   ],
   "metadata": {
    "collapsed": false
   }
  },
  {
   "cell_type": "code",
   "execution_count": 20,
   "outputs": [
    {
     "name": "stdout",
     "output_type": "stream",
     "text": [
      "<class 'pandas.core.frame.DataFrame'>\n",
      "RangeIndex: 6990280 entries, 0 to 6990279\n",
      "Data columns (total 7 columns):\n",
      " #   Column       Dtype \n",
      "---  ------       ----- \n",
      " 0   user_id      object\n",
      " 1   business_id  object\n",
      " 2   stars        uint8 \n",
      " 3   useful       int32 \n",
      " 4   funny        int32 \n",
      " 5   cool         int32 \n",
      " 6   text         object\n",
      "dtypes: int32(3), object(3), uint8(1)\n",
      "memory usage: 246.7+ MB\n"
     ]
    }
   ],
   "source": [
    "df_reviews.info()"
   ],
   "metadata": {
    "collapsed": false
   }
  },
  {
   "cell_type": "code",
   "execution_count": 19,
   "outputs": [],
   "source": [
    "# transformando useful funny e cool em int32\n",
    "df_reviews['useful'] = df_reviews['useful'].astype(np.int32)\n",
    "df_reviews['funny'] = df_reviews['funny'].astype(np.int32)\n",
    "df_reviews['cool'] = df_reviews['cool'].astype(np.int32)"
   ],
   "metadata": {
    "collapsed": false
   }
  },
  {
   "cell_type": "markdown",
   "source": [
    "# Alterações no df_user"
   ],
   "metadata": {
    "collapsed": false
   }
  },
  {
   "cell_type": "code",
   "execution_count": 21,
   "outputs": [],
   "source": [
    "df_user = pd.read_parquet('../data/yelp_dataset/yelp_academic_dataset_user_0.parquet')\n",
    "df_user2 = pd.read_parquet('../data/yelp_dataset/yelp_academic_dataset_user_1.parquet')\n",
    "df_user = pd.concat([df_user, df_user2])\n",
    "del df_user2"
   ],
   "metadata": {
    "collapsed": false
   }
  },
  {
   "cell_type": "code",
   "execution_count": 22,
   "outputs": [],
   "source": [
    "# dropando o name\n",
    "df_user.drop(columns=['name'], inplace=True)"
   ],
   "metadata": {
    "collapsed": false
   }
  },
  {
   "cell_type": "code",
   "execution_count": 23,
   "outputs": [],
   "source": [
    "# passando para escala logarítmica o review_count\n",
    "df_user['review_count'] = df_user['review_count'].apply(lambda x: np.log(x + np.e))"
   ],
   "metadata": {
    "collapsed": false
   }
  },
  {
   "cell_type": "code",
   "execution_count": 27,
   "outputs": [],
   "source": [
    "# transformando yelping_since em idade em dias\n",
    "df_user['account_age'] = (pd.to_datetime('today') - pd.to_datetime(df_user.yelping_since)).dt.days"
   ],
   "metadata": {
    "collapsed": false
   }
  },
  {
   "cell_type": "code",
   "execution_count": 28,
   "outputs": [],
   "source": [
    "# drop yelping_since\n",
    "df_user.drop(columns=['yelping_since'], inplace=True)"
   ],
   "metadata": {
    "collapsed": false
   }
  },
  {
   "cell_type": "code",
   "execution_count": 29,
   "outputs": [],
   "source": [
    "# drop friends\n",
    "df_user.drop(columns=['friends'], inplace=True)"
   ],
   "metadata": {
    "collapsed": false
   }
  },
  {
   "cell_type": "code",
   "execution_count": 30,
   "outputs": [],
   "source": [
    "# escala logaritmica de useful funny e cool\n",
    "df_user['useful'] = df_user['useful'].apply(lambda x: np.log(x + np.e))\n",
    "df_user['funny'] = df_user['funny'].apply(lambda x: np.log(x + np.e))\n",
    "df_user['cool'] = df_user['cool'].apply(lambda x: np.log(x + np.e))"
   ],
   "metadata": {
    "collapsed": false
   }
  },
  {
   "cell_type": "code",
   "execution_count": 31,
   "outputs": [],
   "source": [
    "# escala logaritmica de fans\n",
    "df_user['fans'] = df_user['fans'].apply(lambda x: np.log(x + np.e))"
   ],
   "metadata": {
    "collapsed": false
   }
  },
  {
   "cell_type": "code",
   "execution_count": 32,
   "outputs": [],
   "source": [
    "# dropando o elite\n",
    "df_user.drop(columns=['elite'], inplace=True)"
   ],
   "metadata": {
    "collapsed": false
   }
  },
  {
   "cell_type": "code",
   "execution_count": 33,
   "outputs": [],
   "source": [
    "# criando a métrica \"chato\" usando a average_stars (quanto maior, mais chato)\n",
    "df_user['chato'] = df_user.average_stars.median() / df_user.average_stars"
   ],
   "metadata": {
    "collapsed": false
   }
  },
  {
   "cell_type": "code",
   "execution_count": 34,
   "outputs": [],
   "source": [
    "# dropando o average_stars\n",
    "df_user.drop(columns=['average_stars'], inplace=True)"
   ],
   "metadata": {
    "collapsed": false
   }
  },
  {
   "cell_type": "code",
   "execution_count": 35,
   "outputs": [],
   "source": [
    "# uasndo escala logaritmica no compliment_hot, compliment_more, compliment_profile, compliment_cute, compliment_list, compliment_note, compliment_plain, compliment_cool, compliment_funny, compliment_writer, compliment_photos\n",
    "df_user['compliment_hot'] = df_user['compliment_hot'].apply(lambda x: np.log(x + np.e))\n",
    "df_user['compliment_more'] = df_user['compliment_more'].apply(lambda x: np.log(x + np.e))\n",
    "df_user['compliment_profile'] = df_user['compliment_profile'].apply(lambda x: np.log(x + np.e))\n",
    "df_user['compliment_cute'] = df_user['compliment_cute'].apply(lambda x: np.log(x + np.e))\n",
    "df_user['compliment_list'] = df_user['compliment_list'].apply(lambda x: np.log(x + np.e))\n",
    "df_user['compliment_note'] = df_user['compliment_note'].apply(lambda x: np.log(x + np.e))\n",
    "df_user['compliment_plain'] = df_user['compliment_plain'].apply(lambda x: np.log(x + np.e))\n",
    "df_user['compliment_cool'] = df_user['compliment_cool'].apply(lambda x: np.log(x + np.e))\n",
    "df_user['compliment_funny'] = df_user['compliment_funny'].apply(lambda x: np.log(x + np.e))\n",
    "df_user['compliment_writer'] = df_user['compliment_writer'].apply(lambda x: np.log(x + np.e))\n",
    "df_user['compliment_photos'] = df_user['compliment_photos'].apply(lambda x: np.log(x + np.e))\n"
   ],
   "metadata": {
    "collapsed": false
   }
  },
  {
   "cell_type": "code",
   "execution_count": 36,
   "outputs": [
    {
     "name": "stdout",
     "output_type": "stream",
     "text": [
      "<class 'pandas.core.frame.DataFrame'>\n",
      "RangeIndex: 1987897 entries, 0 to 1987896\n",
      "Data columns (total 19 columns):\n",
      " #   Column              Dtype  \n",
      "---  ------              -----  \n",
      " 0   user_id             object \n",
      " 1   review_count        float64\n",
      " 2   useful              float64\n",
      " 3   funny               float64\n",
      " 4   cool                float64\n",
      " 5   fans                float64\n",
      " 6   compliment_hot      float64\n",
      " 7   compliment_more     float64\n",
      " 8   compliment_profile  float64\n",
      " 9   compliment_cute     float64\n",
      " 10  compliment_list     float64\n",
      " 11  compliment_note     float64\n",
      " 12  compliment_plain    float64\n",
      " 13  compliment_cool     float64\n",
      " 14  compliment_funny    float64\n",
      " 15  compliment_writer   float64\n",
      " 16  compliment_photos   float64\n",
      " 17  account_age         int64  \n",
      " 18  chato               float32\n",
      "dtypes: float32(1), float64(16), int64(1), object(1)\n",
      "memory usage: 280.6+ MB\n"
     ]
    }
   ],
   "source": [
    "df_user.info()"
   ],
   "metadata": {
    "collapsed": false
   }
  },
  {
   "cell_type": "code",
   "execution_count": 37,
   "outputs": [],
   "source": [
    "# passando as colunas para float32\n",
    "df_user['review_count'] = df_user['review_count'].astype(np.float32)\n",
    "\n",
    "df_user['useful'] = df_user['useful'].astype(np.float32)\n",
    "df_user['funny'] = df_user['funny'].astype(np.float32)\n",
    "df_user['cool'] = df_user['cool'].astype(np.float32)\n",
    "\n",
    "df_user['fans'] = df_user['fans'].astype(np.float32)\n",
    "\n",
    "df_user['chato'] = df_user['chato'].astype(np.float32)\n",
    "\n",
    "df_user['compliment_hot'] = df_user['compliment_hot'].astype(np.float32)\n",
    "df_user['compliment_more'] = df_user['compliment_more'].astype(np.float32)\n",
    "df_user['compliment_profile'] = df_user['compliment_profile'].astype(np.float32)\n",
    "df_user['compliment_cute'] = df_user['compliment_cute'].astype(np.float32)\n",
    "df_user['compliment_list'] = df_user['compliment_list'].astype(np.float32)\n",
    "df_user['compliment_note'] = df_user['compliment_note'].astype(np.float32)\n",
    "df_user['compliment_plain'] = df_user['compliment_plain'].astype(np.float32)\n",
    "df_user['compliment_cool'] = df_user['compliment_cool'].astype(np.float32)\n",
    "df_user['compliment_funny'] = df_user['compliment_funny'].astype(np.float32)\n",
    "df_user['compliment_writer'] = df_user['compliment_writer'].astype(np.float32)\n",
    "df_user['compliment_photos'] = df_user['compliment_photos'].astype(np.float32)"
   ],
   "metadata": {
    "collapsed": false
   }
  },
  {
   "cell_type": "markdown",
   "source": [
    "# Salvando os dataframes"
   ],
   "metadata": {
    "collapsed": false
   }
  },
  {
   "cell_type": "code",
   "execution_count": 38,
   "outputs": [],
   "source": [
    "df_business.to_parquet('../data/DatasetsLimpos/yelp_academic_dataset_business.parquet')"
   ],
   "metadata": {
    "collapsed": false
   }
  },
  {
   "cell_type": "code",
   "execution_count": 40,
   "outputs": [],
   "source": [
    "df_reviews.to_parquet('../data/DatasetsLimpos/yelp_academic_dataset_review.parquet')"
   ],
   "metadata": {
    "collapsed": false
   }
  },
  {
   "cell_type": "code",
   "execution_count": 41,
   "outputs": [],
   "source": [
    "df_user.to_parquet('../data/DatasetsLimpos/yelp_academic_dataset_user.parquet')"
   ],
   "metadata": {
    "collapsed": false
   }
  },
  {
   "cell_type": "markdown",
   "source": [
    "# Unindo os datasets"
   ],
   "metadata": {
    "collapsed": false
   }
  },
  {
   "cell_type": "code",
   "execution_count": 1,
   "outputs": [],
   "source": [
    "import pandas as pd\n",
    "import numpy as np"
   ],
   "metadata": {
    "collapsed": false
   }
  },
  {
   "cell_type": "code",
   "execution_count": 2,
   "outputs": [],
   "source": [
    "df_business = pd.read_parquet('../data/DatasetsLimpos/yelp_academic_dataset_business.parquet')\n",
    "df_reviews = pd.read_parquet('../data/DatasetsLimpos/yelp_academic_dataset_review.parquet')\n",
    "df_user = pd.read_parquet('../data/DatasetsLimpos/yelp_academic_dataset_user.parquet')"
   ],
   "metadata": {
    "collapsed": false
   }
  },
  {
   "cell_type": "code",
   "execution_count": 3,
   "outputs": [
    {
     "name": "stdout",
     "output_type": "stream",
     "text": [
      "<class 'pandas.core.frame.DataFrame'>\n",
      "RangeIndex: 150346 entries, 0 to 150345\n",
      "Data columns (total 7 columns):\n",
      " #   Column        Non-Null Count   Dtype  \n",
      "---  ------        --------------   -----  \n",
      " 0   business_id   150346 non-null  object \n",
      " 1   latitude      150346 non-null  float32\n",
      " 2   longitude     150346 non-null  float32\n",
      " 3   stars         150346 non-null  float32\n",
      " 4   review_count  150346 non-null  uint16 \n",
      " 5   is_open       150346 non-null  uint8  \n",
      " 6   categories    150243 non-null  object \n",
      "dtypes: float32(3), object(2), uint16(1), uint8(1)\n",
      "memory usage: 4.4+ MB\n"
     ]
    }
   ],
   "source": [
    "df_business.info()"
   ],
   "metadata": {
    "collapsed": false
   }
  },
  {
   "cell_type": "code",
   "execution_count": 4,
   "outputs": [
    {
     "name": "stdout",
     "output_type": "stream",
     "text": [
      "<class 'pandas.core.frame.DataFrame'>\n",
      "RangeIndex: 6990280 entries, 0 to 6990279\n",
      "Data columns (total 7 columns):\n",
      " #   Column       Dtype \n",
      "---  ------       ----- \n",
      " 0   user_id      object\n",
      " 1   business_id  object\n",
      " 2   stars        uint8 \n",
      " 3   useful       int32 \n",
      " 4   funny        int32 \n",
      " 5   cool         int32 \n",
      " 6   text         object\n",
      "dtypes: int32(3), object(3), uint8(1)\n",
      "memory usage: 246.7+ MB\n"
     ]
    }
   ],
   "source": [
    "df_reviews.info()"
   ],
   "metadata": {
    "collapsed": false
   }
  },
  {
   "cell_type": "code",
   "execution_count": 5,
   "outputs": [
    {
     "name": "stdout",
     "output_type": "stream",
     "text": [
      "<class 'pandas.core.frame.DataFrame'>\n",
      "RangeIndex: 1987897 entries, 0 to 1987896\n",
      "Data columns (total 19 columns):\n",
      " #   Column              Dtype  \n",
      "---  ------              -----  \n",
      " 0   user_id             object \n",
      " 1   review_count        float32\n",
      " 2   useful              float32\n",
      " 3   funny               float32\n",
      " 4   cool                float32\n",
      " 5   fans                float32\n",
      " 6   compliment_hot      float32\n",
      " 7   compliment_more     float32\n",
      " 8   compliment_profile  float32\n",
      " 9   compliment_cute     float32\n",
      " 10  compliment_list     float32\n",
      " 11  compliment_note     float32\n",
      " 12  compliment_plain    float32\n",
      " 13  compliment_cool     float32\n",
      " 14  compliment_funny    float32\n",
      " 15  compliment_writer   float32\n",
      " 16  compliment_photos   float32\n",
      " 17  account_age         int64  \n",
      " 18  chato               float32\n",
      "dtypes: float32(17), int64(1), object(1)\n",
      "memory usage: 159.2+ MB\n"
     ]
    }
   ],
   "source": [
    "df_user.info()"
   ],
   "metadata": {
    "collapsed": false
   }
  },
  {
   "cell_type": "code",
   "execution_count": null,
   "outputs": [],
   "source": [],
   "metadata": {
    "collapsed": false
   }
  }
 ],
 "metadata": {
  "kernelspec": {
   "display_name": "Python 3",
   "language": "python",
   "name": "python3"
  },
  "language_info": {
   "codemirror_mode": {
    "name": "ipython",
    "version": 2
   },
   "file_extension": ".py",
   "mimetype": "text/x-python",
   "name": "python",
   "nbconvert_exporter": "python",
   "pygments_lexer": "ipython2",
   "version": "2.7.6"
  }
 },
 "nbformat": 4,
 "nbformat_minor": 0
}
