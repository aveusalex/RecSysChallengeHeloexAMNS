{
 "cells": [
  {
   "cell_type": "code",
   "execution_count": 1,
   "metadata": {
    "collapsed": true
   },
   "outputs": [],
   "source": [
    "import pandas as pd"
   ]
  },
  {
   "cell_type": "code",
   "execution_count": 2,
   "outputs": [],
   "source": [
    "df_text_embs = pd.read_csv('../data/DatasetsLimpos/reviews_textEmbedded.csv')"
   ],
   "metadata": {
    "collapsed": false
   }
  },
  {
   "cell_type": "markdown",
   "source": [
    "# Para os business"
   ],
   "metadata": {
    "collapsed": false
   }
  },
  {
   "cell_type": "markdown",
   "source": [
    "## Carregando os business em eval dataset"
   ],
   "metadata": {
    "collapsed": false
   }
  },
  {
   "cell_type": "code",
   "execution_count": 3,
   "outputs": [],
   "source": [
    "# carregando eval_df\n",
    "eval_df = pd.read_csv('../data/evaluation/eval_users.csv')"
   ],
   "metadata": {
    "collapsed": false
   }
  },
  {
   "cell_type": "code",
   "execution_count": 4,
   "outputs": [],
   "source": [
    "# verificando os business que aparecem em eval\n",
    "business_ = eval_df['gt_reclist'].apply(lambda x: x.replace(\"[\", \"\").replace(\"]\", \"\").split(',')).explode().unique()"
   ],
   "metadata": {
    "collapsed": false
   }
  },
  {
   "cell_type": "code",
   "execution_count": 5,
   "outputs": [],
   "source": [
    "business_ = pd.Series(business_).apply(lambda x: x.replace(\"'\", \"\").replace(\" \", \"\")).unique()"
   ],
   "metadata": {
    "collapsed": false
   }
  },
  {
   "cell_type": "code",
   "execution_count": 6,
   "outputs": [
    {
     "data": {
      "text/plain": "(7862,)"
     },
     "execution_count": 6,
     "metadata": {},
     "output_type": "execute_result"
    }
   ],
   "source": [
    "business_.shape"
   ],
   "metadata": {
    "collapsed": false
   }
  },
  {
   "cell_type": "code",
   "execution_count": 7,
   "outputs": [],
   "source": [
    "df_reviews = pd.read_parquet('../data/DatasetsLimpos/yelp_academic_dataset_review.parquet', columns=['business_id','user_id'])"
   ],
   "metadata": {
    "collapsed": false
   }
  },
  {
   "cell_type": "code",
   "execution_count": 8,
   "outputs": [],
   "source": [
    "# filtrando apenas os business que aparecem em eval\n",
    "df_reviews = df_reviews[df_reviews['business_id'].isin(business_)]"
   ],
   "metadata": {
    "collapsed": false
   }
  },
  {
   "cell_type": "code",
   "execution_count": 9,
   "outputs": [
    {
     "data": {
      "text/plain": "(1935414, 2)"
     },
     "execution_count": 9,
     "metadata": {},
     "output_type": "execute_result"
    }
   ],
   "source": [
    "df_reviews.shape"
   ],
   "metadata": {
    "collapsed": false
   }
  },
  {
   "cell_type": "markdown",
   "source": [
    "> Temos 1.9 mi de reviews que aparecem em eval"
   ],
   "metadata": {
    "collapsed": false
   }
  },
  {
   "cell_type": "markdown",
   "source": [
    "## Filtrando os embeddings para apenas os business selecionados"
   ],
   "metadata": {
    "collapsed": false
   }
  },
  {
   "cell_type": "code",
   "execution_count": 11,
   "outputs": [],
   "source": [
    "# realizando o join com o df_text_embs a partir da chave user_id\n",
    "df_reviews = df_reviews.merge(df_text_embs, on='user_id', how='left')"
   ],
   "metadata": {
    "collapsed": false
   }
  },
  {
   "cell_type": "code",
   "execution_count": 12,
   "outputs": [
    {
     "data": {
      "text/plain": "(1935414, 3)"
     },
     "execution_count": 12,
     "metadata": {},
     "output_type": "execute_result"
    }
   ],
   "source": [
    "df_reviews.shape"
   ],
   "metadata": {
    "collapsed": false
   }
  },
  {
   "cell_type": "code",
   "execution_count": 13,
   "outputs": [
    {
     "name": "stdout",
     "output_type": "stream",
     "text": [
      "<class 'pandas.core.frame.DataFrame'>\n",
      "Int64Index: 1935414 entries, 0 to 1935413\n",
      "Data columns (total 3 columns):\n",
      " #   Column          Dtype \n",
      "---  ------          ----- \n",
      " 0   business_id     object\n",
      " 1   user_id         object\n",
      " 2   embeddings_str  object\n",
      "dtypes: object(3)\n",
      "memory usage: 59.1+ MB\n"
     ]
    }
   ],
   "source": [
    "df_reviews.info()"
   ],
   "metadata": {
    "collapsed": false
   }
  },
  {
   "cell_type": "code",
   "execution_count": 15,
   "outputs": [],
   "source": [
    "# excluindo da memoria o df_text_embs para liberar memoria\n",
    "del df_text_embs"
   ],
   "metadata": {
    "collapsed": false
   }
  },
  {
   "cell_type": "code",
   "execution_count": 37,
   "outputs": [],
   "source": [
    "example = df_reviews.embeddings_str[1]"
   ],
   "metadata": {
    "collapsed": false
   }
  },
  {
   "cell_type": "code",
   "execution_count": 38,
   "outputs": [],
   "source": [
    "# realizando a conversao de string para array do example\n",
    "aux = example.replace('\\n', '').replace(' ', '')[1:-1].replace('array(', '').replace('dtype=float32)', '').replace('[', '').replace(']', '').split(',')"
   ],
   "metadata": {
    "collapsed": false
   }
  },
  {
   "cell_type": "code",
   "execution_count": 41,
   "outputs": [
    {
     "data": {
      "text/plain": "_ab50qdWOk0DdB6XOrBitw    7673\nac1AeYqs8Z4_e2X5M3if2A    7516\nGXFMD0Z4jEVZBCsbPf4CTQ    6160\nytynqOUb3hjKeJfRj5Tshw    5778\noBNrLz4EDhiscSlbOl8uAw    5264\n                          ... \n0eZBo7TTOUCSB3J5TDpe9Q       5\n5xAUp8tpXuna9ybCvXA2jg       5\nk8BwJjC5AdtdvyGA61npOg       5\n14jOt20lya0A2IgVhUf6hg       5\nOJ-kDqfSF3EkyvA57pUcwA       5\nName: business_id, Length: 7862, dtype: int64"
     },
     "execution_count": 41,
     "metadata": {},
     "output_type": "execute_result"
    }
   ],
   "source": [
    "df_reviews.business_id.value_counts()"
   ],
   "metadata": {
    "collapsed": false
   }
  },
  {
   "cell_type": "code",
   "execution_count": null,
   "outputs": [],
   "source": [],
   "metadata": {
    "collapsed": false
   }
  }
 ],
 "metadata": {
  "kernelspec": {
   "display_name": "Python 3",
   "language": "python",
   "name": "python3"
  },
  "language_info": {
   "codemirror_mode": {
    "name": "ipython",
    "version": 2
   },
   "file_extension": ".py",
   "mimetype": "text/x-python",
   "name": "python",
   "nbconvert_exporter": "python",
   "pygments_lexer": "ipython2",
   "version": "2.7.6"
  }
 },
 "nbformat": 4,
 "nbformat_minor": 0
}
