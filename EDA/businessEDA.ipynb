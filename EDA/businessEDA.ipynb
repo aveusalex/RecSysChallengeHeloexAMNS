{
 "cells": [
  {
   "cell_type": "code",
   "execution_count": 1,
   "outputs": [],
   "source": [
    "# Importações\n",
    "import pandas as pd\n",
    "import numpy as np\n",
    "import seaborn as sns\n",
    "import matplotlib.pyplot as plt"
   ],
   "metadata": {
    "collapsed": false
   }
  },
  {
   "cell_type": "markdown",
   "source": [
    "# EDA de fato"
   ],
   "metadata": {
    "collapsed": false
   }
  },
  {
   "cell_type": "code",
   "execution_count": 2,
   "outputs": [],
   "source": [
    "# Lendo os arquivos parquet\n",
    "df_business = pd.read_parquet(\"../data/yelp_dataset/yelp_academic_dataset_business.parquet\")"
   ],
   "metadata": {
    "collapsed": false
   }
  },
  {
   "cell_type": "code",
   "execution_count": 3,
   "outputs": [
    {
     "name": "stdout",
     "output_type": "stream",
     "text": [
      "<class 'pandas.core.frame.DataFrame'>\n",
      "RangeIndex: 150346 entries, 0 to 150345\n",
      "Data columns (total 14 columns):\n",
      " #   Column        Non-Null Count   Dtype  \n",
      "---  ------        --------------   -----  \n",
      " 0   business_id   150346 non-null  object \n",
      " 1   name          150346 non-null  object \n",
      " 2   address       150346 non-null  object \n",
      " 3   city          150346 non-null  object \n",
      " 4   state         150346 non-null  object \n",
      " 5   postal_code   150346 non-null  object \n",
      " 6   latitude      150346 non-null  float32\n",
      " 7   longitude     150346 non-null  float32\n",
      " 8   stars         150346 non-null  float32\n",
      " 9   review_count  150346 non-null  uint16 \n",
      " 10  is_open       150346 non-null  uint8  \n",
      " 11  attributes    136602 non-null  object \n",
      " 12  categories    150243 non-null  object \n",
      " 13  hours         127123 non-null  object \n",
      "dtypes: float32(3), object(9), uint16(1), uint8(1)\n",
      "memory usage: 12.5+ MB\n"
     ]
    }
   ],
   "source": [
    "df_business.info()"
   ],
   "metadata": {
    "collapsed": false
   }
  },
  {
   "cell_type": "markdown",
   "source": [
    "> Temos 150.346 registros e 14 colunas."
   ],
   "metadata": {
    "collapsed": false
   }
  },
  {
   "cell_type": "markdown",
   "source": [
    "## Ideias:"
   ],
   "metadata": {
    "collapsed": false
   }
  },
  {
   "cell_type": "markdown",
   "source": [
    "- business_id é apenas um idetnificador único para relacionar com as outras tabelas\n",
    "- name é o nome do negócio -> talvez podemos usar um word embedding para já ter uma separação de categorias\n",
    "- ~address é o endereço do negócio -> acho que só serve para indicar a distância do negócio para o usuário (filtrar por mais  próximas)~\n",
    "- city acho que apenas serve para filtrar restaurantes por cidade\n",
    "- state acho que apenas serve para filtrar restaurantes por estado\n",
    "- ~postal_code talvez já resuma as 3 ultimas colunas e talvez seja mais facil de estabelecer a distancia do usuário para o restaurante~\n",
    "- latitude e longitude ~podem ser dropadas~ (ou usadas para georefenciar o endereco, ao inves do postal_code) (vamos usar essa já em conjunto com a lib geopy!)\n",
    "- stars é a média de estrelas do negócio -> dá para dividir pela mediana e estimar se tá acima ou abaixo do normal\n",
    "- review_count é a quantidade de reviews do negócio -> dá para estimar algo disso?\n",
    "- is_open é se o negócio está aberto ou não -> dá para usar isso para filtrar por abertos ou fechados\n",
    "- attributes -> verificar se o tamanho é fixo ou variável\n",
    "- categories -> verificar se o tamanho é fixo ou variável\n",
    "- hours -> verificar se o tamanho é fixo ou variável e usar somente a quantidade de dias abertos"
   ],
   "metadata": {
    "collapsed": false
   }
  },
  {
   "cell_type": "markdown",
   "source": [
    "### Verificando a coluna name"
   ],
   "metadata": {
    "collapsed": false
   }
  },
  {
   "cell_type": "code",
   "execution_count": 4,
   "outputs": [
    {
     "data": {
      "text/plain": "count        150346\nunique       114117\ntop       Starbucks\nfreq            724\nName: name, dtype: object"
     },
     "execution_count": 4,
     "metadata": {},
     "output_type": "execute_result"
    }
   ],
   "source": [
    "df_business.name.describe()"
   ],
   "metadata": {
    "collapsed": false
   }
  },
  {
   "cell_type": "markdown",
   "source": [
    "> Vários nomes podem se repetir. Não temos muitos nomes repetidos, mas temos alguns."
   ],
   "metadata": {
    "collapsed": false
   }
  },
  {
   "cell_type": "code",
   "execution_count": 5,
   "outputs": [
    {
     "data": {
      "text/plain": "62838         Freddy's Frozen Custard & Steakburgers\n113000                                     Boat Club\n32546                              Mama's Vegetarian\n27683                Mongkoltepmunee Buddhist Temple\n111515                              Black Bear Diner\n8427                  Arizona's Interior Innovations\n94018                         Abandoned Luncheonette\n93957               Pima County Sheriff's Department\n82468                                     Branch Out\n68727     Gastroenterology Consultants Medical Group\nName: name, dtype: object"
     },
     "execution_count": 5,
     "metadata": {},
     "output_type": "execute_result"
    }
   ],
   "source": [
    "df_business.name.sample(10)"
   ],
   "metadata": {
    "collapsed": false
   }
  },
  {
   "cell_type": "markdown",
   "source": [
    "> Talvez seja melhor não usar o nome para nada."
   ],
   "metadata": {
    "collapsed": false
   }
  },
  {
   "cell_type": "markdown",
   "source": [
    "### Dropando address"
   ],
   "metadata": {
    "collapsed": false
   }
  },
  {
   "cell_type": "code",
   "execution_count": 6,
   "outputs": [],
   "source": [
    "df_business.drop(columns=[\"address\"], inplace=True)"
   ],
   "metadata": {
    "collapsed": false
   }
  },
  {
   "cell_type": "markdown",
   "source": [
    "### Verificando city e state"
   ],
   "metadata": {
    "collapsed": false
   }
  },
  {
   "cell_type": "code",
   "execution_count": 7,
   "outputs": [
    {
     "data": {
      "text/plain": "                city   state\ncount         150346  150346\nunique          1416      27\ntop     Philadelphia      PA\nfreq           14569   34039",
      "text/html": "<div>\n<style scoped>\n    .dataframe tbody tr th:only-of-type {\n        vertical-align: middle;\n    }\n\n    .dataframe tbody tr th {\n        vertical-align: top;\n    }\n\n    .dataframe thead th {\n        text-align: right;\n    }\n</style>\n<table border=\"1\" class=\"dataframe\">\n  <thead>\n    <tr style=\"text-align: right;\">\n      <th></th>\n      <th>city</th>\n      <th>state</th>\n    </tr>\n  </thead>\n  <tbody>\n    <tr>\n      <th>count</th>\n      <td>150346</td>\n      <td>150346</td>\n    </tr>\n    <tr>\n      <th>unique</th>\n      <td>1416</td>\n      <td>27</td>\n    </tr>\n    <tr>\n      <th>top</th>\n      <td>Philadelphia</td>\n      <td>PA</td>\n    </tr>\n    <tr>\n      <th>freq</th>\n      <td>14569</td>\n      <td>34039</td>\n    </tr>\n  </tbody>\n</table>\n</div>"
     },
     "execution_count": 7,
     "metadata": {},
     "output_type": "execute_result"
    }
   ],
   "source": [
    "df_business[[\"city\",\"state\"]].describe()"
   ],
   "metadata": {
    "collapsed": false
   }
  },
  {
   "cell_type": "markdown",
   "source": [
    "> Como esperado, tem-se muito registros de cidades. Mas apenas 27 estados."
   ],
   "metadata": {
    "collapsed": false
   }
  },
  {
   "cell_type": "code",
   "execution_count": 8,
   "outputs": [
    {
     "data": {
      "text/plain": "array(['CA', 'MO', 'AZ', 'PA', 'TN', 'FL', 'IN', 'LA', 'AB', 'NV', 'ID',\n       'DE', 'IL', 'NJ', 'NC', 'CO', 'WA', 'HI', 'UT', 'TX', 'MT', 'MI',\n       'SD', 'XMS', 'MA', 'VI', 'VT'], dtype=object)"
     },
     "execution_count": 8,
     "metadata": {},
     "output_type": "execute_result"
    }
   ],
   "source": [
    "df_business.state.unique()"
   ],
   "metadata": {
    "collapsed": false
   }
  },
  {
   "cell_type": "markdown",
   "source": [
    "> Apenas estados dos EUA. Mas, pensando bem, podemos dropar esses dados e manter apenas os dados de latitude e longitude, recomendando apenas aqueles restuarantes dentro de um raio arbitrário."
   ],
   "metadata": {
    "collapsed": false
   }
  },
  {
   "cell_type": "code",
   "execution_count": 9,
   "outputs": [],
   "source": [
    "df_business.drop(columns=[\"city\",\"state\"], inplace=True)"
   ],
   "metadata": {
    "collapsed": false
   }
  },
  {
   "cell_type": "code",
   "execution_count": 10,
   "outputs": [],
   "source": [
    "df_business.drop(columns=[\"postal_code\"], inplace=True)  # já deleta o codigo postal"
   ],
   "metadata": {
    "collapsed": false
   }
  },
  {
   "cell_type": "markdown",
   "source": [
    "### Verificando latitude e longitude"
   ],
   "metadata": {
    "collapsed": false
   }
  },
  {
   "cell_type": "code",
   "execution_count": 11,
   "outputs": [
    {
     "name": "stdout",
     "output_type": "stream",
     "text": [
      "<class 'pandas.core.frame.DataFrame'>\n",
      "RangeIndex: 150346 entries, 0 to 150345\n",
      "Data columns (total 2 columns):\n",
      " #   Column     Non-Null Count   Dtype  \n",
      "---  ------     --------------   -----  \n",
      " 0   latitude   150346 non-null  float32\n",
      " 1   longitude  150346 non-null  float32\n",
      "dtypes: float32(2)\n",
      "memory usage: 1.1 MB\n"
     ]
    }
   ],
   "source": [
    "df_business[[\"latitude\",\"longitude\"]].info()"
   ],
   "metadata": {
    "collapsed": false
   }
  },
  {
   "cell_type": "markdown",
   "source": [
    "> Todas as linhas possuem latitude e longitude. Não temos nenhum registro nulo. Que maravilha!"
   ],
   "metadata": {
    "collapsed": false
   }
  },
  {
   "cell_type": "markdown",
   "source": [
    "### Verificando stars"
   ],
   "metadata": {
    "collapsed": false
   }
  },
  {
   "cell_type": "code",
   "execution_count": 12,
   "outputs": [
    {
     "data": {
      "text/plain": "count    150346.000000\nmean          3.596724\nstd           0.974421\nmin           1.000000\n25%           3.000000\n50%           3.500000\n75%           4.500000\nmax           5.000000\nName: stars, dtype: float64"
     },
     "execution_count": 12,
     "metadata": {},
     "output_type": "execute_result"
    }
   ],
   "source": [
    "df_business.stars.describe()"
   ],
   "metadata": {
    "collapsed": false
   }
  },
  {
   "cell_type": "markdown",
   "source": [
    "> A média está em 3.59, e a mediana em 3.5. Interessante essa distribuição. Vamos ver o histograma:"
   ],
   "metadata": {
    "collapsed": false
   }
  },
  {
   "cell_type": "code",
   "execution_count": 13,
   "outputs": [
    {
     "data": {
      "text/plain": "<AxesSubplot:xlabel='stars', ylabel='Count'>"
     },
     "execution_count": 13,
     "metadata": {},
     "output_type": "execute_result"
    },
    {
     "data": {
      "text/plain": "<Figure size 640x480 with 1 Axes>",
      "image/png": "[encoded data removed]"
     },
     "metadata": {},
     "output_type": "display_data"
    }
   ],
   "source": [
    "sns.histplot(df_business.stars)"
   ],
   "metadata": {
    "collapsed": false
   }
  },
  {
   "cell_type": "markdown",
   "source": [
    "> Um tanto equilibrado, mas com uma leve tendência para 5.0 estrelas."
   ],
   "metadata": {
    "collapsed": false
   }
  },
  {
   "cell_type": "markdown",
   "source": [
    "### Verificando review_count"
   ],
   "metadata": {
    "collapsed": false
   }
  },
  {
   "cell_type": "code",
   "execution_count": 14,
   "outputs": [
    {
     "data": {
      "text/plain": "count    150346.000000\nmean         44.866561\nstd         121.120136\nmin           5.000000\n25%           8.000000\n50%          15.000000\n75%          37.000000\nmax        7568.000000\nName: review_count, dtype: float64"
     },
     "execution_count": 14,
     "metadata": {},
     "output_type": "execute_result"
    }
   ],
   "source": [
    "df_business.review_count.describe()"
   ],
   "metadata": {
    "collapsed": false
   }
  },
  {
   "cell_type": "code",
   "execution_count": 15,
   "outputs": [
    {
     "data": {
      "text/plain": "Text(0, 0.5, 'Número de reviews')"
     },
     "execution_count": 15,
     "metadata": {},
     "output_type": "execute_result"
    },
    {
     "data": {
      "text/plain": "<Figure size 640x480 with 1 Axes>",
      "image/png": "[encoded data removed]"
     },
     "metadata": {},
     "output_type": "display_data"
    }
   ],
   "source": [
    "sns.boxplot(data=df_business.review_count, showfliers=False)\n",
    "plt.ylabel(\"Número de reviews\")"
   ],
   "metadata": {
    "collapsed": false
   }
  },
  {
   "cell_type": "markdown",
   "source": [
    "> Vemos que boa parte dos negócios não possuem muitas reviews. Alguns possuem milhares de reviews."
   ],
   "metadata": {
    "collapsed": false
   }
  },
  {
   "cell_type": "code",
   "execution_count": 16,
   "outputs": [
    {
     "name": "stdout",
     "output_type": "stream",
     "text": [
      "18302 possuem mais de 80.5 reviews!\n",
      "132044 possuem menos de 80.5 reviews!\n"
     ]
    }
   ],
   "source": [
    "# verificando quantos negócios estão acima do limite superior do boxplot\n",
    "IQR = df_business.review_count.quantile(0.75) - df_business.review_count.quantile(0.25)\n",
    "limite_superior = df_business.review_count.quantile(0.75) + 1.5 * IQR\n",
    "\n",
    "print(f\"{df_business[df_business.review_count > limite_superior].shape[0]} possuem mais de {limite_superior} reviews!\")\n",
    "\n",
    "\n",
    "# printando quantos estão abaixo do limite superior\n",
    "print(f\"{df_business[df_business.review_count < limite_superior].shape[0]} possuem menos de {limite_superior} reviews!\")"
   ],
   "metadata": {
    "collapsed": false
   }
  },
  {
   "cell_type": "code",
   "execution_count": 17,
   "outputs": [
    {
     "data": {
      "text/plain": "113731                     Acme Oyster House\n112552                          Oceana Grill\n91757     Hattie B’s Hot Chicken - Nashville\n143157               Reading Terminal Market\n147081            Ruby Slipper - New Orleans\n                         ...                \n123285                 Shrimpys Blues Bistro\n54427                    Anthonino's Taverna\n137004                    The Camellia Grill\n27265                          Killer Poboys\n48961                               El Limon\nName: name, Length: 315, dtype: object"
     },
     "execution_count": 17,
     "metadata": {},
     "output_type": "execute_result"
    }
   ],
   "source": [
    "# verificando o nome dos negócios com mais de 1000 reviews\n",
    "df_business[df_business.review_count > 1000].sort_values(by=\"review_count\", ascending=False).name"
   ],
   "metadata": {
    "collapsed": false
   }
  },
  {
   "cell_type": "markdown",
   "source": [
    "> Surge o alerta: temos negócios com muitas avaliações, e outros com pouquíssimas. Talvez isso dê pau na hora de criar os embeddings."
   ],
   "metadata": {
    "collapsed": false
   }
  },
  {
   "cell_type": "markdown",
   "source": [
    "> Pensando aqui, podemos substituir os reviews de cada negócio por uma média dos embeddings de cada review. Não será a melhor abordagem com os lugares que não possuem muitas reviews, mas devo pensar em uma solução ou deixar um embedding identidade."
   ],
   "metadata": {
    "collapsed": false
   }
  },
  {
   "cell_type": "code",
   "execution_count": 18,
   "outputs": [
    {
     "data": {
      "text/plain": "0"
     },
     "execution_count": 18,
     "metadata": {},
     "output_type": "execute_result"
    }
   ],
   "source": [
    "# verificando quantos lugares tem 0 reviews\n",
    "df_business[df_business.review_count == 0].shape[0]"
   ],
   "metadata": {
    "collapsed": false
   }
  },
  {
   "cell_type": "markdown",
   "source": [
    "> Opa, nenhum lugar tem 0 reviews."
   ],
   "metadata": {
    "collapsed": false
   }
  },
  {
   "cell_type": "code",
   "execution_count": 19,
   "outputs": [
    {
     "data": {
      "text/plain": "<matplotlib.legend.Legend at 0x19dc154a308>"
     },
     "execution_count": 19,
     "metadata": {},
     "output_type": "execute_result"
    },
    {
     "data": {
      "text/plain": "<Figure size 640x480 with 1 Axes>",
      "image/png": "[encoded data removed]"
     },
     "metadata": {},
     "output_type": "display_data"
    }
   ],
   "source": [
    "# verificando a distribuição de reviews abaixo do limite superior de reviews\n",
    "sns.histplot(data=df_business[df_business.review_count < limite_superior].review_count)\n",
    "# plotando linhas verticais indicando os quartis\n",
    "plt.axvline(df_business.review_count.quantile(0.25), color=\"red\", label=\"Primeiro quartil\")\n",
    "plt.axvline(df_business.review_count.quantile(0.5), color=\"green\", label=\"Segundo quartil\")\n",
    "plt.axvline(df_business.review_count.quantile(0.75), color=\"blue\", label=\"Terceiro quartil\")\n",
    "\n",
    "plt.legend()"
   ],
   "metadata": {
    "collapsed": false
   }
  },
  {
   "cell_type": "markdown",
   "source": [
    "> 50 % dos negócios possuem menos de 20 reviews. Devemos ver quantos text reviews vão existir."
   ],
   "metadata": {
    "collapsed": false
   }
  },
  {
   "cell_type": "markdown",
   "source": [
    "### Verificando is_open"
   ],
   "metadata": {
    "collapsed": false
   }
  },
  {
   "cell_type": "code",
   "execution_count": 20,
   "outputs": [
    {
     "data": {
      "text/plain": "1    119698\n0     30648\nName: is_open, dtype: int64"
     },
     "execution_count": 20,
     "metadata": {},
     "output_type": "execute_result"
    }
   ],
   "source": [
    "df_business.is_open.value_counts()"
   ],
   "metadata": {
    "collapsed": false
   }
  },
  {
   "cell_type": "markdown",
   "source": [
    "> 30 mil negócios fechados e 120 mil abertos. Isso é um problema?\n",
    "> Talvez simplesmente dropar os negócios fechados não seja uma boa ideia."
   ],
   "metadata": {
    "collapsed": false
   }
  },
  {
   "cell_type": "markdown",
   "source": [
    "### Verificando attributes"
   ],
   "metadata": {
    "collapsed": false
   }
  },
  {
   "cell_type": "code",
   "execution_count": 21,
   "outputs": [],
   "source": [
    "# verificando se possuem tamanhos fixos"
   ],
   "metadata": {
    "collapsed": false
   }
  },
  {
   "cell_type": "code",
   "execution_count": 23,
   "outputs": [
    {
     "data": {
      "text/plain": "13744"
     },
     "execution_count": 23,
     "metadata": {},
     "output_type": "execute_result"
    }
   ],
   "source": [
    "df_business.attributes.isna().sum()"
   ],
   "metadata": {
    "collapsed": false
   }
  },
  {
   "cell_type": "code",
   "execution_count": 118,
   "outputs": [
    {
     "data": {
      "text/plain": "0.0914158008859564"
     },
     "execution_count": 118,
     "metadata": {},
     "output_type": "execute_result"
    }
   ],
   "source": [
    "# porcentagem de nulos\n",
    "df_business.attributes.isna().sum() / df_business.shape[0]"
   ],
   "metadata": {
    "collapsed": false
   }
  },
  {
   "cell_type": "markdown",
   "source": [
    "> Temos valores nulos, que significa 9% dos negócios não possuem atributos."
   ],
   "metadata": {
    "collapsed": false
   }
  },
  {
   "cell_type": "code",
   "execution_count": 45,
   "outputs": [
    {
     "data": {
      "text/plain": "Series([], Name: attributes, dtype: object)"
     },
     "execution_count": 45,
     "metadata": {},
     "output_type": "execute_result"
    }
   ],
   "source": [
    "# verificando se alguma linha não é um dict\n",
    "not_na = df_business[df_business.attributes.notna()]\n",
    "not_na[not_na.attributes.apply(lambda x: not isinstance(x, dict))].attributes"
   ],
   "metadata": {
    "collapsed": false
   }
  },
  {
   "cell_type": "code",
   "execution_count": 48,
   "outputs": [
    {
     "data": {
      "text/plain": "count    136602.0\nmean         39.0\nstd           0.0\nmin          39.0\n25%          39.0\n50%          39.0\n75%          39.0\nmax          39.0\nName: attributes, dtype: float64"
     },
     "execution_count": 48,
     "metadata": {},
     "output_type": "execute_result"
    }
   ],
   "source": [
    "not_na.attributes.apply(lambda x: len(x)).describe()"
   ],
   "metadata": {
    "collapsed": false
   }
  },
  {
   "cell_type": "markdown",
   "source": [
    "> Todos possuem o mesmo tamanho. Ou seja, os atributos são dicionários de tamanho fixos.\n",
    "> No entanto, temos valores nulos."
   ],
   "metadata": {
    "collapsed": false
   }
  },
  {
   "cell_type": "markdown",
   "source": [
    "> Vamos ver quais são os atributos:"
   ],
   "metadata": {
    "collapsed": false
   }
  },
  {
   "cell_type": "code",
   "execution_count": 49,
   "outputs": [
    {
     "data": {
      "text/plain": "{'AcceptsInsurance',\n 'AgesAllowed',\n 'Alcohol',\n 'Ambience',\n 'BYOB',\n 'BYOBCorkage',\n 'BestNights',\n 'BikeParking',\n 'BusinessAcceptsBitcoin',\n 'BusinessAcceptsCreditCards',\n 'BusinessParking',\n 'ByAppointmentOnly',\n 'Caters',\n 'CoatCheck',\n 'Corkage',\n 'DietaryRestrictions',\n 'DogsAllowed',\n 'DriveThru',\n 'GoodForDancing',\n 'GoodForKids',\n 'GoodForMeal',\n 'HairSpecializesIn',\n 'HappyHour',\n 'HasTV',\n 'Music',\n 'NoiseLevel',\n 'Open24Hours',\n 'OutdoorSeating',\n 'RestaurantsAttire',\n 'RestaurantsCounterService',\n 'RestaurantsDelivery',\n 'RestaurantsGoodForGroups',\n 'RestaurantsPriceRange2',\n 'RestaurantsReservations',\n 'RestaurantsTableService',\n 'RestaurantsTakeOut',\n 'Smoking',\n 'WheelchairAccessible',\n 'WiFi'}"
     },
     "execution_count": 49,
     "metadata": {},
     "output_type": "execute_result"
    }
   ],
   "source": [
    "# pegando todos os atributos\n",
    "atributos = set()\n",
    "for i in df_business.attributes.dropna():\n",
    "    atributos.update(i.keys())\n",
    "atributos"
   ],
   "metadata": {
    "collapsed": false
   }
  },
  {
   "cell_type": "code",
   "execution_count": 50,
   "outputs": [
    {
     "data": {
      "text/plain": "39"
     },
     "execution_count": 50,
     "metadata": {},
     "output_type": "execute_result"
    }
   ],
   "source": [
    "len(atributos)"
   ],
   "metadata": {
    "collapsed": false
   }
  },
  {
   "cell_type": "code",
   "execution_count": 115,
   "outputs": [
    {
     "data": {
      "text/plain": "{'AcceptsInsurance': None,\n 'AgesAllowed': None,\n 'Alcohol': None,\n 'Ambience': None,\n 'BYOB': None,\n 'BYOBCorkage': None,\n 'BestNights': None,\n 'BikeParking': None,\n 'BusinessAcceptsBitcoin': None,\n 'BusinessAcceptsCreditCards': 'True',\n 'BusinessParking': None,\n 'ByAppointmentOnly': None,\n 'Caters': None,\n 'CoatCheck': None,\n 'Corkage': None,\n 'DietaryRestrictions': None,\n 'DogsAllowed': None,\n 'DriveThru': None,\n 'GoodForDancing': None,\n 'GoodForKids': None,\n 'GoodForMeal': None,\n 'HairSpecializesIn': None,\n 'HappyHour': None,\n 'HasTV': None,\n 'Music': None,\n 'NoiseLevel': None,\n 'Open24Hours': None,\n 'OutdoorSeating': None,\n 'RestaurantsAttire': None,\n 'RestaurantsCounterService': None,\n 'RestaurantsDelivery': None,\n 'RestaurantsGoodForGroups': None,\n 'RestaurantsPriceRange2': None,\n 'RestaurantsReservations': None,\n 'RestaurantsTableService': None,\n 'RestaurantsTakeOut': None,\n 'Smoking': None,\n 'WheelchairAccessible': None,\n 'WiFi': None}"
     },
     "execution_count": 115,
     "metadata": {},
     "output_type": "execute_result"
    }
   ],
   "source": [
    "# visualizando um exemplo\n",
    "df_business.attributes.dropna().sample(1).values[0]"
   ],
   "metadata": {
    "collapsed": false
   }
  },
  {
   "cell_type": "markdown",
   "source": [
    "> Parece que muitas keys são nulas. Vamos ver quantas são nulas:"
   ],
   "metadata": {
    "collapsed": false
   }
  },
  {
   "cell_type": "code",
   "execution_count": 116,
   "outputs": [],
   "source": [
    "# verificando quantas keys são nulas\n",
    "nulos = 0\n",
    "total = 0\n",
    "for i in df_business.attributes.dropna():\n",
    "    for j in i.keys():\n",
    "        total += 1\n",
    "        if i[j] is None:\n",
    "            nulos += 1"
   ],
   "metadata": {
    "collapsed": false
   }
  },
  {
   "cell_type": "code",
   "execution_count": 120,
   "outputs": [],
   "source": [
    "porcentagem = nulos * 100/total"
   ],
   "metadata": {
    "collapsed": false
   }
  },
  {
   "cell_type": "code",
   "execution_count": 122,
   "outputs": [
    {
     "name": "stdout",
     "output_type": "stream",
     "text": [
      "77.35% dos atributos dos dicionários são nulos\n"
     ]
    }
   ],
   "source": [
    "print(f\"{porcentagem:.2f}% dos atributos dos dicionários são nulos\")"
   ],
   "metadata": {
    "collapsed": false
   }
  },
  {
   "cell_type": "markdown",
   "source": [
    "### Verificando categories"
   ],
   "metadata": {
    "collapsed": false
   }
  },
  {
   "cell_type": "code",
   "execution_count": 127,
   "outputs": [
    {
     "name": "stdout",
     "output_type": "stream",
     "text": [
      "0.07% dos negócios não possuem categorias\n"
     ]
    }
   ],
   "source": [
    "# verificando se possui nulos\n",
    "print(f\"{df_business.categories.isna().sum() * 100/ df_business.shape[0]:.2f}% dos negócios não possuem categorias\")"
   ],
   "metadata": {
    "collapsed": false
   }
  },
  {
   "cell_type": "code",
   "execution_count": 129,
   "outputs": [
    {
     "data": {
      "text/plain": "count    150243.000000\nmean         59.269384\nstd          34.615504\nmin           4.000000\n25%          33.000000\n50%          52.000000\n75%          77.000000\nmax         503.000000\nName: categories, dtype: float64"
     },
     "execution_count": 129,
     "metadata": {},
     "output_type": "execute_result"
    }
   ],
   "source": [
    "# verificando se possui tamanhos fixos\n",
    "not_na = df_business[df_business.categories.notna()]\n",
    "not_na.categories.apply(lambda x: len(x)).describe()"
   ],
   "metadata": {
    "collapsed": false
   }
  },
  {
   "cell_type": "code",
   "execution_count": 132,
   "outputs": [
    {
     "data": {
      "text/plain": "array(['Commercial Real Estate, Local Services, Public Services & Government, Hydro-jetting, Real Estate, Water Heater Installation/Repair, Septic Services, Community Service/Non-Profit, Home Services, Plumbing',\n       'Food, Ice Cream & Frozen Yogurt, Pretzels, Desserts',\n       'Signmaking, Professional Services, Local Services, Printing Services, Shipping Centers',\n       'Sandwiches, Restaurants, Delis', 'Auto Repair, Automotive'],\n      dtype=object)"
     },
     "execution_count": 132,
     "metadata": {},
     "output_type": "execute_result"
    }
   ],
   "source": [
    "# visualizando alguns exemplos\n",
    "df_business.categories.dropna().sample(5).values"
   ],
   "metadata": {
    "collapsed": false
   }
  },
  {
   "cell_type": "markdown",
   "source": [
    "> Podemos extrair os embeddings de cada palavra e criar um embedding médio dessas palavras! Usando o wrod2vec, por exemplo."
   ],
   "metadata": {
    "collapsed": false
   }
  },
  {
   "cell_type": "markdown",
   "source": [
    "### Verificando hours"
   ],
   "metadata": {
    "collapsed": false
   }
  },
  {
   "cell_type": "code",
   "execution_count": 134,
   "outputs": [
    {
     "data": {
      "text/plain": "23223"
     },
     "execution_count": 134,
     "metadata": {},
     "output_type": "execute_result"
    }
   ],
   "source": [
    "# verificando se possui nulos\n",
    "df_business.hours.isna().sum()"
   ],
   "metadata": {
    "collapsed": false
   }
  },
  {
   "cell_type": "code",
   "execution_count": 135,
   "outputs": [
    {
     "data": {
      "text/plain": "count    127123.0\nmean          7.0\nstd           0.0\nmin           7.0\n25%           7.0\n50%           7.0\n75%           7.0\nmax           7.0\nName: hours, dtype: float64"
     },
     "execution_count": 135,
     "metadata": {},
     "output_type": "execute_result"
    }
   ],
   "source": [
    "# verificando se possui tamanhos fixos\n",
    "not_na = df_business[df_business.hours.notna()]\n",
    "not_na.hours.apply(lambda x: len(x)).describe()"
   ],
   "metadata": {
    "collapsed": false
   }
  },
  {
   "cell_type": "markdown",
   "source": [
    "> Todos possuem tamanhos fixos"
   ],
   "metadata": {
    "collapsed": false
   }
  },
  {
   "cell_type": "code",
   "execution_count": 136,
   "outputs": [
    {
     "data": {
      "text/plain": "array([{'Friday': '6:30-20:0', 'Monday': '0:0-0:0', 'Saturday': '8:0-16:0', 'Sunday': None, 'Thursday': '6:30-20:0', 'Tuesday': '6:30-20:0', 'Wednesday': '6:30-20:0'},\n       {'Friday': '8:0-18:30', 'Monday': '8:0-18:30', 'Saturday': '8:0-18:30', 'Sunday': '8:0-18:0', 'Thursday': '8:0-18:30', 'Tuesday': '8:0-18:30', 'Wednesday': '8:0-18:30'},\n       {'Friday': '10:30-17:0', 'Monday': '0:0-0:0', 'Saturday': '9:0-17:0', 'Sunday': None, 'Thursday': '10:30-17:0', 'Tuesday': '10:30-17:0', 'Wednesday': '10:30-17:0'},\n       {'Friday': '0:0-0:0', 'Monday': '0:0-0:0', 'Saturday': '0:0-0:0', 'Sunday': '0:0-0:0', 'Thursday': '0:0-0:0', 'Tuesday': '0:0-0:0', 'Wednesday': '0:0-0:0'},\n       {'Friday': '18:0-19:0', 'Monday': '17:0-19:30', 'Saturday': '12:30-13:30', 'Sunday': '16:0-17:0', 'Thursday': '17:30-18:30', 'Tuesday': '17:30-18:30', 'Wednesday': '18:0-20:0'}],\n      dtype=object)"
     },
     "execution_count": 136,
     "metadata": {},
     "output_type": "execute_result"
    }
   ],
   "source": [
    "# visualizando exemplos\n",
    "df_business.hours.dropna().sample(5).values"
   ],
   "metadata": {
    "collapsed": false
   }
  },
  {
   "cell_type": "markdown",
   "source": [
    "> Vamos desconsiderar por enquanto."
   ],
   "metadata": {
    "collapsed": false
   }
  },
  {
   "cell_type": "code",
   "execution_count": 137,
   "outputs": [],
   "source": [
    "df_business.drop(columns=[\"hours\"], inplace=True)"
   ],
   "metadata": {
    "collapsed": false
   }
  },
  {
   "cell_type": "markdown",
   "source": [
    "# Como ficou"
   ],
   "metadata": {
    "collapsed": false
   }
  },
  {
   "cell_type": "code",
   "execution_count": 139,
   "outputs": [
    {
     "name": "stdout",
     "output_type": "stream",
     "text": [
      "<class 'pandas.core.frame.DataFrame'>\n",
      "RangeIndex: 150346 entries, 0 to 150345\n",
      "Data columns (total 9 columns):\n",
      " #   Column        Non-Null Count   Dtype  \n",
      "---  ------        --------------   -----  \n",
      " 0   business_id   150346 non-null  object \n",
      " 1   name          150346 non-null  object \n",
      " 2   latitude      150346 non-null  float32\n",
      " 3   longitude     150346 non-null  float32\n",
      " 4   stars         150346 non-null  float32\n",
      " 5   review_count  150346 non-null  uint16 \n",
      " 6   is_open       150346 non-null  uint8  \n",
      " 7   attributes    136602 non-null  object \n",
      " 8   categories    150243 non-null  object \n",
      "dtypes: float32(3), object(4), uint16(1), uint8(1)\n",
      "memory usage: 6.7+ MB\n"
     ]
    }
   ],
   "source": [
    "df_business.info()"
   ],
   "metadata": {
    "collapsed": false
   }
  },
  {
   "cell_type": "markdown",
   "source": [
    "> Agora devemos fazer o append das informações dos outros datasets."
   ],
   "metadata": {
    "collapsed": false
   }
  },
  {
   "cell_type": "code",
   "execution_count": null,
   "outputs": [],
   "source": [],
   "metadata": {
    "collapsed": false
   }
  }
 ],
 "metadata": {
  "kernelspec": {
   "display_name": "Python 3",
   "language": "python",
   "name": "python3"
  },
  "language_info": {
   "codemirror_mode": {
    "name": "ipython",
    "version": 2
   },
   "file_extension": ".py",
   "mimetype": "text/x-python",
   "name": "python",
   "nbconvert_exporter": "python",
   "pygments_lexer": "ipython2",
   "version": "2.7.6"
  }
 },
 "nbformat": 4,
 "nbformat_minor": 0
}
