{
 "cells": [
  {
   "cell_type": "markdown",
   "source": [
    "> A estratégia consiste em selecionar os business que aparecem em eval_set, selecionar as 5 melhores reviews dele e as 5 piores reviews (com menor nota), gerar embeddings dessas reviews e calcular a média."
   ],
   "metadata": {
    "collapsed": false
   }
  },
  {
   "cell_type": "markdown",
   "source": [
    "> Depois, fazemos o mesmo para os users que aparecem em eval_set: pegamos as 5 melhores, 5 piores, tira a média dos embeddings e comparamos com as médias dos business."
   ],
   "metadata": {
    "collapsed": false
   }
  },
  {
   "cell_type": "markdown",
   "source": [
    "> A lógica é: se os embeddings de melhor avaliação for maior, recomenda para a pessoa, se o de pior avaliação for maior, não recomenda."
   ],
   "metadata": {
    "collapsed": false
   }
  },
  {
   "cell_type": "markdown",
   "source": [
    "> Para ordenar os business, verificamos qual é maior:\n",
    "- se for o embedding de melhor avaliação, ordenamos de forma que quanto maior o valor dele, mais à frente fica.\n",
    "- se for o embedding de pior avaliação, ordenamos de forma que quanto maior o valor dele, mais atrás ele fica."
   ],
   "metadata": {
    "collapsed": false
   }
  },
  {
   "cell_type": "code",
   "execution_count": 1,
   "outputs": [],
   "source": [
    "import pandas as pd"
   ],
   "metadata": {
    "collapsed": false
   }
  },
  {
   "cell_type": "markdown",
   "source": [
    "# Carregando os dados"
   ],
   "metadata": {
    "collapsed": false
   }
  },
  {
   "cell_type": "code",
   "execution_count": 2,
   "metadata": {
    "collapsed": true
   },
   "outputs": [],
   "source": [
    "# carregando os dados do eval_set\n",
    "eval_set = pd.read_csv('../data/evaluation/eval_users.csv')"
   ]
  },
  {
   "cell_type": "code",
   "execution_count": 3,
   "outputs": [],
   "source": [
    "# carregando o dataset de reviews\n",
    "reviews = pd.read_parquet('../data/DatasetsLimpos/yelp_academic_dataset_review.parquet')"
   ],
   "metadata": {
    "collapsed": false
   }
  },
  {
   "cell_type": "markdown",
   "source": [
    "# Filtrando"
   ],
   "metadata": {
    "collapsed": false
   }
  },
  {
   "cell_type": "markdown",
   "source": [
    "### Filtrando apenas os business que aparecem no eval_set"
   ],
   "metadata": {
    "collapsed": false
   }
  },
  {
   "cell_type": "code",
   "execution_count": 4,
   "outputs": [],
   "source": [
    "## carregando eval_df\n",
    "# verificando os business que aparecem em eval\n",
    "business_ = eval_set['reclist'].apply(lambda x: x.replace(\"[\", \"\").replace(\"]\", \"\").split(',')).explode().unique()"
   ],
   "metadata": {
    "collapsed": false
   }
  },
  {
   "cell_type": "code",
   "execution_count": 5,
   "outputs": [],
   "source": [
    "business_ = pd.Series(business_).apply(lambda x: x.replace(\"'\", \"\").replace(\" \", \"\")).unique()"
   ],
   "metadata": {
    "collapsed": false
   }
  },
  {
   "cell_type": "code",
   "execution_count": 6,
   "outputs": [],
   "source": [
    "# filtrando apenas os business que aparecem em eval\n",
    "#reviews = reviews[reviews['business_id'].isin(business_)]\n",
    "\n",
    "# filtrando apenas os business que aparecem em eval e que não temos os embeddings\n",
    "reviews = reviews[reviews['business_id'].isin(business_) & ~reviews['business_id'].isin(pd.read_parquet('../data/embeddingsBusiness.parquet').index)]"
   ],
   "metadata": {
    "collapsed": false
   }
  },
  {
   "cell_type": "code",
   "execution_count": 7,
   "outputs": [
    {
     "data": {
      "text/plain": "(1676719, 7)"
     },
     "execution_count": 7,
     "metadata": {},
     "output_type": "execute_result"
    }
   ],
   "source": [
    "reviews.shape"
   ],
   "metadata": {
    "collapsed": false
   }
  },
  {
   "cell_type": "code",
   "execution_count": 25,
   "outputs": [],
   "source": [
    "# selecionando apenas as colunas que serão utilizadas\n",
    "reviews = reviews[['business_id', 'user_id','text', 'stars']]"
   ],
   "metadata": {
    "collapsed": false
   }
  },
  {
   "cell_type": "code",
   "execution_count": 26,
   "outputs": [],
   "source": [
    "# agrupando os business\n",
    "reviews = reviews.groupby('business_id').agg({'text': lambda x: [i for i in x], 'stars': lambda x: [i for i in x]})"
   ],
   "metadata": {
    "collapsed": false
   }
  },
  {
   "cell_type": "code",
   "execution_count": 27,
   "outputs": [],
   "source": [
    "import numpy as np"
   ],
   "metadata": {
    "collapsed": false
   }
  },
  {
   "cell_type": "code",
   "execution_count": 28,
   "outputs": [],
   "source": [
    "# criando uma função que recebe uma lista e retorna os índices dos 5 maiores e 5 menores valores (ou 2)\n",
    "def get_best_worst_indices(lista):\n",
    "    # Converte a lista para um array NumPy\n",
    "    arr = np.array(lista)\n",
    "\n",
    "    if arr.shape[0] < 10:\n",
    "        # Obtém os índices dos N maiores valores usando argsort\n",
    "        indices_n_maiores = np.argsort(-arr)[:2]\n",
    "        indices_n_menores = np.argsort(arr)[:2]\n",
    "    else:\n",
    "        # Obtém os índices dos N maiores valores usando argsort\n",
    "        indices_n_maiores = np.argsort(-arr)[:5]\n",
    "        indices_n_menores = np.argsort(arr)[:5]\n",
    "    return indices_n_maiores.tolist(), indices_n_menores.tolist()"
   ],
   "metadata": {
    "collapsed": false
   }
  },
  {
   "cell_type": "code",
   "execution_count": 29,
   "outputs": [],
   "source": [
    "# aplicando na coluna stars\n",
    "reviews['stars'] = reviews.stars.apply(get_best_worst_indices)"
   ],
   "metadata": {
    "collapsed": false
   }
  },
  {
   "cell_type": "code",
   "execution_count": 30,
   "outputs": [],
   "source": [
    "# filtrando a coluna texto para pegar apenas as reviews que estão nos indices de stars\n",
    "reviews['text'] = reviews.apply(lambda x: [x['text'][i] for i in x['stars'][0] + x['stars'][1]], axis=1)"
   ],
   "metadata": {
    "collapsed": false
   }
  },
  {
   "cell_type": "markdown",
   "source": [
    "### Gerando os embeddings dos business"
   ],
   "metadata": {
    "collapsed": false
   }
  },
  {
   "cell_type": "code",
   "execution_count": 31,
   "outputs": [],
   "source": [
    "from BertEmbedding import get_bert_embedding"
   ],
   "metadata": {
    "collapsed": false
   }
  },
  {
   "cell_type": "code",
   "execution_count": null,
   "outputs": [],
   "source": [
    "# aplicando a funcao no text\n",
    "reviews['embs'] = reviews['text'].apply(lambda x: get_bert_embedding(x)[0])"
   ],
   "metadata": {
    "collapsed": false,
    "pycharm": {
     "is_executing": true
    }
   }
  },
  {
   "cell_type": "code",
   "execution_count": 34,
   "outputs": [],
   "source": [
    "# separando os embeddings em colunas: melhor avaliados [:5] e piores avaliados [5:]\n",
    "reviews['embs_best'] = reviews['embs'].apply(lambda x: x[:5] if x.shape[0] == 10 else x[:2])\n",
    "reviews['embs_worst'] = reviews['embs'].apply(lambda x: x[5:] if x.shape[0] == 10 else x[2:])"
   ],
   "metadata": {
    "collapsed": false
   }
  },
  {
   "cell_type": "code",
   "execution_count": 35,
   "outputs": [
    {
     "data": {
      "text/plain": "                                                                     text  \\\nbusiness_id                                                                 \n-0EdehHjIQc0DtYU8QcAig  [I had the best Beef and Broccoli that I've ev...   \n-0fOUV_llBAPMo7exZFHPA  [My latest hair style has either been a top kn...   \n-0gWtMKg8_iV6vC5wRFDiA  [Great experience.  Family and adult friendly....   \n-1EGqUQFBmGEp76CE-Zk4Q  [I love their shrimp quesadilla! They are real...   \n-2CPhK6ik9ZBgFX_F-dkxQ  [Just your typical subway. This one is particu...   \n\n                                                             stars  \\\nbusiness_id                                                          \n-0EdehHjIQc0DtYU8QcAig  ([17, 21, 18, 13, 12], [0, 23, 19, 28, 4])   \n-0fOUV_llBAPMo7exZFHPA                            ([0, 1], [3, 0])   \n-0gWtMKg8_iV6vC5wRFDiA       ([7, 10, 1, 4, 5], [8, 11, 12, 0, 2])   \n-1EGqUQFBmGEp76CE-Zk4Q  ([16, 1, 30, 27, 25], [0, 34, 33, 21, 12])   \n-2CPhK6ik9ZBgFX_F-dkxQ                            ([0, 4], [1, 2])   \n\n                                                                     embs  \\\nbusiness_id                                                                 \n-0EdehHjIQc0DtYU8QcAig  [[0.76516813, -0.9572798, 2.6221435, -1.212702...   \n-0fOUV_llBAPMo7exZFHPA  [[0.60077584, -0.87541145, 2.7138147, -1.42937...   \n-0gWtMKg8_iV6vC5wRFDiA  [[1.853262, -1.0348336, 3.1113107, -1.3340988,...   \n-1EGqUQFBmGEp76CE-Zk4Q  [[1.4248459, -0.8644156, 2.872499, -1.4126887,...   \n-2CPhK6ik9ZBgFX_F-dkxQ  [[0.9070763, -1.0537813, 2.781538, -1.2485958,...   \n\n                                                                embs_best  \\\nbusiness_id                                                                 \n-0EdehHjIQc0DtYU8QcAig  [[0.76516813, -0.9572798, 2.6221435, -1.212702...   \n-0fOUV_llBAPMo7exZFHPA  [[0.60077584, -0.87541145, 2.7138147, -1.42937...   \n-0gWtMKg8_iV6vC5wRFDiA  [[1.853262, -1.0348336, 3.1113107, -1.3340988,...   \n-1EGqUQFBmGEp76CE-Zk4Q  [[1.4248459, -0.8644156, 2.872499, -1.4126887,...   \n-2CPhK6ik9ZBgFX_F-dkxQ  [[0.9070763, -1.0537813, 2.781538, -1.2485958,...   \n\n                                                               embs_worst  \nbusiness_id                                                                \n-0EdehHjIQc0DtYU8QcAig  [[0.8259199, -0.9743092, 2.640242, -1.0966994,...  \n-0fOUV_llBAPMo7exZFHPA  [[0.7065828, -0.82314223, 2.373746, -1.3431708...  \n-0gWtMKg8_iV6vC5wRFDiA  [[0.5425563, -0.71506804, 2.4221518, -1.121309...  \n-1EGqUQFBmGEp76CE-Zk4Q  [[0.31495255, -0.652539, 2.4236493, -0.9839752...  \n-2CPhK6ik9ZBgFX_F-dkxQ  [[0.3103292, -0.9453506, 2.5486505, -1.3950517...  ",
      "text/html": "<div>\n<style scoped>\n    .dataframe tbody tr th:only-of-type {\n        vertical-align: middle;\n    }\n\n    .dataframe tbody tr th {\n        vertical-align: top;\n    }\n\n    .dataframe thead th {\n        text-align: right;\n    }\n</style>\n<table border=\"1\" class=\"dataframe\">\n  <thead>\n    <tr style=\"text-align: right;\">\n      <th></th>\n      <th>text</th>\n      <th>stars</th>\n      <th>embs</th>\n      <th>embs_best</th>\n      <th>embs_worst</th>\n    </tr>\n    <tr>\n      <th>business_id</th>\n      <th></th>\n      <th></th>\n      <th></th>\n      <th></th>\n      <th></th>\n    </tr>\n  </thead>\n  <tbody>\n    <tr>\n      <th>-0EdehHjIQc0DtYU8QcAig</th>\n      <td>[I had the best Beef and Broccoli that I've ev...</td>\n      <td>([17, 21, 18, 13, 12], [0, 23, 19, 28, 4])</td>\n      <td>[[0.76516813, -0.9572798, 2.6221435, -1.212702...</td>\n      <td>[[0.76516813, -0.9572798, 2.6221435, -1.212702...</td>\n      <td>[[0.8259199, -0.9743092, 2.640242, -1.0966994,...</td>\n    </tr>\n    <tr>\n      <th>-0fOUV_llBAPMo7exZFHPA</th>\n      <td>[My latest hair style has either been a top kn...</td>\n      <td>([0, 1], [3, 0])</td>\n      <td>[[0.60077584, -0.87541145, 2.7138147, -1.42937...</td>\n      <td>[[0.60077584, -0.87541145, 2.7138147, -1.42937...</td>\n      <td>[[0.7065828, -0.82314223, 2.373746, -1.3431708...</td>\n    </tr>\n    <tr>\n      <th>-0gWtMKg8_iV6vC5wRFDiA</th>\n      <td>[Great experience.  Family and adult friendly....</td>\n      <td>([7, 10, 1, 4, 5], [8, 11, 12, 0, 2])</td>\n      <td>[[1.853262, -1.0348336, 3.1113107, -1.3340988,...</td>\n      <td>[[1.853262, -1.0348336, 3.1113107, -1.3340988,...</td>\n      <td>[[0.5425563, -0.71506804, 2.4221518, -1.121309...</td>\n    </tr>\n    <tr>\n      <th>-1EGqUQFBmGEp76CE-Zk4Q</th>\n      <td>[I love their shrimp quesadilla! They are real...</td>\n      <td>([16, 1, 30, 27, 25], [0, 34, 33, 21, 12])</td>\n      <td>[[1.4248459, -0.8644156, 2.872499, -1.4126887,...</td>\n      <td>[[1.4248459, -0.8644156, 2.872499, -1.4126887,...</td>\n      <td>[[0.31495255, -0.652539, 2.4236493, -0.9839752...</td>\n    </tr>\n    <tr>\n      <th>-2CPhK6ik9ZBgFX_F-dkxQ</th>\n      <td>[Just your typical subway. This one is particu...</td>\n      <td>([0, 4], [1, 2])</td>\n      <td>[[0.9070763, -1.0537813, 2.781538, -1.2485958,...</td>\n      <td>[[0.9070763, -1.0537813, 2.781538, -1.2485958,...</td>\n      <td>[[0.3103292, -0.9453506, 2.5486505, -1.3950517...</td>\n    </tr>\n  </tbody>\n</table>\n</div>"
     },
     "execution_count": 35,
     "metadata": {},
     "output_type": "execute_result"
    }
   ],
   "source": [
    "reviews.head()"
   ],
   "metadata": {
    "collapsed": false
   }
  },
  {
   "cell_type": "code",
   "execution_count": 36,
   "outputs": [],
   "source": [
    "# gerando media dos embeddings\n",
    "reviews['embs_best'] = reviews.embs_best.apply(lambda x: np.mean(x, axis=0))\n",
    "reviews['embs_worst'] = reviews.embs_worst.apply(lambda x: np.mean(x, axis=0))"
   ],
   "metadata": {
    "collapsed": false
   }
  },
  {
   "cell_type": "code",
   "execution_count": 40,
   "outputs": [
    {
     "data": {
      "text/plain": "                        user_id             business_id  stars  useful  funny  \\\n0        mh_-eMZ6K5RLWhZyISBhwA  XQfwVwDr-v0ZS3_CbbE5Xw      3       1      1   \n1        OyoGAe7OKpv6SyGZT5g77Q  7ATYjTIgM3jUlt4UM3IypQ      5       1      1   \n2        8g_iMtfSiwikVnbP2etR0A  YjUWPpI6HXG530lwP-fb2A      3       1      1   \n3        _7bHUi9Uuf5__HHc_Q8guQ  kxX2SOes4o-D3ZQBkiMRfA      5       1      1   \n4        bcjbaE6dDog4jkNY91ncLQ  e4Vwtrqf-wpJfwesgvdgxQ      4       1      1   \n...                         ...                     ...    ...     ...    ...   \n6990275  qskILQ3k0I_qcCMI-k6_QQ  jals67o91gcrD4DC81Vk6w      5       1      1   \n6990276  Zo0th2m8Ez4gLSbHftiQvg  2vLksaMmSEcGbjI5gywpZA      5       1      1   \n6990277  mm6E4FbCMwJmb7kPDZ5v2Q  R1khUUxidqfaJmcpmGd4aw      4       1      1   \n6990278  YwAMC-jvZ1fvEUum6QkEkw  Rr9kKArrMhSLVE9a53q-aA      5       1      1   \n6990279  6JehEvdoCvZPJ_XIxnzIIw  VAeEXLbEcI9Emt9KGYq9aA      3       2      1   \n\n         cool                                               text  \n0           1  If you decide to eat here, just be aware it is...  \n1           1  I've taken a lot of spin classes over the year...  \n2           1  Family diner. Had the buffet. Eclectic assortm...  \n3           1  Wow!  Yummy, different,  delicious.   Our favo...  \n4           1  Cute interior and owner (?) gave us tour of up...  \n...       ...                                                ...  \n6990275     1  Latest addition to services from ICCU is Apple...  \n6990276     1  This spot offers a great, affordable east week...  \n6990277     1  This Home Depot won me over when I needed to g...  \n6990278     1  For when I'm feeling like ignoring my calorie-...  \n6990279     2  Located in the 'Walking District' in Nashville...  \n\n[6990280 rows x 7 columns]",
      "text/html": "<div>\n<style scoped>\n    .dataframe tbody tr th:only-of-type {\n        vertical-align: middle;\n    }\n\n    .dataframe tbody tr th {\n        vertical-align: top;\n    }\n\n    .dataframe thead th {\n        text-align: right;\n    }\n</style>\n<table border=\"1\" class=\"dataframe\">\n  <thead>\n    <tr style=\"text-align: right;\">\n      <th></th>\n      <th>user_id</th>\n      <th>business_id</th>\n      <th>stars</th>\n      <th>useful</th>\n      <th>funny</th>\n      <th>cool</th>\n      <th>text</th>\n    </tr>\n  </thead>\n  <tbody>\n    <tr>\n      <th>0</th>\n      <td>mh_-eMZ6K5RLWhZyISBhwA</td>\n      <td>XQfwVwDr-v0ZS3_CbbE5Xw</td>\n      <td>3</td>\n      <td>1</td>\n      <td>1</td>\n      <td>1</td>\n      <td>If you decide to eat here, just be aware it is...</td>\n    </tr>\n    <tr>\n      <th>1</th>\n      <td>OyoGAe7OKpv6SyGZT5g77Q</td>\n      <td>7ATYjTIgM3jUlt4UM3IypQ</td>\n      <td>5</td>\n      <td>1</td>\n      <td>1</td>\n      <td>1</td>\n      <td>I've taken a lot of spin classes over the year...</td>\n    </tr>\n    <tr>\n      <th>2</th>\n      <td>8g_iMtfSiwikVnbP2etR0A</td>\n      <td>YjUWPpI6HXG530lwP-fb2A</td>\n      <td>3</td>\n      <td>1</td>\n      <td>1</td>\n      <td>1</td>\n      <td>Family diner. Had the buffet. Eclectic assortm...</td>\n    </tr>\n    <tr>\n      <th>3</th>\n      <td>_7bHUi9Uuf5__HHc_Q8guQ</td>\n      <td>kxX2SOes4o-D3ZQBkiMRfA</td>\n      <td>5</td>\n      <td>1</td>\n      <td>1</td>\n      <td>1</td>\n      <td>Wow!  Yummy, different,  delicious.   Our favo...</td>\n    </tr>\n    <tr>\n      <th>4</th>\n      <td>bcjbaE6dDog4jkNY91ncLQ</td>\n      <td>e4Vwtrqf-wpJfwesgvdgxQ</td>\n      <td>4</td>\n      <td>1</td>\n      <td>1</td>\n      <td>1</td>\n      <td>Cute interior and owner (?) gave us tour of up...</td>\n    </tr>\n    <tr>\n      <th>...</th>\n      <td>...</td>\n      <td>...</td>\n      <td>...</td>\n      <td>...</td>\n      <td>...</td>\n      <td>...</td>\n      <td>...</td>\n    </tr>\n    <tr>\n      <th>6990275</th>\n      <td>qskILQ3k0I_qcCMI-k6_QQ</td>\n      <td>jals67o91gcrD4DC81Vk6w</td>\n      <td>5</td>\n      <td>1</td>\n      <td>1</td>\n      <td>1</td>\n      <td>Latest addition to services from ICCU is Apple...</td>\n    </tr>\n    <tr>\n      <th>6990276</th>\n      <td>Zo0th2m8Ez4gLSbHftiQvg</td>\n      <td>2vLksaMmSEcGbjI5gywpZA</td>\n      <td>5</td>\n      <td>1</td>\n      <td>1</td>\n      <td>1</td>\n      <td>This spot offers a great, affordable east week...</td>\n    </tr>\n    <tr>\n      <th>6990277</th>\n      <td>mm6E4FbCMwJmb7kPDZ5v2Q</td>\n      <td>R1khUUxidqfaJmcpmGd4aw</td>\n      <td>4</td>\n      <td>1</td>\n      <td>1</td>\n      <td>1</td>\n      <td>This Home Depot won me over when I needed to g...</td>\n    </tr>\n    <tr>\n      <th>6990278</th>\n      <td>YwAMC-jvZ1fvEUum6QkEkw</td>\n      <td>Rr9kKArrMhSLVE9a53q-aA</td>\n      <td>5</td>\n      <td>1</td>\n      <td>1</td>\n      <td>1</td>\n      <td>For when I'm feeling like ignoring my calorie-...</td>\n    </tr>\n    <tr>\n      <th>6990279</th>\n      <td>6JehEvdoCvZPJ_XIxnzIIw</td>\n      <td>VAeEXLbEcI9Emt9KGYq9aA</td>\n      <td>3</td>\n      <td>2</td>\n      <td>1</td>\n      <td>2</td>\n      <td>Located in the 'Walking District' in Nashville...</td>\n    </tr>\n  </tbody>\n</table>\n<p>6990280 rows × 7 columns</p>\n</div>"
     },
     "execution_count": 40,
     "metadata": {},
     "output_type": "execute_result"
    }
   ],
   "source": [],
   "metadata": {
    "collapsed": false
   }
  },
  {
   "cell_type": "code",
   "execution_count": 37,
   "outputs": [],
   "source": [
    "reviews[['embs_best', 'embs_worst']].to_parquet('../data/embeddingsBusiness.parquet')"
   ],
   "metadata": {
    "collapsed": false
   }
  },
  {
   "cell_type": "markdown",
   "source": [
    "### Filtrando os users que aparecem em eval_set"
   ],
   "metadata": {
    "collapsed": false
   }
  },
  {
   "cell_type": "code",
   "execution_count": 38,
   "outputs": [],
   "source": [
    "users = eval_set['user_id'].unique()"
   ],
   "metadata": {
    "collapsed": false
   }
  },
  {
   "cell_type": "code",
   "execution_count": 39,
   "outputs": [],
   "source": [
    "# carregando o dataset de reviews\n",
    "reviews = pd.read_parquet('../data/DatasetsLimpos/yelp_academic_dataset_review.parquet')"
   ],
   "metadata": {
    "collapsed": false
   }
  },
  {
   "cell_type": "code",
   "execution_count": 88,
   "outputs": [],
   "source": [
    "reviews = reviews[reviews['user_id'].isin(users)]"
   ],
   "metadata": {
    "collapsed": false
   }
  },
  {
   "cell_type": "code",
   "execution_count": 90,
   "outputs": [],
   "source": [
    "## Todo_ o resto é igual...\n",
    "\n",
    "# selecionando apenas as colunas que serão utilizadas\n",
    "reviews = reviews[['user_id', 'text', 'stars']]\n",
    "\n",
    "# agrupando os business\n",
    "reviews = reviews.groupby('user_id').agg({'text': lambda x: [i for i in x], 'stars': lambda x: [i for i in x]})\n",
    "\n",
    "# criando uma função que recebe uma lista e retorna os índices dos 5 maiores e 5 menores valores (ou 2)\n",
    "def get_best_worst_indices(lista):\n",
    "    # Converte a lista para um array NumPy\n",
    "    arr = np.array(lista)\n",
    "\n",
    "    if arr.shape[0] < 10:\n",
    "        # Obtém os índices dos N maiores valores usando argsort\n",
    "        indices_n_maiores = np.argsort(-arr)[:2]\n",
    "        indices_n_menores = np.argsort(arr)[:2]\n",
    "    else:\n",
    "        # Obtém os índices dos N maiores valores usando argsort\n",
    "        indices_n_maiores = np.argsort(-arr)[:5]\n",
    "        indices_n_menores = np.argsort(arr)[:5]\n",
    "    return indices_n_maiores.tolist(), indices_n_menores.tolist()\n",
    "\n",
    "\n",
    "# aplicando na coluna stars\n",
    "reviews['stars'] = reviews.stars.apply(get_best_worst_indices)\n",
    "# filtrando a coluna texto para pegar apenas as reviews que estão nos indices de stars\n",
    "reviews['text'] = reviews.apply(lambda x: [x['text'][i] for i in x['stars'][0] + x['stars'][1]], axis=1)"
   ],
   "metadata": {
    "collapsed": false
   }
  },
  {
   "cell_type": "markdown",
   "source": [
    "### Gerando os embeddings dos user_id"
   ],
   "metadata": {
    "collapsed": false
   }
  },
  {
   "cell_type": "code",
   "execution_count": null,
   "outputs": [],
   "source": [
    "# aplicando a funcao no text\n",
    "reviews['embs'] = reviews['text'].apply(lambda x: get_bert_embedding(x)[0])"
   ],
   "metadata": {
    "collapsed": false,
    "pycharm": {
     "is_executing": true
    }
   }
  },
  {
   "cell_type": "code",
   "execution_count": 92,
   "outputs": [],
   "source": [
    "# separando os embeddings em colunas: melhor avaliados [:5] e piores avaliados [5:]\n",
    "reviews['embs_best'] = reviews['embs'].apply(lambda x: x[:5] if x.shape[0] == 10 else x[:2])\n",
    "reviews['embs_worst'] = reviews['embs'].apply(lambda x: x[5:] if x.shape[0] == 10 else x[2:])"
   ],
   "metadata": {
    "collapsed": false
   }
  },
  {
   "cell_type": "code",
   "execution_count": 93,
   "outputs": [
    {
     "data": {
      "text/plain": "                                                                     text  \\\nuser_id                                                                     \n-1BSu2dt_rOAqllw9ZDXtA  [Hank and I love Brocatos!The freshest ingredi...   \n-6DoXmdXEy_P5N-QZzntgA  [With a home airport like ORD, SBA is an incre...   \n-8NOuak4Sipn7-zy7Nk5hg  [One of Philadelphia's best restaurants in my ...   \n-8rSnT5ztVk6vmTDkxTqsQ  [Great space! Loved the accessibility to outdo...   \n-C7xxeVQI5qEZGAzFdx-cg  [This place is the best! Their food isn't spic...   \n\n                                                        stars  \\\nuser_id                                                         \n-1BSu2dt_rOAqllw9ZDXtA    ([0, 1, 2, 3, 4], [6, 9, 11, 0, 1])   \n-6DoXmdXEy_P5N-QZzntgA  ([5, 8, 12, 0, 1], [7, 10, 11, 0, 1])   \n-8NOuak4Sipn7-zy7Nk5hg   ([0, 1, 3, 4, 5], [11, 8, 6, 2, 12])   \n-8rSnT5ztVk6vmTDkxTqsQ  ([10, 0, 1, 2, 4], [3, 9, 11, 14, 5])   \n-C7xxeVQI5qEZGAzFdx-cg     ([0, 2, 3, 5, 7], [4, 9, 1, 6, 0])   \n\n                                                                     embs  \\\nuser_id                                                                     \n-1BSu2dt_rOAqllw9ZDXtA  [[0.4294569, -0.74091864, 2.5334587, -1.151932...   \n-6DoXmdXEy_P5N-QZzntgA  [[0.78651774, -1.0710886, 2.6585214, -1.109733...   \n-8NOuak4Sipn7-zy7Nk5hg  [[1.1762301, -1.0045295, 2.9417152, -1.2765405...   \n-8rSnT5ztVk6vmTDkxTqsQ  [[1.127403, -0.9143411, 2.9474373, -1.2328093,...   \n-C7xxeVQI5qEZGAzFdx-cg  [[0.9144162, -0.76526994, 2.5454423, -1.262568...   \n\n                                                                embs_best  \\\nuser_id                                                                     \n-1BSu2dt_rOAqllw9ZDXtA  [[0.4294569, -0.74091864, 2.5334587, -1.151932...   \n-6DoXmdXEy_P5N-QZzntgA  [[0.78651774, -1.0710886, 2.6585214, -1.109733...   \n-8NOuak4Sipn7-zy7Nk5hg  [[1.1762301, -1.0045295, 2.9417152, -1.2765405...   \n-8rSnT5ztVk6vmTDkxTqsQ  [[1.127403, -0.9143411, 2.9474373, -1.2328093,...   \n-C7xxeVQI5qEZGAzFdx-cg  [[0.9144162, -0.76526994, 2.5454423, -1.262568...   \n\n                                                               embs_worst  \nuser_id                                                                    \n-1BSu2dt_rOAqllw9ZDXtA  [[0.7082855, -0.7646998, 2.8138785, -1.3410811...  \n-6DoXmdXEy_P5N-QZzntgA  [[0.4615741, -0.6224606, 2.4306178, -1.099641,...  \n-8NOuak4Sipn7-zy7Nk5hg  [[1.0583673, -0.7620707, 2.6820798, -1.0745525...  \n-8rSnT5ztVk6vmTDkxTqsQ  [[0.57977533, -0.7533637, 2.3341944, -1.041487...  \n-C7xxeVQI5qEZGAzFdx-cg  [[1.2083615, -0.67561406, 2.804841, -1.2537695...  ",
      "text/html": "<div>\n<style scoped>\n    .dataframe tbody tr th:only-of-type {\n        vertical-align: middle;\n    }\n\n    .dataframe tbody tr th {\n        vertical-align: top;\n    }\n\n    .dataframe thead th {\n        text-align: right;\n    }\n</style>\n<table border=\"1\" class=\"dataframe\">\n  <thead>\n    <tr style=\"text-align: right;\">\n      <th></th>\n      <th>text</th>\n      <th>stars</th>\n      <th>embs</th>\n      <th>embs_best</th>\n      <th>embs_worst</th>\n    </tr>\n    <tr>\n      <th>user_id</th>\n      <th></th>\n      <th></th>\n      <th></th>\n      <th></th>\n      <th></th>\n    </tr>\n  </thead>\n  <tbody>\n    <tr>\n      <th>-1BSu2dt_rOAqllw9ZDXtA</th>\n      <td>[Hank and I love Brocatos!The freshest ingredi...</td>\n      <td>([0, 1, 2, 3, 4], [6, 9, 11, 0, 1])</td>\n      <td>[[0.4294569, -0.74091864, 2.5334587, -1.151932...</td>\n      <td>[[0.4294569, -0.74091864, 2.5334587, -1.151932...</td>\n      <td>[[0.7082855, -0.7646998, 2.8138785, -1.3410811...</td>\n    </tr>\n    <tr>\n      <th>-6DoXmdXEy_P5N-QZzntgA</th>\n      <td>[With a home airport like ORD, SBA is an incre...</td>\n      <td>([5, 8, 12, 0, 1], [7, 10, 11, 0, 1])</td>\n      <td>[[0.78651774, -1.0710886, 2.6585214, -1.109733...</td>\n      <td>[[0.78651774, -1.0710886, 2.6585214, -1.109733...</td>\n      <td>[[0.4615741, -0.6224606, 2.4306178, -1.099641,...</td>\n    </tr>\n    <tr>\n      <th>-8NOuak4Sipn7-zy7Nk5hg</th>\n      <td>[One of Philadelphia's best restaurants in my ...</td>\n      <td>([0, 1, 3, 4, 5], [11, 8, 6, 2, 12])</td>\n      <td>[[1.1762301, -1.0045295, 2.9417152, -1.2765405...</td>\n      <td>[[1.1762301, -1.0045295, 2.9417152, -1.2765405...</td>\n      <td>[[1.0583673, -0.7620707, 2.6820798, -1.0745525...</td>\n    </tr>\n    <tr>\n      <th>-8rSnT5ztVk6vmTDkxTqsQ</th>\n      <td>[Great space! Loved the accessibility to outdo...</td>\n      <td>([10, 0, 1, 2, 4], [3, 9, 11, 14, 5])</td>\n      <td>[[1.127403, -0.9143411, 2.9474373, -1.2328093,...</td>\n      <td>[[1.127403, -0.9143411, 2.9474373, -1.2328093,...</td>\n      <td>[[0.57977533, -0.7533637, 2.3341944, -1.041487...</td>\n    </tr>\n    <tr>\n      <th>-C7xxeVQI5qEZGAzFdx-cg</th>\n      <td>[This place is the best! Their food isn't spic...</td>\n      <td>([0, 2, 3, 5, 7], [4, 9, 1, 6, 0])</td>\n      <td>[[0.9144162, -0.76526994, 2.5454423, -1.262568...</td>\n      <td>[[0.9144162, -0.76526994, 2.5454423, -1.262568...</td>\n      <td>[[1.2083615, -0.67561406, 2.804841, -1.2537695...</td>\n    </tr>\n  </tbody>\n</table>\n</div>"
     },
     "execution_count": 93,
     "metadata": {},
     "output_type": "execute_result"
    }
   ],
   "source": [
    "reviews.head()"
   ],
   "metadata": {
    "collapsed": false
   }
  },
  {
   "cell_type": "code",
   "execution_count": 94,
   "outputs": [],
   "source": [
    "# gerando media dos embeddings\n",
    "reviews['embs_best'] = reviews.embs_best.apply(lambda x: np.mean(x, axis=0))\n",
    "reviews['embs_worst'] = reviews.embs_worst.apply(lambda x: np.mean(x, axis=0))"
   ],
   "metadata": {
    "collapsed": false
   }
  },
  {
   "cell_type": "code",
   "execution_count": 97,
   "outputs": [
    {
     "data": {
      "text/plain": "count    1000.0\nmean      768.0\nstd         0.0\nmin       768.0\n25%       768.0\n50%       768.0\n75%       768.0\nmax       768.0\nName: embs_best, dtype: float64"
     },
     "execution_count": 97,
     "metadata": {},
     "output_type": "execute_result"
    }
   ],
   "source": [
    "reviews.embs_best.apply(len).describe()"
   ],
   "metadata": {
    "collapsed": false
   }
  },
  {
   "cell_type": "code",
   "execution_count": 98,
   "outputs": [],
   "source": [
    "# salvando em parquet os resultados\n",
    "reviews[['embs_best', 'embs_worst']].to_parquet('../data/embeddingsUsers.parquet')"
   ],
   "metadata": {
    "collapsed": false
   }
  },
  {
   "cell_type": "code",
   "execution_count": null,
   "outputs": [],
   "source": [],
   "metadata": {
    "collapsed": false
   }
  }
 ],
 "metadata": {
  "kernelspec": {
   "display_name": "Python 3",
   "language": "python",
   "name": "python3"
  },
  "language_info": {
   "codemirror_mode": {
    "name": "ipython",
    "version": 2
   },
   "file_extension": ".py",
   "mimetype": "text/x-python",
   "name": "python",
   "nbconvert_exporter": "python",
   "pygments_lexer": "ipython2",
   "version": "2.7.6"
  }
 },
 "nbformat": 4,
 "nbformat_minor": 0
}
