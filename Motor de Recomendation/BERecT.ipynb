{
 "cells": [
  {
   "cell_type": "markdown",
   "source": [
    "Esse notebook visa criar a estrutura de dados necessária para a avaliação das recomendações, sendo os embeddings gerados a partir dos textos em 'reviews' utilizando o BERT.\n",
    "\n",
    "A abordagem consiste em pegar as 5 melhores avaliações de cada business_id, as 5 melhores avaliações de cada usuário e comparar a similaridade entre a média deles. Assim, esperamos que os lugares mais semelhantes ao gosto do usuário tenham maior similaridade com suas avaliações particulares."
   ],
   "metadata": {
    "collapsed": false
   }
  },
  {
   "cell_type": "markdown",
   "source": [
    "# Carregando dados de eval"
   ],
   "metadata": {
    "collapsed": false
   }
  },
  {
   "cell_type": "code",
   "execution_count": 1,
   "metadata": {
    "collapsed": true
   },
   "outputs": [],
   "source": [
    "import pandas as pd\n",
    "import numpy as np\n",
    "\n",
    "# loading dataset\n",
    "eval_set = pd.read_csv('../data/evaluation/eval_users.csv')"
   ]
  },
  {
   "cell_type": "code",
   "execution_count": 2,
   "outputs": [
    {
     "name": "stdout",
     "output_type": "stream",
     "text": [
      "<class 'pandas.core.frame.DataFrame'>\n",
      "RangeIndex: 1000 entries, 0 to 999\n",
      "Data columns (total 4 columns):\n",
      " #   Column       Non-Null Count  Dtype \n",
      "---  ------       --------------  ----- \n",
      " 0   user_id      1000 non-null   object\n",
      " 1   user_perfil  1000 non-null   object\n",
      " 2   gt_reclist   1000 non-null   object\n",
      " 3   reclist      1000 non-null   object\n",
      "dtypes: object(4)\n",
      "memory usage: 31.4+ KB\n"
     ]
    }
   ],
   "source": [
    "eval_set.info()"
   ],
   "metadata": {
    "collapsed": false
   }
  },
  {
   "cell_type": "markdown",
   "source": [
    "# Carregando os dados de embeddings"
   ],
   "metadata": {
    "collapsed": false
   }
  },
  {
   "cell_type": "code",
   "execution_count": 3,
   "outputs": [],
   "source": [
    "embs_business1 = pd.read_parquet('../data/embeddingsBusiness1.parquet')\n",
    "embs_business2 = pd.read_parquet('../data/embeddingsBusiness2.parquet')\n",
    "embs_users = pd.read_parquet('../data/embeddingsUsers.parquet')"
   ],
   "metadata": {
    "collapsed": false
   }
  },
  {
   "cell_type": "code",
   "execution_count": 4,
   "outputs": [
    {
     "data": {
      "text/plain": "(1000, 2)"
     },
     "execution_count": 4,
     "metadata": {},
     "output_type": "execute_result"
    }
   ],
   "source": [
    "embs_users.shape  # são todos os users_id que aparecem em eval Dataset"
   ],
   "metadata": {
    "collapsed": false
   }
  },
  {
   "cell_type": "code",
   "execution_count": 5,
   "outputs": [
    {
     "data": {
      "text/plain": "(7862, 2)"
     },
     "execution_count": 5,
     "metadata": {},
     "output_type": "execute_result"
    }
   ],
   "source": [
    "embs_business1.shape  # são todos os business (unique) que aparecem em eval Dataset"
   ],
   "metadata": {
    "collapsed": false
   }
  },
  {
   "cell_type": "code",
   "execution_count": 6,
   "outputs": [
    {
     "data": {
      "text/plain": "(8882, 2)"
     },
     "execution_count": 6,
     "metadata": {},
     "output_type": "execute_result"
    }
   ],
   "source": [
    "embs_business2.shape  # são todos os business (unique) que aparecem em eval Dataset"
   ],
   "metadata": {
    "collapsed": false
   }
  },
  {
   "cell_type": "code",
   "execution_count": 7,
   "outputs": [],
   "source": [
    "# concatenando os dois embs_business\n",
    "embs_business = pd.concat([embs_business1, embs_business2])"
   ],
   "metadata": {
    "collapsed": false
   }
  },
  {
   "cell_type": "code",
   "execution_count": 8,
   "outputs": [
    {
     "data": {
      "text/plain": "(16744, 2)"
     },
     "execution_count": 8,
     "metadata": {},
     "output_type": "execute_result"
    }
   ],
   "source": [
    "embs_business.shape"
   ],
   "metadata": {
    "collapsed": false
   }
  },
  {
   "cell_type": "markdown",
   "source": [
    "# Carregando dataframe que relaciona business_id com embeddings + metadados"
   ],
   "metadata": {
    "collapsed": false
   }
  },
  {
   "cell_type": "code",
   "execution_count": 9,
   "outputs": [],
   "source": [
    "# criando dataframe que relaciona os business_id com os embeddings:\n",
    "df_final = pd.read_parquet('../data/yelp_dataset/yelp_academic_dataset_business.parquet')"
   ],
   "metadata": {
    "collapsed": false
   }
  },
  {
   "cell_type": "code",
   "execution_count": 10,
   "outputs": [],
   "source": [
    "df_final = df_final[['business_id', 'name', 'categories']]"
   ],
   "metadata": {
    "collapsed": false
   }
  },
  {
   "cell_type": "code",
   "execution_count": 11,
   "outputs": [
    {
     "name": "stdout",
     "output_type": "stream",
     "text": [
      "<class 'pandas.core.frame.DataFrame'>\n",
      "RangeIndex: 150346 entries, 0 to 150345\n",
      "Data columns (total 3 columns):\n",
      " #   Column       Non-Null Count   Dtype \n",
      "---  ------       --------------   ----- \n",
      " 0   business_id  150346 non-null  object\n",
      " 1   name         150346 non-null  object\n",
      " 2   categories   150243 non-null  object\n",
      "dtypes: object(3)\n",
      "memory usage: 3.4+ MB\n"
     ]
    }
   ],
   "source": [
    "df_final.info()"
   ],
   "metadata": {
    "collapsed": false
   }
  },
  {
   "cell_type": "markdown",
   "source": [
    "### Filtrando esse dataset para conter apenas os business_id que criamos embeddings + os business_id de preferência (perfil) do usuário"
   ],
   "metadata": {
    "collapsed": false
   }
  },
  {
   "cell_type": "code",
   "execution_count": 12,
   "outputs": [],
   "source": [
    "# selecionando os business que possuem embeddings\n",
    "business_ = embs_business.reset_index().business_id"
   ],
   "metadata": {
    "collapsed": false
   }
  },
  {
   "cell_type": "code",
   "execution_count": 13,
   "outputs": [],
   "source": [
    "# selecionando os perfis dos users\n",
    "users_ = eval_set.user_perfil"
   ],
   "metadata": {
    "collapsed": false
   }
  },
  {
   "cell_type": "code",
   "execution_count": 14,
   "outputs": [],
   "source": [
    "filtro = pd.concat([business_, users_])"
   ],
   "metadata": {
    "collapsed": false
   }
  },
  {
   "cell_type": "code",
   "execution_count": 15,
   "outputs": [],
   "source": [
    "df_final = df_final[df_final['business_id'].isin(filtro)]"
   ],
   "metadata": {
    "collapsed": false
   }
  },
  {
   "cell_type": "code",
   "execution_count": 16,
   "outputs": [
    {
     "data": {
      "text/plain": "(16744, 3)"
     },
     "execution_count": 16,
     "metadata": {},
     "output_type": "execute_result"
    }
   ],
   "source": [
    "df_final.shape"
   ],
   "metadata": {
    "collapsed": false
   }
  },
  {
   "cell_type": "markdown",
   "source": [
    "> Já tínhamos levado em consideração no dataset de business os business de preferência do usuário O.o\n",
    "> Nesse caso, basta apenas substituirmos os embeddings dos business de perfil pelo dos usuários!"
   ],
   "metadata": {
    "collapsed": false
   }
  },
  {
   "cell_type": "markdown",
   "source": [
    "# Colocando os embeddings"
   ],
   "metadata": {
    "collapsed": false
   }
  },
  {
   "cell_type": "code",
   "execution_count": 17,
   "outputs": [],
   "source": [
    "# selecionando apenas os embs_best:\n",
    "embs_business = embs_business['embs_best']"
   ],
   "metadata": {
    "collapsed": false
   }
  },
  {
   "cell_type": "code",
   "execution_count": 18,
   "outputs": [],
   "source": [
    "# unindo o dataframe final com o de embeddings\n",
    "df_final = df_final.join(embs_business, on='business_id', how='left')"
   ],
   "metadata": {
    "collapsed": false
   }
  },
  {
   "cell_type": "code",
   "execution_count": 19,
   "outputs": [],
   "source": [
    "df_final.to_parquet('../data/Dataframes_finais/EmbsBusinessMeta.parquet')"
   ],
   "metadata": {
    "collapsed": false
   }
  },
  {
   "cell_type": "code",
   "execution_count": 20,
   "outputs": [
    {
     "name": "stdout",
     "output_type": "stream",
     "text": [
      "<class 'pandas.core.frame.DataFrame'>\n",
      "Int64Index: 16744 entries, 9 to 150326\n",
      "Data columns (total 4 columns):\n",
      " #   Column       Non-Null Count  Dtype \n",
      "---  ------       --------------  ----- \n",
      " 0   business_id  16744 non-null  object\n",
      " 1   name         16744 non-null  object\n",
      " 2   categories   16735 non-null  object\n",
      " 3   embs_best    16744 non-null  object\n",
      "dtypes: object(4)\n",
      "memory usage: 654.1+ KB\n"
     ]
    }
   ],
   "source": [
    "df_final.info()"
   ],
   "metadata": {
    "collapsed": false
   }
  },
  {
   "cell_type": "markdown",
   "source": [
    "# Primeira tentativa: levando em consideração somente os embeddings formados pelos reviews dos business (excluindo o perfil calculado com foco nos reviews individuais dos users)"
   ],
   "metadata": {
    "collapsed": false
   }
  },
  {
   "cell_type": "code",
   "execution_count": 21,
   "outputs": [],
   "source": [
    "# gerando os embeddings no formato desejado\n",
    "import os\n",
    "def export_dataset(df: pd.DataFrame, emb_column: str, output_file: str):\n",
    "    \"\"\"\n",
    "    Export the embeddings to a csv file.\n",
    "    \"\"\"\n",
    "    if not os.path.exists(output_file):\n",
    "        os.makedirs(output_file)\n",
    "\n",
    "    np.savetxt(output_file+'/embeddings.txt', np.stack(df[emb_column]), delimiter='\\t')\n",
    "    df.drop(emb_column, axis=1).to_csv(output_file+\"/metadados.csv\", sep=\"\\t\", index=False)"
   ],
   "metadata": {
    "collapsed": false
   }
  },
  {
   "cell_type": "code",
   "execution_count": 22,
   "outputs": [],
   "source": [
    "export_dataset(df_final, 'embs_best', '../data/Embeddings/FirstAttempt')"
   ],
   "metadata": {
    "collapsed": false
   }
  },
  {
   "cell_type": "markdown",
   "source": [
    "## Calculando resultados"
   ],
   "metadata": {
    "collapsed": false
   }
  },
  {
   "cell_type": "code",
   "execution_count": 26,
   "outputs": [
    {
     "name": "stdout",
     "output_type": "stream",
     "text": [
      "              business_id  ...                                         categories\n",
      "0  bBDDEgkFA1Otx9Lfe7BZUQ  ...  Ice Cream & Frozen Yogurt, Fast Food, Burgers,...\n",
      "1  MUTTqe8uqyMdBl186RmNeA  ...                  Sushi Bars, Restaurants, Japanese\n",
      "2  8wGISYjYkE2tSqn3cDMu8A  ...  Automotive, Car Rental, Hotels & Travel, Truck...\n",
      "3  ROeacJQwBeh05Rqg7F6TCg  ...                                Korean, Restaurants\n",
      "4  qhDdDeI3K4jy2KyzwFN53w  ...   Shopping, Books, Mags, Music & Video, Bookstores\n",
      "\n",
      "[5 rows x 3 columns]\n",
      "\n",
      "\n",
      "Avaliação de Embeddings\n",
      "Embeddings:  ../data/Embeddings/FirstAttempt/embeddings.txt\n",
      "Total Users:  1000\n",
      "NDCG@5:  0.5517928975002069\n",
      "NDCG@10:  0.5958024267360613\n"
     ]
    },
    {
     "name": "stderr",
     "output_type": "stream",
     "text": [
      "Your CPU supports instructions that this binary was not compiled to use: AVX AVX2\n",
      "For maximum performance, you can install NMSLIB from sources \n",
      "pip install --no-binary :all: nmslib\n",
      "\n",
      "0%   10   20   30   40   50   60   70   80   90   100%\n",
      "|----|----|----|----|----|----|----|----|----|----|\n",
      "***************************************************\n",
      "\n",
      "0%   10   20   30   40   50   60   70   80   90   100%\n",
      "|----|----|----|----|----|----|----|----|----|----|\n",
      "***************************************************\n",
      "*\n",
      "0it [00:00, ?it/s]\n",
      "76it [00:00, 748.65it/s]\n",
      "153it [00:00, 755.82it/s]\n",
      "234it [00:00, 778.57it/s]\n",
      "316it [00:00, 790.13it/s]\n",
      "398it [00:00, 799.32it/s]\n",
      "479it [00:00, 801.53it/s]\n",
      "561it [00:00, 803.53it/s]\n",
      "643it [00:00, 805.99it/s]\n",
      "726it [00:00, 812.14it/s]\n",
      "809it [00:01, 813.83it/s]\n",
      "891it [00:01, 792.79it/s]\n",
      "973it [00:01, 799.64it/s]\n",
      "1000it [00:01, 797.79it/s]\n"
     ]
    }
   ],
   "source": [
    "!python ../evaluation/evaluation.py ../data/Embeddings/FirstAttempt/embeddings.txt ../data/Embeddings/FirstAttempt/metadados.csv"
   ],
   "metadata": {
    "collapsed": false
   }
  },
  {
   "cell_type": "markdown",
   "source": [
    "# Segunda tentativa: levando em consideração os embeddings formados pelos reviews dos business + os embeddings formados pelos reviews dos users (perfil)"
   ],
   "metadata": {
    "collapsed": false
   }
  },
  {
   "cell_type": "code",
   "execution_count": 27,
   "outputs": [
    {
     "name": "stdout",
     "output_type": "stream",
     "text": [
      "<class 'pandas.core.frame.DataFrame'>\n",
      "Index: 1000 entries, -1BSu2dt_rOAqllw9ZDXtA to zx2NkJtfSvJhid6rxvYMlg\n",
      "Data columns (total 2 columns):\n",
      " #   Column      Non-Null Count  Dtype \n",
      "---  ------      --------------  ----- \n",
      " 0   embs_best   1000 non-null   object\n",
      " 1   embs_worst  1000 non-null   object\n",
      "dtypes: object(2)\n",
      "memory usage: 23.4+ KB\n"
     ]
    }
   ],
   "source": [
    "embs_users.info()"
   ],
   "metadata": {
    "collapsed": false
   }
  },
  {
   "cell_type": "code",
   "execution_count": 29,
   "outputs": [
    {
     "name": "stdout",
     "output_type": "stream",
     "text": [
      "<class 'pandas.core.frame.DataFrame'>\n",
      "Int64Index: 16744 entries, 9 to 150326\n",
      "Data columns (total 4 columns):\n",
      " #   Column       Non-Null Count  Dtype \n",
      "---  ------       --------------  ----- \n",
      " 0   business_id  16744 non-null  object\n",
      " 1   name         16744 non-null  object\n",
      " 2   categories   16735 non-null  object\n",
      " 3   embs_best    16744 non-null  object\n",
      "dtypes: object(4)\n",
      "memory usage: 654.1+ KB\n"
     ]
    }
   ],
   "source": [
    "df_final.info()"
   ],
   "metadata": {
    "collapsed": false
   }
  },
  {
   "cell_type": "code",
   "execution_count": 31,
   "outputs": [],
   "source": [
    "# unindo o dataframe final com o de embeddings dos users, mesclando a coluna embs_best de df_final com a coluna embs_best de embs_users onde embs_users.embs_best.notnull()\n",
    "df_final = df_final.join(embs_users['embs_best'], on='business_id', how='left', rsuffix='_user')"
   ],
   "metadata": {
    "collapsed": false
   }
  },
  {
   "cell_type": "code",
   "execution_count": 33,
   "outputs": [],
   "source": [
    "# as linhas em que embs_best_user não é nulo, substitui o embs_best por embs_best_user\n",
    "df_final['embs_best'] = np.where(df_final['embs_best_user'].notnull(), df_final['embs_best_user'], df_final['embs_best'])\n"
   ],
   "metadata": {
    "collapsed": false
   }
  },
  {
   "cell_type": "code",
   "execution_count": 39,
   "outputs": [],
   "source": [
    "df_final.drop('embs_best_user', axis=1, inplace=True)"
   ],
   "metadata": {
    "collapsed": false
   }
  },
  {
   "cell_type": "markdown",
   "source": [
    "## Exportando os embeddings (segunda tentativa)"
   ],
   "metadata": {
    "collapsed": false
   }
  },
  {
   "cell_type": "code",
   "execution_count": 41,
   "outputs": [],
   "source": [
    "# gerando os embeddings no formato desejado\n",
    "import os\n",
    "\n",
    "\n",
    "def export_dataset(df: pd.DataFrame, emb_column: str, output_file: str):\n",
    "    \"\"\"\n",
    "    Export the embeddings to a csv file.\n",
    "    \"\"\"\n",
    "    if not os.path.exists(output_file):\n",
    "        os.makedirs(output_file)\n",
    "\n",
    "    np.savetxt(output_file + '/embeddings.txt', np.stack(df[emb_column]), delimiter='\\t')\n",
    "    df.drop(emb_column, axis=1).to_csv(output_file + \"/metadados.csv\", sep=\"\\t\", index=False)\n",
    "\n",
    "\n",
    "export_dataset(df_final, 'embs_best', '../data/Embeddings/SecondAttempt')"
   ],
   "metadata": {
    "collapsed": false
   }
  },
  {
   "cell_type": "code",
   "execution_count": 42,
   "outputs": [
    {
     "name": "stdout",
     "output_type": "stream",
     "text": [
      "              business_id  ...                                         categories\n",
      "0  bBDDEgkFA1Otx9Lfe7BZUQ  ...  Ice Cream & Frozen Yogurt, Fast Food, Burgers,...\n",
      "1  MUTTqe8uqyMdBl186RmNeA  ...                  Sushi Bars, Restaurants, Japanese\n",
      "2  8wGISYjYkE2tSqn3cDMu8A  ...  Automotive, Car Rental, Hotels & Travel, Truck...\n",
      "3  ROeacJQwBeh05Rqg7F6TCg  ...                                Korean, Restaurants\n",
      "4  qhDdDeI3K4jy2KyzwFN53w  ...   Shopping, Books, Mags, Music & Video, Bookstores\n",
      "\n",
      "[5 rows x 3 columns]\n",
      "\n",
      "\n",
      "Avaliação de Embeddings\n",
      "Embeddings:  ../data/Embeddings/SecondAttempt/embeddings.txt\n",
      "Total Users:  1000\n",
      "NDCG@5:  0.5517928975002069\n",
      "NDCG@10:  0.5958024267360613\n"
     ]
    },
    {
     "name": "stderr",
     "output_type": "stream",
     "text": [
      "Your CPU supports instructions that this binary was not compiled to use: AVX AVX2\n",
      "For maximum performance, you can install NMSLIB from sources \n",
      "pip install --no-binary :all: nmslib\n",
      "\n",
      "0%   10   20   30   40   50   60   70   80   90   100%\n",
      "|----|----|----|----|----|----|----|----|----|----|\n",
      "***************************************************\n",
      "\n",
      "0%   10   20   30   40   50   60   70   80   90   100%\n",
      "|----|----|----|----|----|----|----|----|----|----|\n",
      "***************************************************\n",
      "*\n",
      "0it [00:00, ?it/s]\n",
      "74it [00:00, 725.60it/s]\n",
      "147it [00:00, 721.82it/s]\n",
      "220it [00:00, 707.03it/s]\n",
      "291it [00:00, 703.10it/s]\n",
      "362it [00:00, 684.39it/s]\n",
      "434it [00:00, 694.03it/s]\n",
      "509it [00:00, 711.66it/s]\n",
      "581it [00:00, 708.50it/s]\n",
      "654it [00:00, 711.60it/s]\n",
      "726it [00:01, 705.30it/s]\n",
      "800it [00:01, 712.50it/s]\n",
      "873it [00:01, 716.04it/s]\n",
      "945it [00:01, 713.02it/s]\n",
      "1000it [00:01, 709.70it/s]\n"
     ]
    }
   ],
   "source": [
    "!python ../evaluation/evaluation.py ../data/Embeddings/SecondAttempt/embeddings.txt ../data/Embeddings/SecondAttempt/metadados.csv"
   ],
   "metadata": {
    "collapsed": false
   }
  }
 ],
 "metadata": {
  "kernelspec": {
   "display_name": "Python 3",
   "language": "python",
   "name": "python3"
  },
  "language_info": {
   "codemirror_mode": {
    "name": "ipython",
    "version": 2
   },
   "file_extension": ".py",
   "mimetype": "text/x-python",
   "name": "python",
   "nbconvert_exporter": "python",
   "pygments_lexer": "ipython2",
   "version": "2.7.6"
  }
 },
 "nbformat": 4,
 "nbformat_minor": 0
}
