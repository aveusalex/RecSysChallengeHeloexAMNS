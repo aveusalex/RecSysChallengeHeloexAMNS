{
 "cells": [
  {
   "cell_type": "markdown",
   "source": [
    "> A estratégia consiste em selecionar os business que aparecem em eval_set, selecionar as 5 melhores reviews dele e as 5 piores reviews (com menor nota), gerar embeddings dessas reviews e calcular a média."
   ],
   "metadata": {
    "collapsed": false
   }
  },
  {
   "cell_type": "markdown",
   "source": [
    "> Depois, fazemos o mesmo para os users que aparecem em eval_set: pegamos as 5 melhores, 5 piores, tira a média dos embeddings e comparamos com as médias dos business."
   ],
   "metadata": {
    "collapsed": false
   }
  },
  {
   "cell_type": "markdown",
   "source": [
    "> A lógica é: se os embeddings de melhor avaliação for maior, recomenda para a pessoa, se o de pior avaliação for maior, não recomenda."
   ],
   "metadata": {
    "collapsed": false
   }
  },
  {
   "cell_type": "markdown",
   "source": [
    "> Para ordenar os business, verificamos qual é maior:\n",
    "- se for o embedding de melhor avaliação, ordenamos de forma que quanto maior o valor dele, mais à frente fica.\n",
    "- se for o embedding de pior avaliação, ordenamos de forma que quanto maior o valor dele, mais atrás ele fica."
   ],
   "metadata": {
    "collapsed": false
   }
  },
  {
   "cell_type": "code",
   "execution_count": 2,
   "outputs": [],
   "source": [
    "import pandas as pd"
   ],
   "metadata": {
    "collapsed": false
   }
  },
  {
   "cell_type": "markdown",
   "source": [
    "# Carregando os dados"
   ],
   "metadata": {
    "collapsed": false
   }
  },
  {
   "cell_type": "code",
   "execution_count": 3,
   "metadata": {
    "collapsed": true
   },
   "outputs": [],
   "source": [
    "# carregando os dados do eval_set\n",
    "eval_set = pd.read_csv('../data/evaluation/eval_users.csv')"
   ]
  },
  {
   "cell_type": "code",
   "execution_count": 4,
   "outputs": [],
   "source": [
    "# carregando o dataset de reviews\n",
    "reviews = pd.read_parquet('../data/DatasetsLimpos/yelp_academic_dataset_review.parquet')"
   ],
   "metadata": {
    "collapsed": false
   }
  },
  {
   "cell_type": "markdown",
   "source": [
    "# Filtrando"
   ],
   "metadata": {
    "collapsed": false
   }
  },
  {
   "cell_type": "markdown",
   "source": [
    "### Filtrando apenas os business que aparecem no eval_set"
   ],
   "metadata": {
    "collapsed": false
   }
  },
  {
   "cell_type": "code",
   "execution_count": 5,
   "outputs": [],
   "source": [
    "## carregando eval_df\n",
    "# verificando os business que aparecem em eval\n",
    "business_ = eval_set['gt_reclist'].apply(lambda x: x.replace(\"[\", \"\").replace(\"]\", \"\").split(',')).explode().unique()"
   ],
   "metadata": {
    "collapsed": false
   }
  },
  {
   "cell_type": "code",
   "execution_count": 6,
   "outputs": [],
   "source": [
    "business_ = pd.Series(business_).apply(lambda x: x.replace(\"'\", \"\").replace(\" \", \"\")).unique()"
   ],
   "metadata": {
    "collapsed": false
   }
  },
  {
   "cell_type": "code",
   "execution_count": 7,
   "outputs": [],
   "source": [
    "# filtrando apenas os business que aparecem em eval\n",
    "reviews = reviews[reviews['business_id'].isin(business_)]"
   ],
   "metadata": {
    "collapsed": false
   }
  },
  {
   "cell_type": "code",
   "execution_count": 8,
   "outputs": [
    {
     "data": {
      "text/plain": "(1935414, 7)"
     },
     "execution_count": 8,
     "metadata": {},
     "output_type": "execute_result"
    }
   ],
   "source": [
    "reviews.shape"
   ],
   "metadata": {
    "collapsed": false
   }
  },
  {
   "cell_type": "code",
   "execution_count": 9,
   "outputs": [],
   "source": [
    "# selecionando apenas as colunas que serão utilizadas\n",
    "reviews = reviews[['business_id', 'user_id','text', 'stars']]"
   ],
   "metadata": {
    "collapsed": false
   }
  },
  {
   "cell_type": "code",
   "execution_count": 14,
   "outputs": [],
   "source": [
    "# agrupando os business\n",
    "reviews = reviews.groupby('business_id').agg({'text': lambda x: [i for i in x], 'stars': lambda x: [i for i in x]})"
   ],
   "metadata": {
    "collapsed": false
   }
  },
  {
   "cell_type": "code",
   "execution_count": 26,
   "outputs": [],
   "source": [
    "import numpy as np"
   ],
   "metadata": {
    "collapsed": false
   }
  },
  {
   "cell_type": "code",
   "execution_count": 30,
   "outputs": [],
   "source": [
    "# criando uma função que recebe uma lista e retorna os índices dos 5 maiores e 5 menores valores (ou 2)\n",
    "def get_best_worst_indices(lista):\n",
    "    # Converte a lista para um array NumPy\n",
    "    arr = np.array(lista)\n",
    "\n",
    "    if arr.shape[0] < 10:\n",
    "        # Obtém os índices dos N maiores valores usando argsort\n",
    "        indices_n_maiores = np.argsort(-arr)[:2]\n",
    "        indices_n_menores = np.argsort(arr)[:2]\n",
    "    else:\n",
    "        # Obtém os índices dos N maiores valores usando argsort\n",
    "        indices_n_maiores = np.argsort(-arr)[:5]\n",
    "        indices_n_menores = np.argsort(arr)[:5]\n",
    "    return indices_n_maiores.tolist(), indices_n_menores.tolist()"
   ],
   "metadata": {
    "collapsed": false
   }
  },
  {
   "cell_type": "code",
   "execution_count": null,
   "outputs": [],
   "source": [
    "# aplicando na coluna stars\n",
    "reviews['stars'] = reviews.stars.apply(get_best_worst_indices)"
   ],
   "metadata": {
    "collapsed": false
   }
  },
  {
   "cell_type": "code",
   "execution_count": null,
   "outputs": [],
   "source": [
    "# filtrando a coluna texto para pegar apenas as reviews que estão nos indices de stars\n",
    "reviews['text'] = reviews.apply(lambda x: [x['text'][i] for i in x['stars'][0] + x['stars'][1]], axis=1)"
   ],
   "metadata": {
    "collapsed": false
   }
  },
  {
   "cell_type": "markdown",
   "source": [
    "### Gerando os embeddings dos business"
   ],
   "metadata": {
    "collapsed": false
   }
  },
  {
   "cell_type": "code",
   "execution_count": 41,
   "outputs": [],
   "source": [
    "from BertEmbedding import get_bert_embedding"
   ],
   "metadata": {
    "collapsed": false
   }
  },
  {
   "cell_type": "code",
   "execution_count": null,
   "outputs": [],
   "source": [
    "# aplicando a funcao no text\n",
    "reviews['embs'] = reviews['text'].apply(lambda x: get_bert_embedding(x)[0])"
   ],
   "metadata": {
    "collapsed": false,
    "pycharm": {
     "is_executing": true
    }
   }
  },
  {
   "cell_type": "code",
   "execution_count": 47,
   "outputs": [],
   "source": [
    "# separando os embeddings em colunas: melhor avaliados [:5] e piores avaliados [5:]\n",
    "reviews['embs_best'] = reviews['embs'].apply(lambda x: x[:5] if x.shape[0] == 10 else x[:2])\n",
    "reviews['embs_worst'] = reviews['embs'].apply(lambda x: x[5:] if x.shape[0] == 10 else x[2:])"
   ],
   "metadata": {
    "collapsed": false
   }
  },
  {
   "cell_type": "code",
   "execution_count": 67,
   "outputs": [
    {
     "data": {
      "text/plain": "                                                                     text  \\\nbusiness_id                                                                 \n--onnLZrsCazmcy2P_7fcw  [Another place where I'm a regular which means...   \n--x_BmZbxzK_nx_GHBaRVw  [This is a fun, fun tour, and Johnathan is a g...   \n-1B9pP_CrRBJYPICE5WbRA  [I ordered the Singapore St Noodle with medium...   \n-1MhPXk1FglglUAmuPLIGg  [Great food and drink. The staff are always fr...   \n-1b2kNOowsPrPpBOK4lNkQ  [Love this place! We went because it was walki...   \n\n                                                                    stars  \\\nbusiness_id                                                                 \n--onnLZrsCazmcy2P_7fcw                                   ([0, 2], [1, 4])   \n--x_BmZbxzK_nx_GHBaRVw          ([22, 15, 18, 13, 12], [2, 0, 14, 11, 3])   \n-1B9pP_CrRBJYPICE5WbRA  ([425, 362, 716, 717, 357], [583, 582, 633, 73...   \n-1MhPXk1FglglUAmuPLIGg         ([0, 34, 38, 44, 47], [99, 92, 37, 3, 73])   \n-1b2kNOowsPrPpBOK4lNkQ            ([0, 19, 18, 17, 16], [10, 5, 3, 9, 1])   \n\n                                                                     embs  \\\nbusiness_id                                                                 \n--onnLZrsCazmcy2P_7fcw  [[1.0513206, -0.8850983, 2.8266966, -1.4233696...   \n--x_BmZbxzK_nx_GHBaRVw  [[0.6877591, -0.8208134, 2.5717452, -0.9616006...   \n-1B9pP_CrRBJYPICE5WbRA  [[1.395613, -0.88007987, 3.027491, -1.2700746,...   \n-1MhPXk1FglglUAmuPLIGg  [[1.2828859, -0.8165944, 3.0964985, -1.3718348...   \n-1b2kNOowsPrPpBOK4lNkQ  [[0.8386996, -1.0572733, 2.4753923, -1.0825523...   \n\n                                                                embs_best  \\\nbusiness_id                                                                 \n--onnLZrsCazmcy2P_7fcw  [[1.0513206, -0.8850983, 2.8266966, -1.4233696...   \n--x_BmZbxzK_nx_GHBaRVw  [[0.6877591, -0.8208134, 2.5717452, -0.9616006...   \n-1B9pP_CrRBJYPICE5WbRA  [[1.395613, -0.88007987, 3.027491, -1.2700746,...   \n-1MhPXk1FglglUAmuPLIGg  [[1.2828859, -0.8165944, 3.0964985, -1.3718348...   \n-1b2kNOowsPrPpBOK4lNkQ  [[0.8386996, -1.0572733, 2.4753923, -1.0825523...   \n\n                                                               embs_worst  \nbusiness_id                                                                \n--onnLZrsCazmcy2P_7fcw  [[0.7261548, -0.94964, 2.6089482, -1.1552327, ...  \n--x_BmZbxzK_nx_GHBaRVw  [[0.40403867, -1.040651, 2.6346776, -1.0031796...  \n-1B9pP_CrRBJYPICE5WbRA  [[0.16083443, -0.68887424, 2.4779906, -0.98172...  \n-1MhPXk1FglglUAmuPLIGg  [[0.26243037, -0.6838061, 2.2511733, -1.038180...  \n-1b2kNOowsPrPpBOK4lNkQ  [[0.6118287, -0.7351066, 2.3257384, -0.7784133...  ",
      "text/html": "<div>\n<style scoped>\n    .dataframe tbody tr th:only-of-type {\n        vertical-align: middle;\n    }\n\n    .dataframe tbody tr th {\n        vertical-align: top;\n    }\n\n    .dataframe thead th {\n        text-align: right;\n    }\n</style>\n<table border=\"1\" class=\"dataframe\">\n  <thead>\n    <tr style=\"text-align: right;\">\n      <th></th>\n      <th>text</th>\n      <th>stars</th>\n      <th>embs</th>\n      <th>embs_best</th>\n      <th>embs_worst</th>\n    </tr>\n    <tr>\n      <th>business_id</th>\n      <th></th>\n      <th></th>\n      <th></th>\n      <th></th>\n      <th></th>\n    </tr>\n  </thead>\n  <tbody>\n    <tr>\n      <th>--onnLZrsCazmcy2P_7fcw</th>\n      <td>[Another place where I'm a regular which means...</td>\n      <td>([0, 2], [1, 4])</td>\n      <td>[[1.0513206, -0.8850983, 2.8266966, -1.4233696...</td>\n      <td>[[1.0513206, -0.8850983, 2.8266966, -1.4233696...</td>\n      <td>[[0.7261548, -0.94964, 2.6089482, -1.1552327, ...</td>\n    </tr>\n    <tr>\n      <th>--x_BmZbxzK_nx_GHBaRVw</th>\n      <td>[This is a fun, fun tour, and Johnathan is a g...</td>\n      <td>([22, 15, 18, 13, 12], [2, 0, 14, 11, 3])</td>\n      <td>[[0.6877591, -0.8208134, 2.5717452, -0.9616006...</td>\n      <td>[[0.6877591, -0.8208134, 2.5717452, -0.9616006...</td>\n      <td>[[0.40403867, -1.040651, 2.6346776, -1.0031796...</td>\n    </tr>\n    <tr>\n      <th>-1B9pP_CrRBJYPICE5WbRA</th>\n      <td>[I ordered the Singapore St Noodle with medium...</td>\n      <td>([425, 362, 716, 717, 357], [583, 582, 633, 73...</td>\n      <td>[[1.395613, -0.88007987, 3.027491, -1.2700746,...</td>\n      <td>[[1.395613, -0.88007987, 3.027491, -1.2700746,...</td>\n      <td>[[0.16083443, -0.68887424, 2.4779906, -0.98172...</td>\n    </tr>\n    <tr>\n      <th>-1MhPXk1FglglUAmuPLIGg</th>\n      <td>[Great food and drink. The staff are always fr...</td>\n      <td>([0, 34, 38, 44, 47], [99, 92, 37, 3, 73])</td>\n      <td>[[1.2828859, -0.8165944, 3.0964985, -1.3718348...</td>\n      <td>[[1.2828859, -0.8165944, 3.0964985, -1.3718348...</td>\n      <td>[[0.26243037, -0.6838061, 2.2511733, -1.038180...</td>\n    </tr>\n    <tr>\n      <th>-1b2kNOowsPrPpBOK4lNkQ</th>\n      <td>[Love this place! We went because it was walki...</td>\n      <td>([0, 19, 18, 17, 16], [10, 5, 3, 9, 1])</td>\n      <td>[[0.8386996, -1.0572733, 2.4753923, -1.0825523...</td>\n      <td>[[0.8386996, -1.0572733, 2.4753923, -1.0825523...</td>\n      <td>[[0.6118287, -0.7351066, 2.3257384, -0.7784133...</td>\n    </tr>\n  </tbody>\n</table>\n</div>"
     },
     "execution_count": 67,
     "metadata": {},
     "output_type": "execute_result"
    }
   ],
   "source": [
    "reviews.head()"
   ],
   "metadata": {
    "collapsed": false
   }
  },
  {
   "cell_type": "code",
   "execution_count": 78,
   "outputs": [],
   "source": [
    "# gerando media dos embeddings\n",
    "reviews['embs_best'] = reviews.embs_best.apply(lambda x: np.mean(x, axis=0))\n",
    "reviews['embs_worst'] = reviews.embs_worst.apply(lambda x: np.mean(x, axis=0))"
   ],
   "metadata": {
    "collapsed": false
   }
  },
  {
   "cell_type": "code",
   "execution_count": 79,
   "outputs": [],
   "source": [
    "reviews[['embs_best', 'embs_worst']].to_parquet('../data/embeddingsBusiness.parquet')"
   ],
   "metadata": {
    "collapsed": false
   }
  },
  {
   "cell_type": "markdown",
   "source": [
    "### Filtrando os users que aparecem em eval_set"
   ],
   "metadata": {
    "collapsed": false
   }
  },
  {
   "cell_type": "code",
   "execution_count": 82,
   "outputs": [],
   "source": [
    "users = eval_set['user_id'].unique()"
   ],
   "metadata": {
    "collapsed": false
   }
  },
  {
   "cell_type": "code",
   "execution_count": 83,
   "outputs": [],
   "source": [
    "# carregando o dataset de reviews\n",
    "reviews = pd.read_parquet('../data/DatasetsLimpos/yelp_academic_dataset_review.parquet')"
   ],
   "metadata": {
    "collapsed": false
   }
  },
  {
   "cell_type": "code",
   "execution_count": 88,
   "outputs": [],
   "source": [
    "reviews = reviews[reviews['user_id'].isin(users)]"
   ],
   "metadata": {
    "collapsed": false
   }
  },
  {
   "cell_type": "code",
   "execution_count": 90,
   "outputs": [],
   "source": [
    "## Todo_ o resto é igual...\n",
    "\n",
    "# selecionando apenas as colunas que serão utilizadas\n",
    "reviews = reviews[['user_id', 'text', 'stars']]\n",
    "\n",
    "# agrupando os business\n",
    "reviews = reviews.groupby('user_id').agg({'text': lambda x: [i for i in x], 'stars': lambda x: [i for i in x]})\n",
    "\n",
    "# criando uma função que recebe uma lista e retorna os índices dos 5 maiores e 5 menores valores (ou 2)\n",
    "def get_best_worst_indices(lista):\n",
    "    # Converte a lista para um array NumPy\n",
    "    arr = np.array(lista)\n",
    "\n",
    "    if arr.shape[0] < 10:\n",
    "        # Obtém os índices dos N maiores valores usando argsort\n",
    "        indices_n_maiores = np.argsort(-arr)[:2]\n",
    "        indices_n_menores = np.argsort(arr)[:2]\n",
    "    else:\n",
    "        # Obtém os índices dos N maiores valores usando argsort\n",
    "        indices_n_maiores = np.argsort(-arr)[:5]\n",
    "        indices_n_menores = np.argsort(arr)[:5]\n",
    "    return indices_n_maiores.tolist(), indices_n_menores.tolist()\n",
    "\n",
    "\n",
    "# aplicando na coluna stars\n",
    "reviews['stars'] = reviews.stars.apply(get_best_worst_indices)\n",
    "# filtrando a coluna texto para pegar apenas as reviews que estão nos indices de stars\n",
    "reviews['text'] = reviews.apply(lambda x: [x['text'][i] for i in x['stars'][0] + x['stars'][1]], axis=1)"
   ],
   "metadata": {
    "collapsed": false
   }
  },
  {
   "cell_type": "markdown",
   "source": [
    "### Gerando os embeddings dos user_id"
   ],
   "metadata": {
    "collapsed": false
   }
  },
  {
   "cell_type": "code",
   "execution_count": null,
   "outputs": [],
   "source": [
    "# aplicando a funcao no text\n",
    "reviews['embs'] = reviews['text'].apply(lambda x: get_bert_embedding(x)[0])"
   ],
   "metadata": {
    "collapsed": false,
    "pycharm": {
     "is_executing": true
    }
   }
  },
  {
   "cell_type": "code",
   "execution_count": 92,
   "outputs": [],
   "source": [
    "# separando os embeddings em colunas: melhor avaliados [:5] e piores avaliados [5:]\n",
    "reviews['embs_best'] = reviews['embs'].apply(lambda x: x[:5] if x.shape[0] == 10 else x[:2])\n",
    "reviews['embs_worst'] = reviews['embs'].apply(lambda x: x[5:] if x.shape[0] == 10 else x[2:])"
   ],
   "metadata": {
    "collapsed": false
   }
  },
  {
   "cell_type": "code",
   "execution_count": 93,
   "outputs": [
    {
     "data": {
      "text/plain": "                                                                     text  \\\nuser_id                                                                     \n-1BSu2dt_rOAqllw9ZDXtA  [Hank and I love Brocatos!The freshest ingredi...   \n-6DoXmdXEy_P5N-QZzntgA  [With a home airport like ORD, SBA is an incre...   \n-8NOuak4Sipn7-zy7Nk5hg  [One of Philadelphia's best restaurants in my ...   \n-8rSnT5ztVk6vmTDkxTqsQ  [Great space! Loved the accessibility to outdo...   \n-C7xxeVQI5qEZGAzFdx-cg  [This place is the best! Their food isn't spic...   \n\n                                                        stars  \\\nuser_id                                                         \n-1BSu2dt_rOAqllw9ZDXtA    ([0, 1, 2, 3, 4], [6, 9, 11, 0, 1])   \n-6DoXmdXEy_P5N-QZzntgA  ([5, 8, 12, 0, 1], [7, 10, 11, 0, 1])   \n-8NOuak4Sipn7-zy7Nk5hg   ([0, 1, 3, 4, 5], [11, 8, 6, 2, 12])   \n-8rSnT5ztVk6vmTDkxTqsQ  ([10, 0, 1, 2, 4], [3, 9, 11, 14, 5])   \n-C7xxeVQI5qEZGAzFdx-cg     ([0, 2, 3, 5, 7], [4, 9, 1, 6, 0])   \n\n                                                                     embs  \\\nuser_id                                                                     \n-1BSu2dt_rOAqllw9ZDXtA  [[0.4294569, -0.74091864, 2.5334587, -1.151932...   \n-6DoXmdXEy_P5N-QZzntgA  [[0.78651774, -1.0710886, 2.6585214, -1.109733...   \n-8NOuak4Sipn7-zy7Nk5hg  [[1.1762301, -1.0045295, 2.9417152, -1.2765405...   \n-8rSnT5ztVk6vmTDkxTqsQ  [[1.127403, -0.9143411, 2.9474373, -1.2328093,...   \n-C7xxeVQI5qEZGAzFdx-cg  [[0.9144162, -0.76526994, 2.5454423, -1.262568...   \n\n                                                                embs_best  \\\nuser_id                                                                     \n-1BSu2dt_rOAqllw9ZDXtA  [[0.4294569, -0.74091864, 2.5334587, -1.151932...   \n-6DoXmdXEy_P5N-QZzntgA  [[0.78651774, -1.0710886, 2.6585214, -1.109733...   \n-8NOuak4Sipn7-zy7Nk5hg  [[1.1762301, -1.0045295, 2.9417152, -1.2765405...   \n-8rSnT5ztVk6vmTDkxTqsQ  [[1.127403, -0.9143411, 2.9474373, -1.2328093,...   \n-C7xxeVQI5qEZGAzFdx-cg  [[0.9144162, -0.76526994, 2.5454423, -1.262568...   \n\n                                                               embs_worst  \nuser_id                                                                    \n-1BSu2dt_rOAqllw9ZDXtA  [[0.7082855, -0.7646998, 2.8138785, -1.3410811...  \n-6DoXmdXEy_P5N-QZzntgA  [[0.4615741, -0.6224606, 2.4306178, -1.099641,...  \n-8NOuak4Sipn7-zy7Nk5hg  [[1.0583673, -0.7620707, 2.6820798, -1.0745525...  \n-8rSnT5ztVk6vmTDkxTqsQ  [[0.57977533, -0.7533637, 2.3341944, -1.041487...  \n-C7xxeVQI5qEZGAzFdx-cg  [[1.2083615, -0.67561406, 2.804841, -1.2537695...  ",
      "text/html": "<div>\n<style scoped>\n    .dataframe tbody tr th:only-of-type {\n        vertical-align: middle;\n    }\n\n    .dataframe tbody tr th {\n        vertical-align: top;\n    }\n\n    .dataframe thead th {\n        text-align: right;\n    }\n</style>\n<table border=\"1\" class=\"dataframe\">\n  <thead>\n    <tr style=\"text-align: right;\">\n      <th></th>\n      <th>text</th>\n      <th>stars</th>\n      <th>embs</th>\n      <th>embs_best</th>\n      <th>embs_worst</th>\n    </tr>\n    <tr>\n      <th>user_id</th>\n      <th></th>\n      <th></th>\n      <th></th>\n      <th></th>\n      <th></th>\n    </tr>\n  </thead>\n  <tbody>\n    <tr>\n      <th>-1BSu2dt_rOAqllw9ZDXtA</th>\n      <td>[Hank and I love Brocatos!The freshest ingredi...</td>\n      <td>([0, 1, 2, 3, 4], [6, 9, 11, 0, 1])</td>\n      <td>[[0.4294569, -0.74091864, 2.5334587, -1.151932...</td>\n      <td>[[0.4294569, -0.74091864, 2.5334587, -1.151932...</td>\n      <td>[[0.7082855, -0.7646998, 2.8138785, -1.3410811...</td>\n    </tr>\n    <tr>\n      <th>-6DoXmdXEy_P5N-QZzntgA</th>\n      <td>[With a home airport like ORD, SBA is an incre...</td>\n      <td>([5, 8, 12, 0, 1], [7, 10, 11, 0, 1])</td>\n      <td>[[0.78651774, -1.0710886, 2.6585214, -1.109733...</td>\n      <td>[[0.78651774, -1.0710886, 2.6585214, -1.109733...</td>\n      <td>[[0.4615741, -0.6224606, 2.4306178, -1.099641,...</td>\n    </tr>\n    <tr>\n      <th>-8NOuak4Sipn7-zy7Nk5hg</th>\n      <td>[One of Philadelphia's best restaurants in my ...</td>\n      <td>([0, 1, 3, 4, 5], [11, 8, 6, 2, 12])</td>\n      <td>[[1.1762301, -1.0045295, 2.9417152, -1.2765405...</td>\n      <td>[[1.1762301, -1.0045295, 2.9417152, -1.2765405...</td>\n      <td>[[1.0583673, -0.7620707, 2.6820798, -1.0745525...</td>\n    </tr>\n    <tr>\n      <th>-8rSnT5ztVk6vmTDkxTqsQ</th>\n      <td>[Great space! Loved the accessibility to outdo...</td>\n      <td>([10, 0, 1, 2, 4], [3, 9, 11, 14, 5])</td>\n      <td>[[1.127403, -0.9143411, 2.9474373, -1.2328093,...</td>\n      <td>[[1.127403, -0.9143411, 2.9474373, -1.2328093,...</td>\n      <td>[[0.57977533, -0.7533637, 2.3341944, -1.041487...</td>\n    </tr>\n    <tr>\n      <th>-C7xxeVQI5qEZGAzFdx-cg</th>\n      <td>[This place is the best! Their food isn't spic...</td>\n      <td>([0, 2, 3, 5, 7], [4, 9, 1, 6, 0])</td>\n      <td>[[0.9144162, -0.76526994, 2.5454423, -1.262568...</td>\n      <td>[[0.9144162, -0.76526994, 2.5454423, -1.262568...</td>\n      <td>[[1.2083615, -0.67561406, 2.804841, -1.2537695...</td>\n    </tr>\n  </tbody>\n</table>\n</div>"
     },
     "execution_count": 93,
     "metadata": {},
     "output_type": "execute_result"
    }
   ],
   "source": [
    "reviews.head()"
   ],
   "metadata": {
    "collapsed": false
   }
  },
  {
   "cell_type": "code",
   "execution_count": 94,
   "outputs": [],
   "source": [
    "# gerando media dos embeddings\n",
    "reviews['embs_best'] = reviews.embs_best.apply(lambda x: np.mean(x, axis=0))\n",
    "reviews['embs_worst'] = reviews.embs_worst.apply(lambda x: np.mean(x, axis=0))"
   ],
   "metadata": {
    "collapsed": false
   }
  },
  {
   "cell_type": "code",
   "execution_count": 97,
   "outputs": [
    {
     "data": {
      "text/plain": "count    1000.0\nmean      768.0\nstd         0.0\nmin       768.0\n25%       768.0\n50%       768.0\n75%       768.0\nmax       768.0\nName: embs_best, dtype: float64"
     },
     "execution_count": 97,
     "metadata": {},
     "output_type": "execute_result"
    }
   ],
   "source": [
    "reviews.embs_best.apply(len).describe()"
   ],
   "metadata": {
    "collapsed": false
   }
  },
  {
   "cell_type": "code",
   "execution_count": 98,
   "outputs": [],
   "source": [
    "# salvando em parquet os resultados\n",
    "reviews[['embs_best', 'embs_worst']].to_parquet('../data/embeddingsUsers.parquet')"
   ],
   "metadata": {
    "collapsed": false
   }
  },
  {
   "cell_type": "code",
   "execution_count": null,
   "outputs": [],
   "source": [],
   "metadata": {
    "collapsed": false
   }
  }
 ],
 "metadata": {
  "kernelspec": {
   "display_name": "Python 3",
   "language": "python",
   "name": "python3"
  },
  "language_info": {
   "codemirror_mode": {
    "name": "ipython",
    "version": 2
   },
   "file_extension": ".py",
   "mimetype": "text/x-python",
   "name": "python",
   "nbconvert_exporter": "python",
   "pygments_lexer": "ipython2",
   "version": "2.7.6"
  }
 },
 "nbformat": 4,
 "nbformat_minor": 0
}
